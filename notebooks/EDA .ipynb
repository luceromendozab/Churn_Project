{
 "cells": [
  {
   "cell_type": "code",
   "execution_count": 31,
   "metadata": {},
   "outputs": [],
   "source": [
    "import pandas as pd\n",
    "import numpy as np\n",
    "\n",
    "# librerías de visualización\n",
    "import seaborn as sns\n",
    "import matplotlib.pyplot as plt\n",
    "\n",
    "# librerías para crear el modelo\n",
    "from sklearn.model_selection import train_test_split\n",
    "from sklearn.preprocessing import StandardScaler\n",
    "from sklearn.model_selection import GridSearchCV\n",
    "from sklearn.preprocessing import OneHotEncoder  \n",
    "\n",
    "from sklearn.model_selection import GridSearchCV\n",
    "\n",
    "from sklearn import tree\n",
    "\n",
    "# para calcular las métricas\n",
    "from sklearn.metrics import confusion_matrix\n",
    "from sklearn.metrics import accuracy_score \n",
    "from sklearn.metrics import precision_score \n",
    "from sklearn.metrics import recall_score \n",
    "from sklearn.metrics import f1_score \n",
    "from sklearn.metrics import cohen_kappa_score\n",
    "\n",
    "\n",
    "from sklearn.linear_model import LogisticRegression\n",
    "from sklearn.ensemble import RandomForestClassifier\n",
    "from sklearn.tree import DecisionTreeClassifier\n",
    "\n",
    "\n",
    "from sklearn.preprocessing import OrdinalEncoder\n",
    "from sklearn.model_selection import cross_val_score\n",
    "from sklearn.neighbors import KNeighborsClassifier\n",
    "from sklearn.metrics import classification_report, confusion_matrix, accuracy_score\n",
    "from sklearn.ensemble import GradientBoostingClassifier\n",
    "from sklearn.model_selection import RandomizedSearchCV\n",
    "\n",
    "import warnings\n",
    "warnings.filterwarnings(\"ignore\")"
   ]
  },
  {
   "cell_type": "code",
   "execution_count": 66,
   "metadata": {},
   "outputs": [
    {
     "data": {
      "text/html": [
       "<div>\n",
       "<style scoped>\n",
       "    .dataframe tbody tr th:only-of-type {\n",
       "        vertical-align: middle;\n",
       "    }\n",
       "\n",
       "    .dataframe tbody tr th {\n",
       "        vertical-align: top;\n",
       "    }\n",
       "\n",
       "    .dataframe thead th {\n",
       "        text-align: right;\n",
       "    }\n",
       "</style>\n",
       "<table border=\"1\" class=\"dataframe\">\n",
       "  <thead>\n",
       "    <tr style=\"text-align: right;\">\n",
       "      <th></th>\n",
       "      <th>Customer ID</th>\n",
       "      <th>Gender</th>\n",
       "      <th>Age</th>\n",
       "      <th>Married</th>\n",
       "      <th>Number of Dependents</th>\n",
       "      <th>City</th>\n",
       "      <th>Population</th>\n",
       "      <th>Number of Referrals</th>\n",
       "      <th>Tenure in Months</th>\n",
       "      <th>Offer</th>\n",
       "      <th>...</th>\n",
       "      <th>Total Extra Data Charges</th>\n",
       "      <th>Total Long Distance Charges</th>\n",
       "      <th>Total Revenue</th>\n",
       "      <th>Satisfaction Score</th>\n",
       "      <th>Customer Status</th>\n",
       "      <th>Churn Value</th>\n",
       "      <th>Churn Score</th>\n",
       "      <th>CLTV</th>\n",
       "      <th>Churn Category</th>\n",
       "      <th>Churn Reason</th>\n",
       "    </tr>\n",
       "  </thead>\n",
       "  <tbody>\n",
       "    <tr>\n",
       "      <th>0</th>\n",
       "      <td>8779-QRDMV</td>\n",
       "      <td>Male</td>\n",
       "      <td>78</td>\n",
       "      <td>No</td>\n",
       "      <td>0</td>\n",
       "      <td>Los Angeles</td>\n",
       "      <td>68701</td>\n",
       "      <td>0</td>\n",
       "      <td>1</td>\n",
       "      <td>None</td>\n",
       "      <td>...</td>\n",
       "      <td>20</td>\n",
       "      <td>0.00</td>\n",
       "      <td>59.65</td>\n",
       "      <td>3</td>\n",
       "      <td>Churned</td>\n",
       "      <td>1</td>\n",
       "      <td>91</td>\n",
       "      <td>5433</td>\n",
       "      <td>Competitor</td>\n",
       "      <td>Competitor offered more data</td>\n",
       "    </tr>\n",
       "    <tr>\n",
       "      <th>1</th>\n",
       "      <td>7495-OOKFY</td>\n",
       "      <td>Female</td>\n",
       "      <td>74</td>\n",
       "      <td>Yes</td>\n",
       "      <td>1</td>\n",
       "      <td>Los Angeles</td>\n",
       "      <td>55668</td>\n",
       "      <td>1</td>\n",
       "      <td>8</td>\n",
       "      <td>Offer E</td>\n",
       "      <td>...</td>\n",
       "      <td>0</td>\n",
       "      <td>390.80</td>\n",
       "      <td>1024.10</td>\n",
       "      <td>3</td>\n",
       "      <td>Churned</td>\n",
       "      <td>1</td>\n",
       "      <td>69</td>\n",
       "      <td>5302</td>\n",
       "      <td>Competitor</td>\n",
       "      <td>Competitor made better offer</td>\n",
       "    </tr>\n",
       "    <tr>\n",
       "      <th>2</th>\n",
       "      <td>1658-BYGOY</td>\n",
       "      <td>Male</td>\n",
       "      <td>71</td>\n",
       "      <td>No</td>\n",
       "      <td>3</td>\n",
       "      <td>Los Angeles</td>\n",
       "      <td>47534</td>\n",
       "      <td>0</td>\n",
       "      <td>18</td>\n",
       "      <td>Offer D</td>\n",
       "      <td>...</td>\n",
       "      <td>0</td>\n",
       "      <td>203.94</td>\n",
       "      <td>1910.88</td>\n",
       "      <td>2</td>\n",
       "      <td>Churned</td>\n",
       "      <td>1</td>\n",
       "      <td>81</td>\n",
       "      <td>3179</td>\n",
       "      <td>Competitor</td>\n",
       "      <td>Competitor made better offer</td>\n",
       "    </tr>\n",
       "    <tr>\n",
       "      <th>3</th>\n",
       "      <td>4598-XLKNJ</td>\n",
       "      <td>Female</td>\n",
       "      <td>78</td>\n",
       "      <td>Yes</td>\n",
       "      <td>1</td>\n",
       "      <td>Inglewood</td>\n",
       "      <td>27778</td>\n",
       "      <td>1</td>\n",
       "      <td>25</td>\n",
       "      <td>Offer C</td>\n",
       "      <td>...</td>\n",
       "      <td>0</td>\n",
       "      <td>494.00</td>\n",
       "      <td>2995.07</td>\n",
       "      <td>2</td>\n",
       "      <td>Churned</td>\n",
       "      <td>1</td>\n",
       "      <td>88</td>\n",
       "      <td>5337</td>\n",
       "      <td>Dissatisfaction</td>\n",
       "      <td>Limited range of services</td>\n",
       "    </tr>\n",
       "    <tr>\n",
       "      <th>4</th>\n",
       "      <td>4846-WHAFZ</td>\n",
       "      <td>Female</td>\n",
       "      <td>80</td>\n",
       "      <td>Yes</td>\n",
       "      <td>1</td>\n",
       "      <td>Whittier</td>\n",
       "      <td>26265</td>\n",
       "      <td>1</td>\n",
       "      <td>37</td>\n",
       "      <td>Offer C</td>\n",
       "      <td>...</td>\n",
       "      <td>0</td>\n",
       "      <td>234.21</td>\n",
       "      <td>3102.36</td>\n",
       "      <td>2</td>\n",
       "      <td>Churned</td>\n",
       "      <td>1</td>\n",
       "      <td>67</td>\n",
       "      <td>2793</td>\n",
       "      <td>Price</td>\n",
       "      <td>Extra data charges</td>\n",
       "    </tr>\n",
       "  </tbody>\n",
       "</table>\n",
       "<p>5 rows × 40 columns</p>\n",
       "</div>"
      ],
      "text/plain": [
       "  Customer ID  Gender  Age Married  Number of Dependents         City  \\\n",
       "0  8779-QRDMV    Male   78      No                     0  Los Angeles   \n",
       "1  7495-OOKFY  Female   74     Yes                     1  Los Angeles   \n",
       "2  1658-BYGOY    Male   71      No                     3  Los Angeles   \n",
       "3  4598-XLKNJ  Female   78     Yes                     1    Inglewood   \n",
       "4  4846-WHAFZ  Female   80     Yes                     1     Whittier   \n",
       "\n",
       "   Population  Number of Referrals  Tenure in Months    Offer  ...  \\\n",
       "0       68701                    0                 1     None  ...   \n",
       "1       55668                    1                 8  Offer E  ...   \n",
       "2       47534                    0                18  Offer D  ...   \n",
       "3       27778                    1                25  Offer C  ...   \n",
       "4       26265                    1                37  Offer C  ...   \n",
       "\n",
       "  Total Extra Data Charges  Total Long Distance Charges Total Revenue  \\\n",
       "0                       20                         0.00         59.65   \n",
       "1                        0                       390.80       1024.10   \n",
       "2                        0                       203.94       1910.88   \n",
       "3                        0                       494.00       2995.07   \n",
       "4                        0                       234.21       3102.36   \n",
       "\n",
       "  Satisfaction Score Customer Status  Churn Value Churn Score  CLTV  \\\n",
       "0                  3         Churned            1          91  5433   \n",
       "1                  3         Churned            1          69  5302   \n",
       "2                  2         Churned            1          81  3179   \n",
       "3                  2         Churned            1          88  5337   \n",
       "4                  2         Churned            1          67  2793   \n",
       "\n",
       "    Churn Category                  Churn Reason  \n",
       "0       Competitor  Competitor offered more data  \n",
       "1       Competitor  Competitor made better offer  \n",
       "2       Competitor  Competitor made better offer  \n",
       "3  Dissatisfaction     Limited range of services  \n",
       "4            Price            Extra data charges  \n",
       "\n",
       "[5 rows x 40 columns]"
      ]
     },
     "execution_count": 66,
     "metadata": {},
     "output_type": "execute_result"
    }
   ],
   "source": [
    "df22 = pd.read_csv(\"../data/ML/df_final.csv\")\n",
    "df22.head()"
   ]
  },
  {
   "cell_type": "code",
   "execution_count": 68,
   "metadata": {},
   "outputs": [
    {
     "data": {
      "text/html": [
       "<div>\n",
       "<style scoped>\n",
       "    .dataframe tbody tr th:only-of-type {\n",
       "        vertical-align: middle;\n",
       "    }\n",
       "\n",
       "    .dataframe tbody tr th {\n",
       "        vertical-align: top;\n",
       "    }\n",
       "\n",
       "    .dataframe thead th {\n",
       "        text-align: right;\n",
       "    }\n",
       "</style>\n",
       "<table border=\"1\" class=\"dataframe\">\n",
       "  <thead>\n",
       "    <tr style=\"text-align: right;\">\n",
       "      <th></th>\n",
       "      <th>count</th>\n",
       "      <th>mean</th>\n",
       "      <th>std</th>\n",
       "      <th>min</th>\n",
       "      <th>25%</th>\n",
       "      <th>50%</th>\n",
       "      <th>75%</th>\n",
       "      <th>max</th>\n",
       "    </tr>\n",
       "  </thead>\n",
       "  <tbody>\n",
       "    <tr>\n",
       "      <th>Age</th>\n",
       "      <td>7043.0</td>\n",
       "      <td>46.509726</td>\n",
       "      <td>16.750352</td>\n",
       "      <td>19.00</td>\n",
       "      <td>32.000</td>\n",
       "      <td>46.00</td>\n",
       "      <td>60.000</td>\n",
       "      <td>80.00</td>\n",
       "    </tr>\n",
       "    <tr>\n",
       "      <th>Number of Dependents</th>\n",
       "      <td>7043.0</td>\n",
       "      <td>0.468692</td>\n",
       "      <td>0.962802</td>\n",
       "      <td>0.00</td>\n",
       "      <td>0.000</td>\n",
       "      <td>0.00</td>\n",
       "      <td>0.000</td>\n",
       "      <td>9.00</td>\n",
       "    </tr>\n",
       "    <tr>\n",
       "      <th>Population</th>\n",
       "      <td>7043.0</td>\n",
       "      <td>22139.603294</td>\n",
       "      <td>21152.392837</td>\n",
       "      <td>11.00</td>\n",
       "      <td>2344.000</td>\n",
       "      <td>17554.00</td>\n",
       "      <td>36125.000</td>\n",
       "      <td>105285.00</td>\n",
       "    </tr>\n",
       "    <tr>\n",
       "      <th>Number of Referrals</th>\n",
       "      <td>7043.0</td>\n",
       "      <td>1.951867</td>\n",
       "      <td>3.001199</td>\n",
       "      <td>0.00</td>\n",
       "      <td>0.000</td>\n",
       "      <td>0.00</td>\n",
       "      <td>3.000</td>\n",
       "      <td>11.00</td>\n",
       "    </tr>\n",
       "    <tr>\n",
       "      <th>Tenure in Months</th>\n",
       "      <td>7043.0</td>\n",
       "      <td>32.386767</td>\n",
       "      <td>24.542061</td>\n",
       "      <td>1.00</td>\n",
       "      <td>9.000</td>\n",
       "      <td>29.00</td>\n",
       "      <td>55.000</td>\n",
       "      <td>72.00</td>\n",
       "    </tr>\n",
       "    <tr>\n",
       "      <th>Avg Monthly Long Distance Charges</th>\n",
       "      <td>7043.0</td>\n",
       "      <td>22.958954</td>\n",
       "      <td>15.448113</td>\n",
       "      <td>0.00</td>\n",
       "      <td>9.210</td>\n",
       "      <td>22.89</td>\n",
       "      <td>36.395</td>\n",
       "      <td>49.99</td>\n",
       "    </tr>\n",
       "    <tr>\n",
       "      <th>Avg Monthly GB Download</th>\n",
       "      <td>7043.0</td>\n",
       "      <td>20.515405</td>\n",
       "      <td>20.418940</td>\n",
       "      <td>0.00</td>\n",
       "      <td>3.000</td>\n",
       "      <td>17.00</td>\n",
       "      <td>27.000</td>\n",
       "      <td>85.00</td>\n",
       "    </tr>\n",
       "    <tr>\n",
       "      <th>Monthly Charge</th>\n",
       "      <td>7043.0</td>\n",
       "      <td>64.761692</td>\n",
       "      <td>30.090047</td>\n",
       "      <td>18.25</td>\n",
       "      <td>35.500</td>\n",
       "      <td>70.35</td>\n",
       "      <td>89.850</td>\n",
       "      <td>118.75</td>\n",
       "    </tr>\n",
       "    <tr>\n",
       "      <th>Total Charges</th>\n",
       "      <td>7043.0</td>\n",
       "      <td>2280.381264</td>\n",
       "      <td>2266.220462</td>\n",
       "      <td>18.80</td>\n",
       "      <td>400.150</td>\n",
       "      <td>1394.55</td>\n",
       "      <td>3786.600</td>\n",
       "      <td>8684.80</td>\n",
       "    </tr>\n",
       "    <tr>\n",
       "      <th>Total Refunds</th>\n",
       "      <td>7043.0</td>\n",
       "      <td>1.962182</td>\n",
       "      <td>7.902614</td>\n",
       "      <td>0.00</td>\n",
       "      <td>0.000</td>\n",
       "      <td>0.00</td>\n",
       "      <td>0.000</td>\n",
       "      <td>49.79</td>\n",
       "    </tr>\n",
       "    <tr>\n",
       "      <th>Total Extra Data Charges</th>\n",
       "      <td>7043.0</td>\n",
       "      <td>6.860713</td>\n",
       "      <td>25.104978</td>\n",
       "      <td>0.00</td>\n",
       "      <td>0.000</td>\n",
       "      <td>0.00</td>\n",
       "      <td>0.000</td>\n",
       "      <td>150.00</td>\n",
       "    </tr>\n",
       "    <tr>\n",
       "      <th>Total Long Distance Charges</th>\n",
       "      <td>7043.0</td>\n",
       "      <td>749.099262</td>\n",
       "      <td>846.660055</td>\n",
       "      <td>0.00</td>\n",
       "      <td>70.545</td>\n",
       "      <td>401.44</td>\n",
       "      <td>1191.100</td>\n",
       "      <td>3564.72</td>\n",
       "    </tr>\n",
       "    <tr>\n",
       "      <th>Total Revenue</th>\n",
       "      <td>7043.0</td>\n",
       "      <td>3034.379056</td>\n",
       "      <td>2865.204542</td>\n",
       "      <td>21.36</td>\n",
       "      <td>605.610</td>\n",
       "      <td>2108.64</td>\n",
       "      <td>4801.145</td>\n",
       "      <td>11979.34</td>\n",
       "    </tr>\n",
       "    <tr>\n",
       "      <th>Satisfaction Score</th>\n",
       "      <td>7043.0</td>\n",
       "      <td>3.244924</td>\n",
       "      <td>1.201657</td>\n",
       "      <td>1.00</td>\n",
       "      <td>3.000</td>\n",
       "      <td>3.00</td>\n",
       "      <td>4.000</td>\n",
       "      <td>5.00</td>\n",
       "    </tr>\n",
       "    <tr>\n",
       "      <th>Churn Value</th>\n",
       "      <td>7043.0</td>\n",
       "      <td>0.265370</td>\n",
       "      <td>0.441561</td>\n",
       "      <td>0.00</td>\n",
       "      <td>0.000</td>\n",
       "      <td>0.00</td>\n",
       "      <td>1.000</td>\n",
       "      <td>1.00</td>\n",
       "    </tr>\n",
       "    <tr>\n",
       "      <th>Churn Score</th>\n",
       "      <td>7043.0</td>\n",
       "      <td>58.505040</td>\n",
       "      <td>21.170031</td>\n",
       "      <td>5.00</td>\n",
       "      <td>40.000</td>\n",
       "      <td>61.00</td>\n",
       "      <td>75.500</td>\n",
       "      <td>96.00</td>\n",
       "    </tr>\n",
       "    <tr>\n",
       "      <th>CLTV</th>\n",
       "      <td>7043.0</td>\n",
       "      <td>4400.295755</td>\n",
       "      <td>1183.057152</td>\n",
       "      <td>2003.00</td>\n",
       "      <td>3469.000</td>\n",
       "      <td>4527.00</td>\n",
       "      <td>5380.500</td>\n",
       "      <td>6500.00</td>\n",
       "    </tr>\n",
       "  </tbody>\n",
       "</table>\n",
       "</div>"
      ],
      "text/plain": [
       "                                    count          mean           std  \\\n",
       "Age                                7043.0     46.509726     16.750352   \n",
       "Number of Dependents               7043.0      0.468692      0.962802   \n",
       "Population                         7043.0  22139.603294  21152.392837   \n",
       "Number of Referrals                7043.0      1.951867      3.001199   \n",
       "Tenure in Months                   7043.0     32.386767     24.542061   \n",
       "Avg Monthly Long Distance Charges  7043.0     22.958954     15.448113   \n",
       "Avg Monthly GB Download            7043.0     20.515405     20.418940   \n",
       "Monthly Charge                     7043.0     64.761692     30.090047   \n",
       "Total Charges                      7043.0   2280.381264   2266.220462   \n",
       "Total Refunds                      7043.0      1.962182      7.902614   \n",
       "Total Extra Data Charges           7043.0      6.860713     25.104978   \n",
       "Total Long Distance Charges        7043.0    749.099262    846.660055   \n",
       "Total Revenue                      7043.0   3034.379056   2865.204542   \n",
       "Satisfaction Score                 7043.0      3.244924      1.201657   \n",
       "Churn Value                        7043.0      0.265370      0.441561   \n",
       "Churn Score                        7043.0     58.505040     21.170031   \n",
       "CLTV                               7043.0   4400.295755   1183.057152   \n",
       "\n",
       "                                       min       25%       50%        75%  \\\n",
       "Age                                  19.00    32.000     46.00     60.000   \n",
       "Number of Dependents                  0.00     0.000      0.00      0.000   \n",
       "Population                           11.00  2344.000  17554.00  36125.000   \n",
       "Number of Referrals                   0.00     0.000      0.00      3.000   \n",
       "Tenure in Months                      1.00     9.000     29.00     55.000   \n",
       "Avg Monthly Long Distance Charges     0.00     9.210     22.89     36.395   \n",
       "Avg Monthly GB Download               0.00     3.000     17.00     27.000   \n",
       "Monthly Charge                       18.25    35.500     70.35     89.850   \n",
       "Total Charges                        18.80   400.150   1394.55   3786.600   \n",
       "Total Refunds                         0.00     0.000      0.00      0.000   \n",
       "Total Extra Data Charges              0.00     0.000      0.00      0.000   \n",
       "Total Long Distance Charges           0.00    70.545    401.44   1191.100   \n",
       "Total Revenue                        21.36   605.610   2108.64   4801.145   \n",
       "Satisfaction Score                    1.00     3.000      3.00      4.000   \n",
       "Churn Value                           0.00     0.000      0.00      1.000   \n",
       "Churn Score                           5.00    40.000     61.00     75.500   \n",
       "CLTV                               2003.00  3469.000   4527.00   5380.500   \n",
       "\n",
       "                                         max  \n",
       "Age                                    80.00  \n",
       "Number of Dependents                    9.00  \n",
       "Population                         105285.00  \n",
       "Number of Referrals                    11.00  \n",
       "Tenure in Months                       72.00  \n",
       "Avg Monthly Long Distance Charges      49.99  \n",
       "Avg Monthly GB Download                85.00  \n",
       "Monthly Charge                        118.75  \n",
       "Total Charges                        8684.80  \n",
       "Total Refunds                          49.79  \n",
       "Total Extra Data Charges              150.00  \n",
       "Total Long Distance Charges          3564.72  \n",
       "Total Revenue                       11979.34  \n",
       "Satisfaction Score                      5.00  \n",
       "Churn Value                             1.00  \n",
       "Churn Score                            96.00  \n",
       "CLTV                                 6500.00  "
      ]
     },
     "execution_count": 68,
     "metadata": {},
     "output_type": "execute_result"
    }
   ],
   "source": [
    "df22.describe().T"
   ]
  },
  {
   "cell_type": "code",
   "execution_count": 79,
   "metadata": {},
   "outputs": [
    {
     "data": {
      "text/plain": [
       "Index(['Customer ID', 'Gender', 'Age', 'Married', 'Number of Dependents',\n",
       "       'City', 'Population', 'Number of Referrals', 'Tenure in Months',\n",
       "       'Offer', 'Phone Service', 'Avg Monthly Long Distance Charges',\n",
       "       'Multiple Lines', 'Internet Service', 'Internet Type',\n",
       "       'Avg Monthly GB Download', 'Online Security', 'Online Backup',\n",
       "       'Device Protection Plan', 'Premium Tech Support', 'Streaming TV',\n",
       "       'Streaming Movies', 'Streaming Music', 'Unlimited Data', 'Contract',\n",
       "       'Paperless Billing', 'Payment Method', 'Monthly Charge',\n",
       "       'Total Charges', 'Total Refunds', 'Total Extra Data Charges',\n",
       "       'Total Long Distance Charges', 'Total Revenue', 'Satisfaction Score',\n",
       "       'Customer Status', 'Churn Value', 'Churn Score', 'CLTV',\n",
       "       'Churn Category', 'Churn Reason'],\n",
       "      dtype='object')"
      ]
     },
     "execution_count": 79,
     "metadata": {},
     "output_type": "execute_result"
    }
   ],
   "source": [
    "df22.columns"
   ]
  },
  {
   "cell_type": "code",
   "execution_count": 91,
   "metadata": {},
   "outputs": [
    {
     "data": {
      "text/plain": [
       "Fiber Optic    3035\n",
       "DSL            1652\n",
       "None           1526\n",
       "Cable           830\n",
       "Name: Internet Type, dtype: int64"
      ]
     },
     "execution_count": 91,
     "metadata": {},
     "output_type": "execute_result"
    }
   ],
   "source": [
    "df22[\"Internet Type\"].value_counts()"
   ]
  },
  {
   "cell_type": "markdown",
   "metadata": {},
   "source": [
    "# Carga de datos "
   ]
  },
  {
   "cell_type": "code",
   "execution_count": 32,
   "metadata": {},
   "outputs": [
    {
     "data": {
      "text/html": [
       "<div>\n",
       "<style scoped>\n",
       "    .dataframe tbody tr th:only-of-type {\n",
       "        vertical-align: middle;\n",
       "    }\n",
       "\n",
       "    .dataframe tbody tr th {\n",
       "        vertical-align: top;\n",
       "    }\n",
       "\n",
       "    .dataframe thead th {\n",
       "        text-align: right;\n",
       "    }\n",
       "</style>\n",
       "<table border=\"1\" class=\"dataframe\">\n",
       "  <thead>\n",
       "    <tr style=\"text-align: right;\">\n",
       "      <th></th>\n",
       "      <th>Customer ID</th>\n",
       "      <th>Gender</th>\n",
       "      <th>Age</th>\n",
       "      <th>Married</th>\n",
       "      <th>Number of Dependents</th>\n",
       "      <th>City</th>\n",
       "      <th>Population</th>\n",
       "      <th>Number of Referrals</th>\n",
       "      <th>Tenure in Months</th>\n",
       "      <th>Offer</th>\n",
       "      <th>...</th>\n",
       "      <th>Total Extra Data Charges</th>\n",
       "      <th>Total Long Distance Charges</th>\n",
       "      <th>Total Revenue</th>\n",
       "      <th>Satisfaction Score</th>\n",
       "      <th>Customer Status</th>\n",
       "      <th>Churn Value</th>\n",
       "      <th>Churn Score</th>\n",
       "      <th>CLTV</th>\n",
       "      <th>Churn Category</th>\n",
       "      <th>Churn Reason</th>\n",
       "    </tr>\n",
       "  </thead>\n",
       "  <tbody>\n",
       "    <tr>\n",
       "      <th>0</th>\n",
       "      <td>8779-QRDMV</td>\n",
       "      <td>Male</td>\n",
       "      <td>78</td>\n",
       "      <td>No</td>\n",
       "      <td>0</td>\n",
       "      <td>Los Angeles</td>\n",
       "      <td>68701</td>\n",
       "      <td>0</td>\n",
       "      <td>1</td>\n",
       "      <td>None</td>\n",
       "      <td>...</td>\n",
       "      <td>20</td>\n",
       "      <td>0.00</td>\n",
       "      <td>59.65</td>\n",
       "      <td>3</td>\n",
       "      <td>Churned</td>\n",
       "      <td>1</td>\n",
       "      <td>91</td>\n",
       "      <td>5433</td>\n",
       "      <td>Competitor</td>\n",
       "      <td>Competitor offered more data</td>\n",
       "    </tr>\n",
       "    <tr>\n",
       "      <th>1</th>\n",
       "      <td>7495-OOKFY</td>\n",
       "      <td>Female</td>\n",
       "      <td>74</td>\n",
       "      <td>Yes</td>\n",
       "      <td>1</td>\n",
       "      <td>Los Angeles</td>\n",
       "      <td>55668</td>\n",
       "      <td>1</td>\n",
       "      <td>8</td>\n",
       "      <td>Offer E</td>\n",
       "      <td>...</td>\n",
       "      <td>0</td>\n",
       "      <td>390.80</td>\n",
       "      <td>1024.10</td>\n",
       "      <td>3</td>\n",
       "      <td>Churned</td>\n",
       "      <td>1</td>\n",
       "      <td>69</td>\n",
       "      <td>5302</td>\n",
       "      <td>Competitor</td>\n",
       "      <td>Competitor made better offer</td>\n",
       "    </tr>\n",
       "    <tr>\n",
       "      <th>2</th>\n",
       "      <td>1658-BYGOY</td>\n",
       "      <td>Male</td>\n",
       "      <td>71</td>\n",
       "      <td>No</td>\n",
       "      <td>3</td>\n",
       "      <td>Los Angeles</td>\n",
       "      <td>47534</td>\n",
       "      <td>0</td>\n",
       "      <td>18</td>\n",
       "      <td>Offer D</td>\n",
       "      <td>...</td>\n",
       "      <td>0</td>\n",
       "      <td>203.94</td>\n",
       "      <td>1910.88</td>\n",
       "      <td>2</td>\n",
       "      <td>Churned</td>\n",
       "      <td>1</td>\n",
       "      <td>81</td>\n",
       "      <td>3179</td>\n",
       "      <td>Competitor</td>\n",
       "      <td>Competitor made better offer</td>\n",
       "    </tr>\n",
       "    <tr>\n",
       "      <th>3</th>\n",
       "      <td>4598-XLKNJ</td>\n",
       "      <td>Female</td>\n",
       "      <td>78</td>\n",
       "      <td>Yes</td>\n",
       "      <td>1</td>\n",
       "      <td>Inglewood</td>\n",
       "      <td>27778</td>\n",
       "      <td>1</td>\n",
       "      <td>25</td>\n",
       "      <td>Offer C</td>\n",
       "      <td>...</td>\n",
       "      <td>0</td>\n",
       "      <td>494.00</td>\n",
       "      <td>2995.07</td>\n",
       "      <td>2</td>\n",
       "      <td>Churned</td>\n",
       "      <td>1</td>\n",
       "      <td>88</td>\n",
       "      <td>5337</td>\n",
       "      <td>Dissatisfaction</td>\n",
       "      <td>Limited range of services</td>\n",
       "    </tr>\n",
       "    <tr>\n",
       "      <th>4</th>\n",
       "      <td>4846-WHAFZ</td>\n",
       "      <td>Female</td>\n",
       "      <td>80</td>\n",
       "      <td>Yes</td>\n",
       "      <td>1</td>\n",
       "      <td>Whittier</td>\n",
       "      <td>26265</td>\n",
       "      <td>1</td>\n",
       "      <td>37</td>\n",
       "      <td>Offer C</td>\n",
       "      <td>...</td>\n",
       "      <td>0</td>\n",
       "      <td>234.21</td>\n",
       "      <td>3102.36</td>\n",
       "      <td>2</td>\n",
       "      <td>Churned</td>\n",
       "      <td>1</td>\n",
       "      <td>67</td>\n",
       "      <td>2793</td>\n",
       "      <td>Price</td>\n",
       "      <td>Extra data charges</td>\n",
       "    </tr>\n",
       "  </tbody>\n",
       "</table>\n",
       "<p>5 rows × 40 columns</p>\n",
       "</div>"
      ],
      "text/plain": [
       "  Customer ID  Gender  Age Married  Number of Dependents         City  \\\n",
       "0  8779-QRDMV    Male   78      No                     0  Los Angeles   \n",
       "1  7495-OOKFY  Female   74     Yes                     1  Los Angeles   \n",
       "2  1658-BYGOY    Male   71      No                     3  Los Angeles   \n",
       "3  4598-XLKNJ  Female   78     Yes                     1    Inglewood   \n",
       "4  4846-WHAFZ  Female   80     Yes                     1     Whittier   \n",
       "\n",
       "   Population  Number of Referrals  Tenure in Months    Offer  ...  \\\n",
       "0       68701                    0                 1     None  ...   \n",
       "1       55668                    1                 8  Offer E  ...   \n",
       "2       47534                    0                18  Offer D  ...   \n",
       "3       27778                    1                25  Offer C  ...   \n",
       "4       26265                    1                37  Offer C  ...   \n",
       "\n",
       "  Total Extra Data Charges  Total Long Distance Charges Total Revenue  \\\n",
       "0                       20                         0.00         59.65   \n",
       "1                        0                       390.80       1024.10   \n",
       "2                        0                       203.94       1910.88   \n",
       "3                        0                       494.00       2995.07   \n",
       "4                        0                       234.21       3102.36   \n",
       "\n",
       "  Satisfaction Score Customer Status  Churn Value Churn Score  CLTV  \\\n",
       "0                  3         Churned            1          91  5433   \n",
       "1                  3         Churned            1          69  5302   \n",
       "2                  2         Churned            1          81  3179   \n",
       "3                  2         Churned            1          88  5337   \n",
       "4                  2         Churned            1          67  2793   \n",
       "\n",
       "    Churn Category                  Churn Reason  \n",
       "0       Competitor  Competitor offered more data  \n",
       "1       Competitor  Competitor made better offer  \n",
       "2       Competitor  Competitor made better offer  \n",
       "3  Dissatisfaction     Limited range of services  \n",
       "4            Price            Extra data charges  \n",
       "\n",
       "[5 rows x 40 columns]"
      ]
     },
     "execution_count": 32,
     "metadata": {},
     "output_type": "execute_result"
    }
   ],
   "source": [
    "df = pd.read_csv(\"../data/ML/df_final.csv\")\n",
    "df.head()"
   ]
  },
  {
   "cell_type": "markdown",
   "metadata": {},
   "source": [
    "# EDA"
   ]
  },
  {
   "cell_type": "code",
   "execution_count": null,
   "metadata": {},
   "outputs": [],
   "source": [
    "# Cuantas filas y columnas tenemos\n",
    "df.shape"
   ]
  },
  {
   "cell_type": "code",
   "execution_count": null,
   "metadata": {},
   "outputs": [],
   "source": [
    "# Cuántos valores nulos tenemos en el dataset\n",
    "df.isnull().sum()"
   ]
  },
  {
   "cell_type": "code",
   "execution_count": null,
   "metadata": {},
   "outputs": [],
   "source": [
    "df[\"Churn Category\"].unique()"
   ]
  },
  {
   "cell_type": "code",
   "execution_count": null,
   "metadata": {},
   "outputs": [],
   "source": [
    "df[\"Churn Reason\"].unique()"
   ]
  },
  {
   "cell_type": "markdown",
   "metadata": {},
   "source": [
    "- Quitaremos de nuestro dataset los clientes que han fallecido y los que se han mudado ya que no aporta información relevante ya que su estancia en la empresa no depende de o que le ofrezacamos sino a situaciones personales externas"
   ]
  },
  {
   "cell_type": "code",
   "execution_count": null,
   "metadata": {},
   "outputs": [],
   "source": [
    "len(df.loc[(df['Churn Reason']==\"Moved\") | (df['Churn Reason']==\"Deceased\") ]\n",
    ")"
   ]
  },
  {
   "cell_type": "code",
   "execution_count": 33,
   "metadata": {},
   "outputs": [],
   "source": [
    "df= df.loc[(df['Churn Reason']!=\"Moved\")  & (df['Churn Reason']!=\"Deceased\") ]"
   ]
  },
  {
   "cell_type": "code",
   "execution_count": 34,
   "metadata": {},
   "outputs": [
    {
     "data": {
      "text/plain": [
       "(6991, 40)"
      ]
     },
     "execution_count": 34,
     "metadata": {},
     "output_type": "execute_result"
    }
   ],
   "source": [
    "df.shape"
   ]
  },
  {
   "cell_type": "code",
   "execution_count": 35,
   "metadata": {},
   "outputs": [],
   "source": [
    "df.drop(columns=[\"Customer ID\",\"Churn Category\",\"Churn Reason\",\"Population\",\"City\"], axis=1, inplace=True)"
   ]
  },
  {
   "cell_type": "code",
   "execution_count": null,
   "metadata": {},
   "outputs": [],
   "source": [
    "# Exploramos los tipos de los datos que tenemos\n",
    "df.dtypes"
   ]
  },
  {
   "cell_type": "code",
   "execution_count": null,
   "metadata": {},
   "outputs": [],
   "source": []
  },
  {
   "cell_type": "code",
   "execution_count": null,
   "metadata": {},
   "outputs": [],
   "source": []
  },
  {
   "cell_type": "markdown",
   "metadata": {},
   "source": [
    "# Variable respuesta"
   ]
  },
  {
   "cell_type": "markdown",
   "metadata": {},
   "source": [
    "- 1 (Si): el cliente se quedó en la empresa\n",
    "- 0 (No) : el cliente se marchó de la empresa"
   ]
  },
  {
   "cell_type": "code",
   "execution_count": null,
   "metadata": {},
   "outputs": [],
   "source": [
    "plt.figure(figsize=(8,5)) # para cambiar el tamaño de la figura\n",
    "\n",
    "fig1 = sns.countplot(data = df, x = \"Churn Value\",  color = \"mediumaquamarine\",  edgecolor='black'); \n",
    "fig1.set(xticklabels=[\"No\", \"Si\"]) \n",
    "plt.show();"
   ]
  },
  {
   "cell_type": "code",
   "execution_count": null,
   "metadata": {},
   "outputs": [],
   "source": [
    "df[\"Churn Value\"].value_counts() / df.shape[0]\n"
   ]
  },
  {
   "cell_type": "markdown",
   "metadata": {},
   "source": [
    "# Variables predictoras"
   ]
  },
  {
   "cell_type": "markdown",
   "metadata": {},
   "source": [
    "## Variables catégoricas\n"
   ]
  },
  {
   "cell_type": "code",
   "execution_count": null,
   "metadata": {},
   "outputs": [],
   "source": [
    "df_categoricas=df.select_dtypes(include = \"object\")"
   ]
  },
  {
   "cell_type": "code",
   "execution_count": null,
   "metadata": {},
   "outputs": [],
   "source": [
    "df_categoricas.head(2)"
   ]
  },
  {
   "cell_type": "markdown",
   "metadata": {},
   "source": [
    "- \"Churned\" significa que el cliente ha abandonado el servicio.\n",
    "- \"Stayed\" significa que el cliente ha permanecido en el servicio.\n",
    "- \"Joined\" significa que el cliente ha adquirido el servicio recientemente."
   ]
  },
  {
   "cell_type": "code",
   "execution_count": null,
   "metadata": {},
   "outputs": [],
   "source": [
    "df_categoricas.columns"
   ]
  },
  {
   "cell_type": "code",
   "execution_count": null,
   "metadata": {},
   "outputs": [],
   "source": [
    "# Gráfico de distribución para cada variable categórica\n",
    "# ==============================================================================\n",
    "\n",
    "fig, axes = plt.subplots(nrows = 7, ncols = 3, figsize = (40, 60))\n",
    "\n",
    "axes = axes.flat\n",
    "\n",
    "columnas_cat = df.select_dtypes(include = \"object\").columns\n",
    "\n",
    "for i, colum in enumerate(columnas_cat): \n",
    "    sns.countplot(\n",
    "        data = df,\n",
    "        x = colum,\n",
    "        hue = \"Churn Value\",\n",
    "        alpha = 0.2,\n",
    "        palette = [\"blue\", \"red\"], # cambia los colores a azul y negro\n",
    "        ax = axes[i])\n",
    "    \n",
    "    axes[i].set_title(colum, fontsize = 25, fontweight = \"bold\")\n",
    "    axes[i].tick_params(labelsize = 20)\n",
    "    axes[i].set_xlabel(\"\")\n",
    "    axes[i].legend(fontsize=20) # aumenta el tamaño de la leyenda\n",
    "\n",
    "fig.delaxes(axes[5])\n",
    "fig.tight_layout()\n"
   ]
  },
  {
   "cell_type": "code",
   "execution_count": null,
   "metadata": {},
   "outputs": [],
   "source": [
    "df_categoricas[\"Customer Status\"].unique()"
   ]
  },
  {
   "cell_type": "markdown",
   "metadata": {},
   "source": [
    "- \"Churned\" significa que el cliente ha abandonado el servicio.\n",
    "- \"Stayed\" significa que el cliente ha permanecido en el servicio.\n",
    "- \"Joined\" significa que el cliente ha adquirido el servicio recientemente."
   ]
  },
  {
   "cell_type": "code",
   "execution_count": 36,
   "metadata": {},
   "outputs": [],
   "source": [
    "#eliminamos la columna Customer Status pues no nos da ninguna información relevante comparandolo con la variable repsuesta\n",
    "df.drop(columns=[\"Customer Status\"], axis=1, inplace=True)"
   ]
  },
  {
   "cell_type": "code",
   "execution_count": null,
   "metadata": {},
   "outputs": [],
   "source": [
    "df.head(1)"
   ]
  },
  {
   "cell_type": "markdown",
   "metadata": {},
   "source": [
    "## Variables numéricas"
   ]
  },
  {
   "cell_type": "code",
   "execution_count": null,
   "metadata": {},
   "outputs": [],
   "source": [
    "# Gráfico de distribución para cada variable numérica\n",
    "# ==============================================================================\n",
    "\n",
    "fig, axes = plt.subplots(nrows = 8, ncols = 2, figsize = (100, 70))\n",
    "\n",
    "axes = axes.flat\n",
    "\n",
    "columnas_numeric = df.select_dtypes(include = np.number).columns\n",
    "columnas_numeric = columnas_numeric.drop(\"Churn Value\")\n",
    "\n",
    "for i, colum in enumerate(columnas_numeric): \n",
    "    sns.histplot(\n",
    "        data = df,\n",
    "        x = colum,\n",
    "        kde = True, \n",
    "        line_kws = {\"linewidth\": 2}, \n",
    "        alpha = 0.2, \n",
    "        color = \"blue\",\n",
    "        ax = axes[i])\n",
    "    \n",
    "    \n",
    "    axes[i].set_title(colum, fontsize = 35, fontweight = \"bold\")\n",
    "    axes[i].tick_params(labelsize = 50)\n",
    "    axes[i].set_xlabel(\"\")\n",
    "    \n",
    "\n",
    "\n",
    "fig.delaxes(axes[5])\n",
    "\n",
    "fig.tight_layout();\n"
   ]
  },
  {
   "cell_type": "code",
   "execution_count": null,
   "metadata": {},
   "outputs": [],
   "source": [
    "df_numericas = df.select_dtypes(include = np.number).drop(\"Churn Value\", axis = 1)\n",
    "correlation = df_numericas.corr()"
   ]
  },
  {
   "cell_type": "code",
   "execution_count": null,
   "metadata": {},
   "outputs": [],
   "source": [
    "plt.figure(figsize=(15,8))\n",
    "mask = np.triu(np.ones_like(correlation, dtype=bool))\n",
    "sns.heatmap(correlation, cmap=\"viridis\", annot = True, mask = mask); #barra lateral"
   ]
  },
  {
   "cell_type": "markdown",
   "metadata": {},
   "source": [
    "- Total Revenue es el conjunto de todas estas columnas: \n",
    "    - Avg Monthly Long Distance Charges\n",
    "    - Monthly Charge\n",
    "    - Total Charges\n",
    "    - Total Refunds\n",
    "    - Total Extra Data Charges\n",
    "    - Total Long Distance Charges"
   ]
  },
  {
   "cell_type": "code",
   "execution_count": 37,
   "metadata": {},
   "outputs": [],
   "source": [
    "df.drop(columns=[\"Avg Monthly Long Distance Charges\",\"Monthly Charge\",\"Total Charges\",\"Total Refunds\",\"Total Extra Data Charges\",\"Total Long Distance Charges\"], axis=1, inplace=True)"
   ]
  },
  {
   "cell_type": "code",
   "execution_count": null,
   "metadata": {},
   "outputs": [],
   "source": [
    "df_numericas2 = df.select_dtypes(include = np.number)\n",
    "correlation2 = df_numericas2.corr()"
   ]
  },
  {
   "cell_type": "code",
   "execution_count": null,
   "metadata": {},
   "outputs": [],
   "source": [
    "plt.figure(figsize=(15,8))\n",
    "mask = np.triu(np.ones_like(correlation2, dtype=bool))\n",
    "sns.heatmap(correlation2, cmap=\"viridis\", annot = True, mask = mask); #barra lateral"
   ]
  },
  {
   "cell_type": "markdown",
   "metadata": {},
   "source": [
    " - \"Churn Score\" está directamente relaionado con la variable respuesta \n",
    " - \"Ternure in months\" está directamente relacionado con \"Ternure Revenue\" ya que entre más tiempo haya estado el cliente en la empresa más dinero en ganancias da a la empresa , puest que tienen más servicios contratados "
   ]
  },
  {
   "cell_type": "code",
   "execution_count": 38,
   "metadata": {},
   "outputs": [],
   "source": [
    "df.drop(columns=[\"Churn Score\",\"Tenure in Months\"], axis=1, inplace=True)"
   ]
  },
  {
   "cell_type": "code",
   "execution_count": null,
   "metadata": {},
   "outputs": [],
   "source": [
    "df_numericas3 = df.select_dtypes(include = np.number)\n",
    "correlation3 = df_numericas3.corr()"
   ]
  },
  {
   "cell_type": "code",
   "execution_count": null,
   "metadata": {},
   "outputs": [],
   "source": [
    "plt.figure(figsize=(15,8))\n",
    "mask = np.triu(np.ones_like(correlation3, dtype=bool))\n",
    "sns.heatmap(correlation3, cmap=\"viridis\", annot = True, mask = mask); #barra lateral"
   ]
  },
  {
   "cell_type": "code",
   "execution_count": null,
   "metadata": {},
   "outputs": [],
   "source": []
  },
  {
   "cell_type": "code",
   "execution_count": null,
   "metadata": {},
   "outputs": [],
   "source": []
  },
  {
   "cell_type": "markdown",
   "metadata": {},
   "source": [
    "# Preprocesamiento\n"
   ]
  },
  {
   "cell_type": "markdown",
   "metadata": {},
   "source": [
    "## Outliers\n"
   ]
  },
  {
   "cell_type": "code",
   "execution_count": null,
   "metadata": {},
   "outputs": [],
   "source": [
    "df_numericas3.head(1)"
   ]
  },
  {
   "cell_type": "code",
   "execution_count": null,
   "metadata": {},
   "outputs": [],
   "source": [
    "df_numericas_1= df_numericas3.copy()"
   ]
  },
  {
   "cell_type": "code",
   "execution_count": null,
   "metadata": {},
   "outputs": [],
   "source": [
    "df_numericas_1.drop(columns=[\"Churn Value\",\"Number of Dependents\",\"Number of Referrals\"], axis=1, inplace=True)"
   ]
  },
  {
   "cell_type": "code",
   "execution_count": null,
   "metadata": {},
   "outputs": [],
   "source": [
    "df_numericas_1.head(1)"
   ]
  },
  {
   "cell_type": "code",
   "execution_count": null,
   "metadata": {},
   "outputs": [],
   "source": [
    "fig, ax = plt.subplots(5, 1, figsize=(30,35))\n",
    "\n",
    "for i in range(len(df_numericas_1.columns)):\n",
    "    sns.boxplot(x=df_numericas_1.columns[i], data=df_numericas_1, ax=ax[i])\n",
    "    ax[i].set_xlabel(df_numericas_1.columns[i], fontsize=20)\n",
    "    \n",
    "plt.show()\n"
   ]
  },
  {
   "cell_type": "code",
   "execution_count": null,
   "metadata": {},
   "outputs": [],
   "source": []
  },
  {
   "cell_type": "code",
   "execution_count": null,
   "metadata": {},
   "outputs": [],
   "source": [
    "def detectar_outliers(lista_columnas, dataframe): \n",
    "    \n",
    "    dicc_indices = {} # creamos un diccionario donde almacenaremos índices de los outliers\n",
    "    \n",
    "    # iteramos por la lista de las columnas numéricas de nuestro dataframe\n",
    "    for col in lista_columnas:\n",
    "        \n",
    "        #calculamos los cuartiles Q1 y Q3\n",
    "        Q1 = np.nanpercentile(df[col], 25)\n",
    "        Q3 = np.nanpercentile(df[col], 75)\n",
    "        \n",
    "        # calculamos el rango intercuartil\n",
    "        IQR = Q3 - Q1\n",
    "        \n",
    "        # calculamos los límites\n",
    "        outlier_step = 1.5 * IQR\n",
    "        \n",
    "        # filtramos nuestro dataframe para indentificar los outliers\n",
    "        outliers_data = dataframe[(dataframe[col] < Q1 - outlier_step) | (dataframe[col] > Q3 + outlier_step)]\n",
    "        \n",
    "        \n",
    "        if outliers_data.shape[0] > 0: # chequeamos si nuestro dataframe tiene alguna fila. \n",
    "        \n",
    "            dicc_indices[col] = (list(outliers_data.index)) # si tiene fila es que hay outliers y por lo tanto lo añadimos a nuestro diccionario\n",
    "        \n",
    "\n",
    "    \n",
    "    return dicc_indices "
   ]
  },
  {
   "cell_type": "code",
   "execution_count": null,
   "metadata": {},
   "outputs": [],
   "source": [
    "df_numericas_1.describe().T"
   ]
  },
  {
   "cell_type": "code",
   "execution_count": null,
   "metadata": {},
   "outputs": [],
   "source": []
  },
  {
   "cell_type": "code",
   "execution_count": null,
   "metadata": {},
   "outputs": [],
   "source": []
  },
  {
   "cell_type": "code",
   "execution_count": null,
   "metadata": {},
   "outputs": [],
   "source": []
  },
  {
   "cell_type": "markdown",
   "metadata": {},
   "source": [
    "# Estandarización "
   ]
  },
  {
   "cell_type": "code",
   "execution_count": null,
   "metadata": {},
   "outputs": [],
   "source": [
    "# Gráfico de distribución para cada variable numérica\n",
    "# ==============================================================================\n",
    "\n",
    "fig, axes = plt.subplots(nrows = 4, ncols = 2, figsize = (100, 70))\n",
    "\n",
    "axes = axes.flat\n",
    "\n",
    "columnas_numeric = df.select_dtypes(include = np.number).columns\n",
    "columnas_numeric = columnas_numeric.drop(\"Churn Value\")\n",
    "\n",
    "for i, colum in enumerate(columnas_numeric): \n",
    "    sns.histplot(\n",
    "        data = df,\n",
    "        x = colum,\n",
    "        kde = True, \n",
    "        line_kws = {\"linewidth\": 2}, \n",
    "        alpha = 0.2, \n",
    "        color = \"blue\",\n",
    "        ax = axes[i])\n",
    "    \n",
    "    \n",
    "    axes[i].set_title(colum, fontsize = 35, fontweight = \"bold\")\n",
    "    axes[i].tick_params(labelsize = 50)\n",
    "    axes[i].set_xlabel(\"\")\n",
    "    \n",
    "\n",
    "\n",
    "fig.delaxes(axes[5])\n",
    "\n",
    "fig.tight_layout();\n"
   ]
  },
  {
   "cell_type": "code",
   "execution_count": null,
   "metadata": {},
   "outputs": [],
   "source": [
    "dfed.head()"
   ]
  },
  {
   "cell_type": "code",
   "execution_count": null,
   "metadata": {},
   "outputs": [],
   "source": []
  },
  {
   "cell_type": "code",
   "execution_count": null,
   "metadata": {},
   "outputs": [],
   "source": []
  },
  {
   "cell_type": "markdown",
   "metadata": {},
   "source": [
    "# Codificación"
   ]
  },
  {
   "cell_type": "code",
   "execution_count": 26,
   "metadata": {},
   "outputs": [],
   "source": [
    "import pickle"
   ]
  },
  {
   "cell_type": "code",
   "execution_count": null,
   "metadata": {},
   "outputs": [],
   "source": [
    "# Gráfico de distribución para cada variable categórica\n",
    "# ==============================================================================\n",
    "\n",
    "fig, axes = plt.subplots(nrows = 6, ncols = 3, figsize = (40, 60))\n",
    "\n",
    "axes = axes.flat\n",
    "\n",
    "columnas_cat = df.select_dtypes(include = \"object\").columns\n",
    "\n",
    "for i, colum in enumerate(columnas_cat): \n",
    "    sns.countplot(\n",
    "        data = df,\n",
    "        x = colum,\n",
    "        hue = \"Churn Value\",\n",
    "        alpha = 0.2,\n",
    "        palette = [\"blue\", \"red\"], # cambia los colores a azul y negro\n",
    "        ax = axes[i])\n",
    "    \n",
    "    axes[i].set_title(colum, fontsize = 25, fontweight = \"bold\")\n",
    "    axes[i].tick_params(labelsize = 20)\n",
    "    axes[i].set_xlabel(\"\")\n",
    "    axes[i].legend(fontsize=20) # aumenta el tamaño de la leyenda\n",
    "\n",
    "fig.delaxes(axes[5])\n",
    "fig.tight_layout()\n"
   ]
  },
  {
   "cell_type": "markdown",
   "metadata": {},
   "source": [
    "## Variables sin orden"
   ]
  },
  {
   "cell_type": "code",
   "execution_count": 39,
   "metadata": {},
   "outputs": [
    {
     "name": "stdout",
     "output_type": "stream",
     "text": [
      " Gender, tiene ['Male' 'Female'] categorias\n",
      "---------------------------------------------------------------------------\n",
      "Multiple Lines has ['No' 'Yes'] categorias\n",
      "---------------------------------------------------------------------------\n",
      "Streaming TV has ['No' 'Yes'] categorias\n",
      "---------------------------------------------------------------------------\n",
      "Streaming Music has ['No' 'Yes'] categorias\n",
      "---------------------------------------------------------------------------\n",
      "Streaming Movies has ['Yes' 'No'] categorias\n"
     ]
    }
   ],
   "source": [
    "print(' Gender, tiene', df['Gender'].unique(), 'categorias')\n",
    "print(\"---------------------------------------------------------------------------\")\n",
    "print('Multiple Lines has', df['Multiple Lines'].unique(), 'categorias')\n",
    "print(\"---------------------------------------------------------------------------\")\n",
    "print('Streaming TV has', df['Streaming TV'].unique(), 'categorias')\n",
    "print(\"---------------------------------------------------------------------------\")\n",
    "print('Streaming Music has', df['Streaming Music'].unique(), 'categorias')\n",
    "print(\"---------------------------------------------------------------------------\")\n",
    "print('Streaming Movies has', df['Streaming Movies'].unique(), 'categorias')"
   ]
  },
  {
   "cell_type": "markdown",
   "metadata": {},
   "source": [
    "### one hot encoding : valores binarios "
   ]
  },
  {
   "cell_type": "code",
   "execution_count": 40,
   "metadata": {},
   "outputs": [],
   "source": [
    "def one_hot_encoder(dff, columnas):\n",
    "    \n",
    "    oh = OneHotEncoder()\n",
    "    \n",
    "    transformados = oh.fit_transform(dff[columnas])\n",
    "    \n",
    "    oh_df = pd.DataFrame(transformados.toarray(), columns = oh.get_feature_names_out(), dtype = int)\n",
    "    \n",
    "    dff[oh_df.columns] = oh_df\n",
    "    \n",
    "    dff.drop(columnas, axis = 1, inplace = True)\n",
    "    \n",
    "    with open(f'../data/ML/pkl/encoding{columnas[0]}.pkl', 'wb') as s:\n",
    "        pickle.dump(oh, s)\n",
    "    \n",
    "    return dff"
   ]
  },
  {
   "cell_type": "code",
   "execution_count": 41,
   "metadata": {},
   "outputs": [],
   "source": [
    "# Restablecer el índice del DataFrame\n",
    "df.reset_index(drop=True, inplace=True)"
   ]
  },
  {
   "cell_type": "code",
   "execution_count": 43,
   "metadata": {},
   "outputs": [
    {
     "data": {
      "text/plain": [
       "Index(['Gender', 'Age', 'Married', 'Number of Dependents',\n",
       "       'Number of Referrals', 'Offer', 'Phone Service', 'Multiple Lines',\n",
       "       'Internet Service', 'Internet Type', 'Avg Monthly GB Download',\n",
       "       'Online Security', 'Online Backup', 'Device Protection Plan',\n",
       "       'Premium Tech Support', 'Streaming TV', 'Streaming Movies',\n",
       "       'Streaming Music', 'Unlimited Data', 'Contract', 'Paperless Billing',\n",
       "       'Payment Method', 'Total Revenue', 'Satisfaction Score', 'Churn Value',\n",
       "       'CLTV'],\n",
       "      dtype='object')"
      ]
     },
     "execution_count": 43,
     "metadata": {},
     "output_type": "execute_result"
    }
   ],
   "source": [
    "df.columns"
   ]
  },
  {
   "cell_type": "code",
   "execution_count": 44,
   "metadata": {},
   "outputs": [],
   "source": [
    "df= one_hot_encoder(df, [\"Gender\"])\n",
    "df= one_hot_encoder(df, [\"Multiple Lines\"])\n",
    "df= one_hot_encoder(df, [\"Streaming TV\"])\n",
    "df= one_hot_encoder(df, [\"Streaming Music\"])\n",
    "df= one_hot_encoder(df, [\"Streaming Movies\"])"
   ]
  },
  {
   "cell_type": "code",
   "execution_count": 45,
   "metadata": {},
   "outputs": [
    {
     "data": {
      "text/html": [
       "<div>\n",
       "<style scoped>\n",
       "    .dataframe tbody tr th:only-of-type {\n",
       "        vertical-align: middle;\n",
       "    }\n",
       "\n",
       "    .dataframe tbody tr th {\n",
       "        vertical-align: top;\n",
       "    }\n",
       "\n",
       "    .dataframe thead th {\n",
       "        text-align: right;\n",
       "    }\n",
       "</style>\n",
       "<table border=\"1\" class=\"dataframe\">\n",
       "  <thead>\n",
       "    <tr style=\"text-align: right;\">\n",
       "      <th></th>\n",
       "      <th>Age</th>\n",
       "      <th>Married</th>\n",
       "      <th>Number of Dependents</th>\n",
       "      <th>Number of Referrals</th>\n",
       "      <th>Offer</th>\n",
       "      <th>Phone Service</th>\n",
       "      <th>Internet Service</th>\n",
       "      <th>Internet Type</th>\n",
       "      <th>Avg Monthly GB Download</th>\n",
       "      <th>Online Security</th>\n",
       "      <th>...</th>\n",
       "      <th>Gender_Female</th>\n",
       "      <th>Gender_Male</th>\n",
       "      <th>Multiple Lines_No</th>\n",
       "      <th>Multiple Lines_Yes</th>\n",
       "      <th>Streaming TV_No</th>\n",
       "      <th>Streaming TV_Yes</th>\n",
       "      <th>Streaming Music_No</th>\n",
       "      <th>Streaming Music_Yes</th>\n",
       "      <th>Streaming Movies_No</th>\n",
       "      <th>Streaming Movies_Yes</th>\n",
       "    </tr>\n",
       "  </thead>\n",
       "  <tbody>\n",
       "    <tr>\n",
       "      <th>0</th>\n",
       "      <td>78</td>\n",
       "      <td>No</td>\n",
       "      <td>0</td>\n",
       "      <td>0</td>\n",
       "      <td>None</td>\n",
       "      <td>No</td>\n",
       "      <td>Yes</td>\n",
       "      <td>DSL</td>\n",
       "      <td>8</td>\n",
       "      <td>No</td>\n",
       "      <td>...</td>\n",
       "      <td>0</td>\n",
       "      <td>1</td>\n",
       "      <td>1</td>\n",
       "      <td>0</td>\n",
       "      <td>1</td>\n",
       "      <td>0</td>\n",
       "      <td>1</td>\n",
       "      <td>0</td>\n",
       "      <td>0</td>\n",
       "      <td>1</td>\n",
       "    </tr>\n",
       "  </tbody>\n",
       "</table>\n",
       "<p>1 rows × 31 columns</p>\n",
       "</div>"
      ],
      "text/plain": [
       "   Age Married  Number of Dependents  Number of Referrals Offer Phone Service  \\\n",
       "0   78      No                     0                    0  None            No   \n",
       "\n",
       "  Internet Service Internet Type  Avg Monthly GB Download Online Security  \\\n",
       "0              Yes           DSL                        8              No   \n",
       "\n",
       "   ... Gender_Female Gender_Male Multiple Lines_No Multiple Lines_Yes  \\\n",
       "0  ...             0           1                 1                  0   \n",
       "\n",
       "  Streaming TV_No Streaming TV_Yes Streaming Music_No  Streaming Music_Yes  \\\n",
       "0               1                0                  1                    0   \n",
       "\n",
       "   Streaming Movies_No  Streaming Movies_Yes  \n",
       "0                    0                     1  \n",
       "\n",
       "[1 rows x 31 columns]"
      ]
     },
     "execution_count": 45,
     "metadata": {},
     "output_type": "execute_result"
    }
   ],
   "source": [
    "df.head(1)"
   ]
  },
  {
   "cell_type": "markdown",
   "metadata": {},
   "source": [
    "## Variables con orden"
   ]
  },
  {
   "cell_type": "code",
   "execution_count": 46,
   "metadata": {},
   "outputs": [
    {
     "name": "stdout",
     "output_type": "stream",
     "text": [
      " Married, tiene ['No' 'Yes'] categorias\n",
      "---------------------------------------------------------------------------\n",
      "Offer has ['None' 'Offer E' 'Offer D' 'Offer C' 'Offer B' 'Offer A'] categorias\n",
      "---------------------------------------------------------------------------\n",
      "Phone Service has ['No' 'Yes'] categorias\n",
      "---------------------------------------------------------------------------\n",
      "Internet Type has ['DSL' 'Fiber Optic' 'Cable' 'None'] categorias\n",
      "---------------------------------------------------------------------------\n",
      "Online Security has ['No' 'Yes'] categorias\n",
      "---------------------------------------------------------------------------\n",
      "Online Backup has ['No' 'Yes'] categorias\n",
      "---------------------------------------------------------------------------\n",
      "Device Protection Plan has ['Yes' 'No'] categorias\n",
      "---------------------------------------------------------------------------\n",
      "Premium Tech Support has ['No' 'Yes'] categorias\n",
      "---------------------------------------------------------------------------\n",
      "Unlimited Data has ['No' 'Yes'] categorias\n",
      "---------------------------------------------------------------------------\n",
      "Contract has ['Month-to-Month' 'One Year' 'Two Year'] categorias\n",
      "---------------------------------------------------------------------------\n",
      "Paperless Billing ['Yes' 'No'] categorias\n",
      "---------------------------------------------------------------------------\n",
      "Payment Method has ['Bank Withdrawal' 'Credit Card' 'Mailed Check'] categorias\n"
     ]
    }
   ],
   "source": [
    "# Chequeamos valores únicos\n",
    "\n",
    "print(' Married, tiene', df['Married'].unique(), 'categorias')\n",
    "print(\"---------------------------------------------------------------------------\")\n",
    "print('Offer has', df['Offer'].unique(), 'categorias')\n",
    "print(\"---------------------------------------------------------------------------\")\n",
    "print('Phone Service has', df['Phone Service'].unique(), 'categorias')\n",
    "print(\"---------------------------------------------------------------------------\")\n",
    "print('Internet Type has', df['Internet Type'].unique(), 'categorias')\n",
    "print(\"---------------------------------------------------------------------------\")\n",
    "print('Online Security has', df['Online Security'].unique(), 'categorias')\n",
    "print(\"---------------------------------------------------------------------------\")\n",
    "print('Online Backup has', df['Online Backup'].unique(), 'categorias')\n",
    "print(\"---------------------------------------------------------------------------\")\n",
    "print('Device Protection Plan has', df['Device Protection Plan'].unique(), 'categorias')\n",
    "print(\"---------------------------------------------------------------------------\")\n",
    "print('Premium Tech Support has', df['Premium Tech Support'].unique(), 'categorias')\n",
    "print(\"---------------------------------------------------------------------------\")\n",
    "print('Unlimited Data has', df['Unlimited Data'].unique(), 'categorias')\n",
    "print(\"---------------------------------------------------------------------------\")\n",
    "print('Contract has', df['Contract'].unique(), 'categorias')\n",
    "print(\"---------------------------------------------------------------------------\")\n",
    "print('Paperless Billing', df['Paperless Billing'].unique(), 'categorias')\n",
    "print(\"---------------------------------------------------------------------------\")\n",
    "print('Payment Method has', df['Payment Method'].unique(), 'categorias')"
   ]
  },
  {
   "cell_type": "markdown",
   "metadata": {},
   "source": [
    "### Ordinal encoding "
   ]
  },
  {
   "cell_type": "code",
   "execution_count": null,
   "metadata": {},
   "outputs": [],
   "source": [
    "# definimos el orden que tendra cada categoría "
   ]
  },
  {
   "cell_type": "code",
   "execution_count": 47,
   "metadata": {},
   "outputs": [],
   "source": [
    "orden_married=[\"Yes\",\"No\"]\n",
    "orden_phone_service=[\"No\",\"Yes\"]\n",
    "orden_internet_type=[\"None\",\"Cable\",\"DSL\",\"Fiber Optic\"]\n",
    "orden_online_sec=[\"Yes\",\"No\"]\n",
    "orden_online_backup=[\"Yes\",\"No\"]\n",
    "orden_device_protection=[\"Yes\",\"No\"]\n",
    "orden_prem_tech_supp=[\"Yes\",\"No\"]\n",
    "orden_unlimited_data=[\"No\",\"Yes\"]\n",
    "orden_paperless_b=[\"No\",\"Yes\"]\n",
    "orden_payment_method=[\"Mailed Check\",\"Credit Card\",\"Bank Withdrawal\"]"
   ]
  },
  {
   "cell_type": "code",
   "execution_count": 49,
   "metadata": {},
   "outputs": [],
   "source": [
    "def ordinal_encoder(orden, df, columna):\n",
    "    ordinal = OrdinalEncoder(categories = [orden], dtype = int)\n",
    "    transformados_oe = ordinal.fit_transform(df[[columna]])\n",
    "    df[columna] = transformados_oe\n",
    "    \n",
    "    with open(f'../data/ML/pkl/encoding{columna}.pkl', 'wb') as s:\n",
    "        pickle.dump(ordinal, s)\n",
    "    return df"
   ]
  },
  {
   "cell_type": "code",
   "execution_count": 50,
   "metadata": {},
   "outputs": [],
   "source": [
    "df = ordinal_encoder(orden_married, df, \"Married\")\n",
    "df = ordinal_encoder(orden_phone_service, df, \"Phone Service\")\n",
    "df = ordinal_encoder(orden_internet_type, df, \"Internet Type\")\n",
    "df = ordinal_encoder(orden_online_sec, df, \"Online Security\")\n",
    "df = ordinal_encoder(orden_online_backup, df, \"Online Backup\")\n",
    "df = ordinal_encoder(orden_device_protection, df, \"Device Protection Plan\")\n",
    "df = ordinal_encoder(orden_prem_tech_supp, df, \"Premium Tech Support\")\n",
    "df = ordinal_encoder(orden_unlimited_data, df, \"Unlimited Data\")\n",
    "df = ordinal_encoder(orden_paperless_b, df, \"Paperless Billing\")\n",
    "df = ordinal_encoder(orden_payment_method, df, \"Payment Method\")\n"
   ]
  },
  {
   "cell_type": "code",
   "execution_count": 51,
   "metadata": {},
   "outputs": [
    {
     "data": {
      "text/html": [
       "<div>\n",
       "<style scoped>\n",
       "    .dataframe tbody tr th:only-of-type {\n",
       "        vertical-align: middle;\n",
       "    }\n",
       "\n",
       "    .dataframe tbody tr th {\n",
       "        vertical-align: top;\n",
       "    }\n",
       "\n",
       "    .dataframe thead th {\n",
       "        text-align: right;\n",
       "    }\n",
       "</style>\n",
       "<table border=\"1\" class=\"dataframe\">\n",
       "  <thead>\n",
       "    <tr style=\"text-align: right;\">\n",
       "      <th></th>\n",
       "      <th>Age</th>\n",
       "      <th>Married</th>\n",
       "      <th>Number of Dependents</th>\n",
       "      <th>Number of Referrals</th>\n",
       "      <th>Offer</th>\n",
       "      <th>Phone Service</th>\n",
       "      <th>Internet Service</th>\n",
       "      <th>Internet Type</th>\n",
       "      <th>Avg Monthly GB Download</th>\n",
       "      <th>Online Security</th>\n",
       "      <th>...</th>\n",
       "      <th>Gender_Female</th>\n",
       "      <th>Gender_Male</th>\n",
       "      <th>Multiple Lines_No</th>\n",
       "      <th>Multiple Lines_Yes</th>\n",
       "      <th>Streaming TV_No</th>\n",
       "      <th>Streaming TV_Yes</th>\n",
       "      <th>Streaming Music_No</th>\n",
       "      <th>Streaming Music_Yes</th>\n",
       "      <th>Streaming Movies_No</th>\n",
       "      <th>Streaming Movies_Yes</th>\n",
       "    </tr>\n",
       "  </thead>\n",
       "  <tbody>\n",
       "    <tr>\n",
       "      <th>0</th>\n",
       "      <td>78</td>\n",
       "      <td>1</td>\n",
       "      <td>0</td>\n",
       "      <td>0</td>\n",
       "      <td>None</td>\n",
       "      <td>0</td>\n",
       "      <td>Yes</td>\n",
       "      <td>2</td>\n",
       "      <td>8</td>\n",
       "      <td>1</td>\n",
       "      <td>...</td>\n",
       "      <td>0</td>\n",
       "      <td>1</td>\n",
       "      <td>1</td>\n",
       "      <td>0</td>\n",
       "      <td>1</td>\n",
       "      <td>0</td>\n",
       "      <td>1</td>\n",
       "      <td>0</td>\n",
       "      <td>0</td>\n",
       "      <td>1</td>\n",
       "    </tr>\n",
       "    <tr>\n",
       "      <th>1</th>\n",
       "      <td>74</td>\n",
       "      <td>0</td>\n",
       "      <td>1</td>\n",
       "      <td>1</td>\n",
       "      <td>Offer E</td>\n",
       "      <td>1</td>\n",
       "      <td>Yes</td>\n",
       "      <td>3</td>\n",
       "      <td>17</td>\n",
       "      <td>1</td>\n",
       "      <td>...</td>\n",
       "      <td>1</td>\n",
       "      <td>0</td>\n",
       "      <td>0</td>\n",
       "      <td>1</td>\n",
       "      <td>1</td>\n",
       "      <td>0</td>\n",
       "      <td>1</td>\n",
       "      <td>0</td>\n",
       "      <td>1</td>\n",
       "      <td>0</td>\n",
       "    </tr>\n",
       "    <tr>\n",
       "      <th>2</th>\n",
       "      <td>71</td>\n",
       "      <td>1</td>\n",
       "      <td>3</td>\n",
       "      <td>0</td>\n",
       "      <td>Offer D</td>\n",
       "      <td>1</td>\n",
       "      <td>Yes</td>\n",
       "      <td>3</td>\n",
       "      <td>52</td>\n",
       "      <td>1</td>\n",
       "      <td>...</td>\n",
       "      <td>0</td>\n",
       "      <td>1</td>\n",
       "      <td>0</td>\n",
       "      <td>1</td>\n",
       "      <td>0</td>\n",
       "      <td>1</td>\n",
       "      <td>0</td>\n",
       "      <td>1</td>\n",
       "      <td>0</td>\n",
       "      <td>1</td>\n",
       "    </tr>\n",
       "    <tr>\n",
       "      <th>3</th>\n",
       "      <td>78</td>\n",
       "      <td>0</td>\n",
       "      <td>1</td>\n",
       "      <td>1</td>\n",
       "      <td>Offer C</td>\n",
       "      <td>1</td>\n",
       "      <td>Yes</td>\n",
       "      <td>3</td>\n",
       "      <td>12</td>\n",
       "      <td>1</td>\n",
       "      <td>...</td>\n",
       "      <td>1</td>\n",
       "      <td>0</td>\n",
       "      <td>1</td>\n",
       "      <td>0</td>\n",
       "      <td>0</td>\n",
       "      <td>1</td>\n",
       "      <td>1</td>\n",
       "      <td>0</td>\n",
       "      <td>0</td>\n",
       "      <td>1</td>\n",
       "    </tr>\n",
       "    <tr>\n",
       "      <th>4</th>\n",
       "      <td>80</td>\n",
       "      <td>0</td>\n",
       "      <td>1</td>\n",
       "      <td>1</td>\n",
       "      <td>Offer C</td>\n",
       "      <td>1</td>\n",
       "      <td>Yes</td>\n",
       "      <td>3</td>\n",
       "      <td>14</td>\n",
       "      <td>1</td>\n",
       "      <td>...</td>\n",
       "      <td>1</td>\n",
       "      <td>0</td>\n",
       "      <td>0</td>\n",
       "      <td>1</td>\n",
       "      <td>1</td>\n",
       "      <td>0</td>\n",
       "      <td>1</td>\n",
       "      <td>0</td>\n",
       "      <td>1</td>\n",
       "      <td>0</td>\n",
       "    </tr>\n",
       "  </tbody>\n",
       "</table>\n",
       "<p>5 rows × 31 columns</p>\n",
       "</div>"
      ],
      "text/plain": [
       "   Age  Married  Number of Dependents  Number of Referrals    Offer  \\\n",
       "0   78        1                     0                    0     None   \n",
       "1   74        0                     1                    1  Offer E   \n",
       "2   71        1                     3                    0  Offer D   \n",
       "3   78        0                     1                    1  Offer C   \n",
       "4   80        0                     1                    1  Offer C   \n",
       "\n",
       "   Phone Service Internet Service  Internet Type  Avg Monthly GB Download  \\\n",
       "0              0              Yes              2                        8   \n",
       "1              1              Yes              3                       17   \n",
       "2              1              Yes              3                       52   \n",
       "3              1              Yes              3                       12   \n",
       "4              1              Yes              3                       14   \n",
       "\n",
       "   Online Security  ...  Gender_Female  Gender_Male  Multiple Lines_No  \\\n",
       "0                1  ...              0            1                  1   \n",
       "1                1  ...              1            0                  0   \n",
       "2                1  ...              0            1                  0   \n",
       "3                1  ...              1            0                  1   \n",
       "4                1  ...              1            0                  0   \n",
       "\n",
       "   Multiple Lines_Yes Streaming TV_No  Streaming TV_Yes  Streaming Music_No  \\\n",
       "0                   0               1                 0                   1   \n",
       "1                   1               1                 0                   1   \n",
       "2                   1               0                 1                   0   \n",
       "3                   0               0                 1                   1   \n",
       "4                   1               1                 0                   1   \n",
       "\n",
       "   Streaming Music_Yes  Streaming Movies_No  Streaming Movies_Yes  \n",
       "0                    0                    0                     1  \n",
       "1                    0                    1                     0  \n",
       "2                    1                    0                     1  \n",
       "3                    0                    0                     1  \n",
       "4                    0                    1                     0  \n",
       "\n",
       "[5 rows x 31 columns]"
      ]
     },
     "execution_count": 51,
     "metadata": {},
     "output_type": "execute_result"
    }
   ],
   "source": [
    "df.head()"
   ]
  },
  {
   "cell_type": "code",
   "execution_count": null,
   "metadata": {},
   "outputs": [],
   "source": [
    "df[\"Internet Service\"].unique()"
   ]
  },
  {
   "cell_type": "code",
   "execution_count": null,
   "metadata": {},
   "outputs": [],
   "source": [
    "df.columns"
   ]
  },
  {
   "cell_type": "markdown",
   "metadata": {},
   "source": [
    "### Map"
   ]
  },
  {
   "cell_type": "code",
   "execution_count": 52,
   "metadata": {},
   "outputs": [
    {
     "name": "stdout",
     "output_type": "stream",
     "text": [
      " Offer, tiene ['None' 'Offer E' 'Offer D' 'Offer C' 'Offer B' 'Offer A'] categorias\n",
      "---------------------------------------------------------------------------\n",
      "Contract has ['Month-to-Month' 'One Year' 'Two Year'] categorias\n",
      "---------------------------------------------------------------------------\n"
     ]
    }
   ],
   "source": [
    "\n",
    "print(' Offer, tiene', df['Offer'].unique(), 'categorias')\n",
    "print(\"---------------------------------------------------------------------------\")\n",
    "print('Contract has', df['Contract'].unique(), 'categorias')\n",
    "print(\"---------------------------------------------------------------------------\")"
   ]
  },
  {
   "cell_type": "code",
   "execution_count": 53,
   "metadata": {},
   "outputs": [],
   "source": [
    "mapa_contract = {\"Month-to-Month\":  1, \n",
    "       \"One Year\": 0, \"Two Year\":0}"
   ]
  },
  {
   "cell_type": "code",
   "execution_count": 54,
   "metadata": {},
   "outputs": [],
   "source": [
    "mapa_offer = {\"Offer A\":  0, \"Offer B\": 1,\"Offer C\":1,\"Offer D\":2,\"Offer E\":3, \"None\":4}"
   ]
  },
  {
   "cell_type": "code",
   "execution_count": 55,
   "metadata": {},
   "outputs": [],
   "source": [
    "def ordinal_map(df, columna, orden_valores):\n",
    "    ordinal_dict = {}\n",
    "    \n",
    "    for i, valor in enumerate(orden_valores):\n",
    "        ordinal_dict[valor] = i\n",
    "        \n",
    "    nuevo_nombre = columna + \"_mapeada\"\n",
    "    \n",
    "    df[nuevo_nombre] = df[columna].map(ordinal_dict)\n",
    "        \n",
    "    return df"
   ]
  },
  {
   "cell_type": "code",
   "execution_count": 56,
   "metadata": {},
   "outputs": [],
   "source": [
    "df = ordinal_map(df, \"Contract\",mapa_contract)\n",
    "df = ordinal_map(df, \"Offer\",mapa_offer)\n"
   ]
  },
  {
   "cell_type": "code",
   "execution_count": 57,
   "metadata": {},
   "outputs": [
    {
     "data": {
      "text/html": [
       "<div>\n",
       "<style scoped>\n",
       "    .dataframe tbody tr th:only-of-type {\n",
       "        vertical-align: middle;\n",
       "    }\n",
       "\n",
       "    .dataframe tbody tr th {\n",
       "        vertical-align: top;\n",
       "    }\n",
       "\n",
       "    .dataframe thead th {\n",
       "        text-align: right;\n",
       "    }\n",
       "</style>\n",
       "<table border=\"1\" class=\"dataframe\">\n",
       "  <thead>\n",
       "    <tr style=\"text-align: right;\">\n",
       "      <th></th>\n",
       "      <th>Age</th>\n",
       "      <th>Married</th>\n",
       "      <th>Number of Dependents</th>\n",
       "      <th>Number of Referrals</th>\n",
       "      <th>Offer</th>\n",
       "      <th>Phone Service</th>\n",
       "      <th>Internet Service</th>\n",
       "      <th>Internet Type</th>\n",
       "      <th>Avg Monthly GB Download</th>\n",
       "      <th>Online Security</th>\n",
       "      <th>...</th>\n",
       "      <th>Multiple Lines_No</th>\n",
       "      <th>Multiple Lines_Yes</th>\n",
       "      <th>Streaming TV_No</th>\n",
       "      <th>Streaming TV_Yes</th>\n",
       "      <th>Streaming Music_No</th>\n",
       "      <th>Streaming Music_Yes</th>\n",
       "      <th>Streaming Movies_No</th>\n",
       "      <th>Streaming Movies_Yes</th>\n",
       "      <th>Contract_mapeada</th>\n",
       "      <th>Offer_mapeada</th>\n",
       "    </tr>\n",
       "  </thead>\n",
       "  <tbody>\n",
       "    <tr>\n",
       "      <th>0</th>\n",
       "      <td>78</td>\n",
       "      <td>1</td>\n",
       "      <td>0</td>\n",
       "      <td>0</td>\n",
       "      <td>None</td>\n",
       "      <td>0</td>\n",
       "      <td>Yes</td>\n",
       "      <td>2</td>\n",
       "      <td>8</td>\n",
       "      <td>1</td>\n",
       "      <td>...</td>\n",
       "      <td>1</td>\n",
       "      <td>0</td>\n",
       "      <td>1</td>\n",
       "      <td>0</td>\n",
       "      <td>1</td>\n",
       "      <td>0</td>\n",
       "      <td>0</td>\n",
       "      <td>1</td>\n",
       "      <td>0</td>\n",
       "      <td>5</td>\n",
       "    </tr>\n",
       "    <tr>\n",
       "      <th>1</th>\n",
       "      <td>74</td>\n",
       "      <td>0</td>\n",
       "      <td>1</td>\n",
       "      <td>1</td>\n",
       "      <td>Offer E</td>\n",
       "      <td>1</td>\n",
       "      <td>Yes</td>\n",
       "      <td>3</td>\n",
       "      <td>17</td>\n",
       "      <td>1</td>\n",
       "      <td>...</td>\n",
       "      <td>0</td>\n",
       "      <td>1</td>\n",
       "      <td>1</td>\n",
       "      <td>0</td>\n",
       "      <td>1</td>\n",
       "      <td>0</td>\n",
       "      <td>1</td>\n",
       "      <td>0</td>\n",
       "      <td>0</td>\n",
       "      <td>4</td>\n",
       "    </tr>\n",
       "    <tr>\n",
       "      <th>2</th>\n",
       "      <td>71</td>\n",
       "      <td>1</td>\n",
       "      <td>3</td>\n",
       "      <td>0</td>\n",
       "      <td>Offer D</td>\n",
       "      <td>1</td>\n",
       "      <td>Yes</td>\n",
       "      <td>3</td>\n",
       "      <td>52</td>\n",
       "      <td>1</td>\n",
       "      <td>...</td>\n",
       "      <td>0</td>\n",
       "      <td>1</td>\n",
       "      <td>0</td>\n",
       "      <td>1</td>\n",
       "      <td>0</td>\n",
       "      <td>1</td>\n",
       "      <td>0</td>\n",
       "      <td>1</td>\n",
       "      <td>0</td>\n",
       "      <td>3</td>\n",
       "    </tr>\n",
       "    <tr>\n",
       "      <th>3</th>\n",
       "      <td>78</td>\n",
       "      <td>0</td>\n",
       "      <td>1</td>\n",
       "      <td>1</td>\n",
       "      <td>Offer C</td>\n",
       "      <td>1</td>\n",
       "      <td>Yes</td>\n",
       "      <td>3</td>\n",
       "      <td>12</td>\n",
       "      <td>1</td>\n",
       "      <td>...</td>\n",
       "      <td>1</td>\n",
       "      <td>0</td>\n",
       "      <td>0</td>\n",
       "      <td>1</td>\n",
       "      <td>1</td>\n",
       "      <td>0</td>\n",
       "      <td>0</td>\n",
       "      <td>1</td>\n",
       "      <td>0</td>\n",
       "      <td>2</td>\n",
       "    </tr>\n",
       "    <tr>\n",
       "      <th>4</th>\n",
       "      <td>80</td>\n",
       "      <td>0</td>\n",
       "      <td>1</td>\n",
       "      <td>1</td>\n",
       "      <td>Offer C</td>\n",
       "      <td>1</td>\n",
       "      <td>Yes</td>\n",
       "      <td>3</td>\n",
       "      <td>14</td>\n",
       "      <td>1</td>\n",
       "      <td>...</td>\n",
       "      <td>0</td>\n",
       "      <td>1</td>\n",
       "      <td>1</td>\n",
       "      <td>0</td>\n",
       "      <td>1</td>\n",
       "      <td>0</td>\n",
       "      <td>1</td>\n",
       "      <td>0</td>\n",
       "      <td>0</td>\n",
       "      <td>2</td>\n",
       "    </tr>\n",
       "  </tbody>\n",
       "</table>\n",
       "<p>5 rows × 33 columns</p>\n",
       "</div>"
      ],
      "text/plain": [
       "   Age  Married  Number of Dependents  Number of Referrals    Offer  \\\n",
       "0   78        1                     0                    0     None   \n",
       "1   74        0                     1                    1  Offer E   \n",
       "2   71        1                     3                    0  Offer D   \n",
       "3   78        0                     1                    1  Offer C   \n",
       "4   80        0                     1                    1  Offer C   \n",
       "\n",
       "   Phone Service Internet Service  Internet Type  Avg Monthly GB Download  \\\n",
       "0              0              Yes              2                        8   \n",
       "1              1              Yes              3                       17   \n",
       "2              1              Yes              3                       52   \n",
       "3              1              Yes              3                       12   \n",
       "4              1              Yes              3                       14   \n",
       "\n",
       "   Online Security  ...  Multiple Lines_No  Multiple Lines_Yes  \\\n",
       "0                1  ...                  1                   0   \n",
       "1                1  ...                  0                   1   \n",
       "2                1  ...                  0                   1   \n",
       "3                1  ...                  1                   0   \n",
       "4                1  ...                  0                   1   \n",
       "\n",
       "   Streaming TV_No  Streaming TV_Yes Streaming Music_No  Streaming Music_Yes  \\\n",
       "0                1                 0                  1                    0   \n",
       "1                1                 0                  1                    0   \n",
       "2                0                 1                  0                    1   \n",
       "3                0                 1                  1                    0   \n",
       "4                1                 0                  1                    0   \n",
       "\n",
       "   Streaming Movies_No  Streaming Movies_Yes  Contract_mapeada  Offer_mapeada  \n",
       "0                    0                     1                 0              5  \n",
       "1                    1                     0                 0              4  \n",
       "2                    0                     1                 0              3  \n",
       "3                    0                     1                 0              2  \n",
       "4                    1                     0                 0              2  \n",
       "\n",
       "[5 rows x 33 columns]"
      ]
     },
     "execution_count": 57,
     "metadata": {},
     "output_type": "execute_result"
    }
   ],
   "source": [
    "df.head()"
   ]
  },
  {
   "cell_type": "code",
   "execution_count": 58,
   "metadata": {},
   "outputs": [
    {
     "name": "stdout",
     "output_type": "stream",
     "text": [
      "<class 'pandas.core.frame.DataFrame'>\n",
      "RangeIndex: 6991 entries, 0 to 6990\n",
      "Data columns (total 33 columns):\n",
      " #   Column                   Non-Null Count  Dtype  \n",
      "---  ------                   --------------  -----  \n",
      " 0   Age                      6991 non-null   int64  \n",
      " 1   Married                  6991 non-null   int64  \n",
      " 2   Number of Dependents     6991 non-null   int64  \n",
      " 3   Number of Referrals      6991 non-null   int64  \n",
      " 4   Offer                    6991 non-null   object \n",
      " 5   Phone Service            6991 non-null   int64  \n",
      " 6   Internet Service         6991 non-null   object \n",
      " 7   Internet Type            6991 non-null   int64  \n",
      " 8   Avg Monthly GB Download  6991 non-null   int64  \n",
      " 9   Online Security          6991 non-null   int64  \n",
      " 10  Online Backup            6991 non-null   int64  \n",
      " 11  Device Protection Plan   6991 non-null   int64  \n",
      " 12  Premium Tech Support     6991 non-null   int64  \n",
      " 13  Unlimited Data           6991 non-null   int64  \n",
      " 14  Contract                 6991 non-null   object \n",
      " 15  Paperless Billing        6991 non-null   int64  \n",
      " 16  Payment Method           6991 non-null   int64  \n",
      " 17  Total Revenue            6991 non-null   float64\n",
      " 18  Satisfaction Score       6991 non-null   int64  \n",
      " 19  Churn Value              6991 non-null   int64  \n",
      " 20  CLTV                     6991 non-null   int64  \n",
      " 21  Gender_Female            6991 non-null   int64  \n",
      " 22  Gender_Male              6991 non-null   int64  \n",
      " 23  Multiple Lines_No        6991 non-null   int64  \n",
      " 24  Multiple Lines_Yes       6991 non-null   int64  \n",
      " 25  Streaming TV_No          6991 non-null   int64  \n",
      " 26  Streaming TV_Yes         6991 non-null   int64  \n",
      " 27  Streaming Music_No       6991 non-null   int64  \n",
      " 28  Streaming Music_Yes      6991 non-null   int64  \n",
      " 29  Streaming Movies_No      6991 non-null   int64  \n",
      " 30  Streaming Movies_Yes     6991 non-null   int64  \n",
      " 31  Contract_mapeada         6991 non-null   int64  \n",
      " 32  Offer_mapeada            6991 non-null   int64  \n",
      "dtypes: float64(1), int64(29), object(3)\n",
      "memory usage: 1.8+ MB\n"
     ]
    }
   ],
   "source": [
    "df.info()"
   ]
  },
  {
   "cell_type": "code",
   "execution_count": 59,
   "metadata": {},
   "outputs": [
    {
     "data": {
      "image/png": "[encoded data removed]",
      "text/plain": [
       "<Figure size 640x480 with 1 Axes>"
      ]
     },
     "metadata": {},
     "output_type": "display_data"
    }
   ],
   "source": [
    "sns.countplot(x='Internet Service', hue='Churn Value', data=df)\n",
    "plt.show()"
   ]
  },
  {
   "cell_type": "code",
   "execution_count": 60,
   "metadata": {},
   "outputs": [
    {
     "ename": "KeyError",
     "evalue": "'Internet Serivce'",
     "output_type": "error",
     "traceback": [
      "\u001b[0;31m---------------------------------------------------------------------------\u001b[0m",
      "\u001b[0;31mKeyError\u001b[0m                                  Traceback (most recent call last)",
      "File \u001b[0;32m/opt/anaconda3/envs/iron/lib/python3.9/site-packages/pandas/core/indexes/base.py:3803\u001b[0m, in \u001b[0;36mIndex.get_loc\u001b[0;34m(self, key, method, tolerance)\u001b[0m\n\u001b[1;32m   3802\u001b[0m \u001b[38;5;28;01mtry\u001b[39;00m:\n\u001b[0;32m-> 3803\u001b[0m     \u001b[38;5;28;01mreturn\u001b[39;00m \u001b[38;5;28;43mself\u001b[39;49m\u001b[38;5;241;43m.\u001b[39;49m\u001b[43m_engine\u001b[49m\u001b[38;5;241;43m.\u001b[39;49m\u001b[43mget_loc\u001b[49m\u001b[43m(\u001b[49m\u001b[43mcasted_key\u001b[49m\u001b[43m)\u001b[49m\n\u001b[1;32m   3804\u001b[0m \u001b[38;5;28;01mexcept\u001b[39;00m \u001b[38;5;167;01mKeyError\u001b[39;00m \u001b[38;5;28;01mas\u001b[39;00m err:\n",
      "File \u001b[0;32m/opt/anaconda3/envs/iron/lib/python3.9/site-packages/pandas/_libs/index.pyx:138\u001b[0m, in \u001b[0;36mpandas._libs.index.IndexEngine.get_loc\u001b[0;34m()\u001b[0m\n",
      "File \u001b[0;32m/opt/anaconda3/envs/iron/lib/python3.9/site-packages/pandas/_libs/index.pyx:165\u001b[0m, in \u001b[0;36mpandas._libs.index.IndexEngine.get_loc\u001b[0;34m()\u001b[0m\n",
      "File \u001b[0;32mpandas/_libs/hashtable_class_helper.pxi:5745\u001b[0m, in \u001b[0;36mpandas._libs.hashtable.PyObjectHashTable.get_item\u001b[0;34m()\u001b[0m\n",
      "File \u001b[0;32mpandas/_libs/hashtable_class_helper.pxi:5753\u001b[0m, in \u001b[0;36mpandas._libs.hashtable.PyObjectHashTable.get_item\u001b[0;34m()\u001b[0m\n",
      "\u001b[0;31mKeyError\u001b[0m: 'Internet Serivce'",
      "\nThe above exception was the direct cause of the following exception:\n",
      "\u001b[0;31mKeyError\u001b[0m                                  Traceback (most recent call last)",
      "Cell \u001b[0;32mIn [60], line 1\u001b[0m\n\u001b[0;32m----> 1\u001b[0m \u001b[43mdf\u001b[49m\u001b[43m[\u001b[49m\u001b[38;5;124;43m\"\u001b[39;49m\u001b[38;5;124;43mInternet Serivce\u001b[39;49m\u001b[38;5;124;43m\"\u001b[39;49m\u001b[43m]\u001b[49m\u001b[38;5;241m.\u001b[39mvalue_counts\n",
      "File \u001b[0;32m/opt/anaconda3/envs/iron/lib/python3.9/site-packages/pandas/core/frame.py:3804\u001b[0m, in \u001b[0;36mDataFrame.__getitem__\u001b[0;34m(self, key)\u001b[0m\n\u001b[1;32m   3802\u001b[0m \u001b[38;5;28;01mif\u001b[39;00m \u001b[38;5;28mself\u001b[39m\u001b[38;5;241m.\u001b[39mcolumns\u001b[38;5;241m.\u001b[39mnlevels \u001b[38;5;241m>\u001b[39m \u001b[38;5;241m1\u001b[39m:\n\u001b[1;32m   3803\u001b[0m     \u001b[38;5;28;01mreturn\u001b[39;00m \u001b[38;5;28mself\u001b[39m\u001b[38;5;241m.\u001b[39m_getitem_multilevel(key)\n\u001b[0;32m-> 3804\u001b[0m indexer \u001b[38;5;241m=\u001b[39m \u001b[38;5;28;43mself\u001b[39;49m\u001b[38;5;241;43m.\u001b[39;49m\u001b[43mcolumns\u001b[49m\u001b[38;5;241;43m.\u001b[39;49m\u001b[43mget_loc\u001b[49m\u001b[43m(\u001b[49m\u001b[43mkey\u001b[49m\u001b[43m)\u001b[49m\n\u001b[1;32m   3805\u001b[0m \u001b[38;5;28;01mif\u001b[39;00m is_integer(indexer):\n\u001b[1;32m   3806\u001b[0m     indexer \u001b[38;5;241m=\u001b[39m [indexer]\n",
      "File \u001b[0;32m/opt/anaconda3/envs/iron/lib/python3.9/site-packages/pandas/core/indexes/base.py:3805\u001b[0m, in \u001b[0;36mIndex.get_loc\u001b[0;34m(self, key, method, tolerance)\u001b[0m\n\u001b[1;32m   3803\u001b[0m     \u001b[38;5;28;01mreturn\u001b[39;00m \u001b[38;5;28mself\u001b[39m\u001b[38;5;241m.\u001b[39m_engine\u001b[38;5;241m.\u001b[39mget_loc(casted_key)\n\u001b[1;32m   3804\u001b[0m \u001b[38;5;28;01mexcept\u001b[39;00m \u001b[38;5;167;01mKeyError\u001b[39;00m \u001b[38;5;28;01mas\u001b[39;00m err:\n\u001b[0;32m-> 3805\u001b[0m     \u001b[38;5;28;01mraise\u001b[39;00m \u001b[38;5;167;01mKeyError\u001b[39;00m(key) \u001b[38;5;28;01mfrom\u001b[39;00m \u001b[38;5;21;01merr\u001b[39;00m\n\u001b[1;32m   3806\u001b[0m \u001b[38;5;28;01mexcept\u001b[39;00m \u001b[38;5;167;01mTypeError\u001b[39;00m:\n\u001b[1;32m   3807\u001b[0m     \u001b[38;5;66;03m# If we have a listlike key, _check_indexing_error will raise\u001b[39;00m\n\u001b[1;32m   3808\u001b[0m     \u001b[38;5;66;03m#  InvalidIndexError. Otherwise we fall through and re-raise\u001b[39;00m\n\u001b[1;32m   3809\u001b[0m     \u001b[38;5;66;03m#  the TypeError.\u001b[39;00m\n\u001b[1;32m   3810\u001b[0m     \u001b[38;5;28mself\u001b[39m\u001b[38;5;241m.\u001b[39m_check_indexing_error(key)\n",
      "\u001b[0;31mKeyError\u001b[0m: 'Internet Serivce'"
     ]
    }
   ],
   "source": [
    "df[\"Internet Serivce\"].value_counts"
   ]
  },
  {
   "cell_type": "code",
   "execution_count": 61,
   "metadata": {},
   "outputs": [],
   "source": [
    "df_final= df.copy()"
   ]
  },
  {
   "cell_type": "code",
   "execution_count": 62,
   "metadata": {},
   "outputs": [],
   "source": [
    "df_final.drop(columns=[\"Internet Service\",\"Offer\",\"Contract\"], axis=1, inplace=True)"
   ]
  },
  {
   "cell_type": "code",
   "execution_count": 63,
   "metadata": {},
   "outputs": [
    {
     "name": "stdout",
     "output_type": "stream",
     "text": [
      "<class 'pandas.core.frame.DataFrame'>\n",
      "RangeIndex: 6991 entries, 0 to 6990\n",
      "Data columns (total 30 columns):\n",
      " #   Column                   Non-Null Count  Dtype  \n",
      "---  ------                   --------------  -----  \n",
      " 0   Age                      6991 non-null   int64  \n",
      " 1   Married                  6991 non-null   int64  \n",
      " 2   Number of Dependents     6991 non-null   int64  \n",
      " 3   Number of Referrals      6991 non-null   int64  \n",
      " 4   Phone Service            6991 non-null   int64  \n",
      " 5   Internet Type            6991 non-null   int64  \n",
      " 6   Avg Monthly GB Download  6991 non-null   int64  \n",
      " 7   Online Security          6991 non-null   int64  \n",
      " 8   Online Backup            6991 non-null   int64  \n",
      " 9   Device Protection Plan   6991 non-null   int64  \n",
      " 10  Premium Tech Support     6991 non-null   int64  \n",
      " 11  Unlimited Data           6991 non-null   int64  \n",
      " 12  Paperless Billing        6991 non-null   int64  \n",
      " 13  Payment Method           6991 non-null   int64  \n",
      " 14  Total Revenue            6991 non-null   float64\n",
      " 15  Satisfaction Score       6991 non-null   int64  \n",
      " 16  Churn Value              6991 non-null   int64  \n",
      " 17  CLTV                     6991 non-null   int64  \n",
      " 18  Gender_Female            6991 non-null   int64  \n",
      " 19  Gender_Male              6991 non-null   int64  \n",
      " 20  Multiple Lines_No        6991 non-null   int64  \n",
      " 21  Multiple Lines_Yes       6991 non-null   int64  \n",
      " 22  Streaming TV_No          6991 non-null   int64  \n",
      " 23  Streaming TV_Yes         6991 non-null   int64  \n",
      " 24  Streaming Music_No       6991 non-null   int64  \n",
      " 25  Streaming Music_Yes      6991 non-null   int64  \n",
      " 26  Streaming Movies_No      6991 non-null   int64  \n",
      " 27  Streaming Movies_Yes     6991 non-null   int64  \n",
      " 28  Contract_mapeada         6991 non-null   int64  \n",
      " 29  Offer_mapeada            6991 non-null   int64  \n",
      "dtypes: float64(1), int64(29)\n",
      "memory usage: 1.6 MB\n"
     ]
    }
   ],
   "source": [
    "df_final.info()"
   ]
  },
  {
   "cell_type": "code",
   "execution_count": 64,
   "metadata": {},
   "outputs": [
    {
     "data": {
      "text/plain": [
       "Index(['Age', 'Married', 'Number of Dependents', 'Number of Referrals',\n",
       "       'Phone Service', 'Internet Type', 'Avg Monthly GB Download',\n",
       "       'Online Security', 'Online Backup', 'Device Protection Plan',\n",
       "       'Premium Tech Support', 'Unlimited Data', 'Paperless Billing',\n",
       "       'Payment Method', 'Total Revenue', 'Satisfaction Score', 'Churn Value',\n",
       "       'CLTV', 'Gender_Female', 'Gender_Male', 'Multiple Lines_No',\n",
       "       'Multiple Lines_Yes', 'Streaming TV_No', 'Streaming TV_Yes',\n",
       "       'Streaming Music_No', 'Streaming Music_Yes', 'Streaming Movies_No',\n",
       "       'Streaming Movies_Yes', 'Contract_mapeada', 'Offer_mapeada'],\n",
       "      dtype='object')"
      ]
     },
     "execution_count": 64,
     "metadata": {},
     "output_type": "execute_result"
    }
   ],
   "source": [
    "df_final.columns"
   ]
  },
  {
   "cell_type": "code",
   "execution_count": 65,
   "metadata": {},
   "outputs": [
    {
     "data": {
      "text/plain": [
       "30"
      ]
     },
     "execution_count": 65,
     "metadata": {},
     "output_type": "execute_result"
    }
   ],
   "source": [
    "len(df_final.columns)"
   ]
  },
  {
   "cell_type": "code",
   "execution_count": null,
   "metadata": {},
   "outputs": [],
   "source": [
    "df_final.to_csv('../data/ML/df_final1.csv', index=False)"
   ]
  }
 ],
 "metadata": {
  "kernelspec": {
   "display_name": "iron",
   "language": "python",
   "name": "iron"
  },
  "language_info": {
   "codemirror_mode": {
    "name": "ipython",
    "version": 3
   },
   "file_extension": ".py",
   "mimetype": "text/x-python",
   "name": "python",
   "nbconvert_exporter": "python",
   "pygments_lexer": "ipython3",
   "version": "3.9.13"
  }
 },
 "nbformat": 4,
 "nbformat_minor": 4
}
