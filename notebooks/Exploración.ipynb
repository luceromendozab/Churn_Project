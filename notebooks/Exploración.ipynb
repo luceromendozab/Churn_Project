{
 "cells": [
  {
   "cell_type": "code",
   "execution_count": 2,
   "metadata": {},
   "outputs": [],
   "source": [
    "import pandas as pd\n",
    "import numpy as np\n",
    "\n",
    "# librerías de visualización\n",
    "import seaborn as sns\n",
    "import matplotlib.pyplot as plt\n",
    "\n",
    "import warnings\n",
    "warnings.filterwarnings(\"ignore\")"
   ]
  },
  {
   "cell_type": "markdown",
   "metadata": {},
   "source": [
    "# Demography"
   ]
  },
  {
   "cell_type": "code",
   "execution_count": 41,
   "metadata": {},
   "outputs": [
    {
     "data": {
      "text/html": [
       "<div>\n",
       "<style scoped>\n",
       "    .dataframe tbody tr th:only-of-type {\n",
       "        vertical-align: middle;\n",
       "    }\n",
       "\n",
       "    .dataframe tbody tr th {\n",
       "        vertical-align: top;\n",
       "    }\n",
       "\n",
       "    .dataframe thead th {\n",
       "        text-align: right;\n",
       "    }\n",
       "</style>\n",
       "<table border=\"1\" class=\"dataframe\">\n",
       "  <thead>\n",
       "    <tr style=\"text-align: right;\">\n",
       "      <th></th>\n",
       "      <th>Customer ID</th>\n",
       "      <th>Count</th>\n",
       "      <th>Gender</th>\n",
       "      <th>Age</th>\n",
       "      <th>Under 30</th>\n",
       "      <th>Senior Citizen</th>\n",
       "      <th>Married</th>\n",
       "      <th>Dependents</th>\n",
       "      <th>Number of Dependents</th>\n",
       "    </tr>\n",
       "  </thead>\n",
       "  <tbody>\n",
       "    <tr>\n",
       "      <th>0</th>\n",
       "      <td>8779-QRDMV</td>\n",
       "      <td>1</td>\n",
       "      <td>Male</td>\n",
       "      <td>78</td>\n",
       "      <td>No</td>\n",
       "      <td>Yes</td>\n",
       "      <td>No</td>\n",
       "      <td>No</td>\n",
       "      <td>0</td>\n",
       "    </tr>\n",
       "    <tr>\n",
       "      <th>1</th>\n",
       "      <td>7495-OOKFY</td>\n",
       "      <td>1</td>\n",
       "      <td>Female</td>\n",
       "      <td>74</td>\n",
       "      <td>No</td>\n",
       "      <td>Yes</td>\n",
       "      <td>Yes</td>\n",
       "      <td>Yes</td>\n",
       "      <td>1</td>\n",
       "    </tr>\n",
       "    <tr>\n",
       "      <th>2</th>\n",
       "      <td>1658-BYGOY</td>\n",
       "      <td>1</td>\n",
       "      <td>Male</td>\n",
       "      <td>71</td>\n",
       "      <td>No</td>\n",
       "      <td>Yes</td>\n",
       "      <td>No</td>\n",
       "      <td>Yes</td>\n",
       "      <td>3</td>\n",
       "    </tr>\n",
       "    <tr>\n",
       "      <th>3</th>\n",
       "      <td>4598-XLKNJ</td>\n",
       "      <td>1</td>\n",
       "      <td>Female</td>\n",
       "      <td>78</td>\n",
       "      <td>No</td>\n",
       "      <td>Yes</td>\n",
       "      <td>Yes</td>\n",
       "      <td>Yes</td>\n",
       "      <td>1</td>\n",
       "    </tr>\n",
       "    <tr>\n",
       "      <th>4</th>\n",
       "      <td>4846-WHAFZ</td>\n",
       "      <td>1</td>\n",
       "      <td>Female</td>\n",
       "      <td>80</td>\n",
       "      <td>No</td>\n",
       "      <td>Yes</td>\n",
       "      <td>Yes</td>\n",
       "      <td>Yes</td>\n",
       "      <td>1</td>\n",
       "    </tr>\n",
       "  </tbody>\n",
       "</table>\n",
       "</div>"
      ],
      "text/plain": [
       "  Customer ID  Count  Gender  Age Under 30 Senior Citizen Married Dependents  \\\n",
       "0  8779-QRDMV      1    Male   78       No            Yes      No         No   \n",
       "1  7495-OOKFY      1  Female   74       No            Yes     Yes        Yes   \n",
       "2  1658-BYGOY      1    Male   71       No            Yes      No        Yes   \n",
       "3  4598-XLKNJ      1  Female   78       No            Yes     Yes        Yes   \n",
       "4  4846-WHAFZ      1  Female   80       No            Yes     Yes        Yes   \n",
       "\n",
       "   Number of Dependents  \n",
       "0                     0  \n",
       "1                     1  \n",
       "2                     3  \n",
       "3                     1  \n",
       "4                     1  "
      ]
     },
     "execution_count": 41,
     "metadata": {},
     "output_type": "execute_result"
    }
   ],
   "source": [
    "# cargamos el dataset\n",
    "df_demo = pd.read_excel(\"../data/raw_data/Telco_customer_churn_demographics.xlsx\")\n",
    "df_demo.head()"
   ]
  },
  {
   "cell_type": "code",
   "execution_count": 42,
   "metadata": {},
   "outputs": [],
   "source": [
    "df_demo.drop(columns=[\"Under 30\",\"Senior Citizen\",\"Count\"], axis=1, inplace=True)"
   ]
  },
  {
   "cell_type": "code",
   "execution_count": 43,
   "metadata": {},
   "outputs": [
    {
     "data": {
      "text/plain": [
       "Customer ID             0\n",
       "Gender                  0\n",
       "Age                     0\n",
       "Married                 0\n",
       "Dependents              0\n",
       "Number of Dependents    0\n",
       "dtype: int64"
      ]
     },
     "execution_count": 43,
     "metadata": {},
     "output_type": "execute_result"
    }
   ],
   "source": [
    "df_demo.isnull().sum()"
   ]
  },
  {
   "cell_type": "code",
   "execution_count": 44,
   "metadata": {},
   "outputs": [
    {
     "name": "stdout",
     "output_type": "stream",
     "text": [
      "<class 'pandas.core.frame.DataFrame'>\n",
      "RangeIndex: 7043 entries, 0 to 7042\n",
      "Data columns (total 6 columns):\n",
      " #   Column                Non-Null Count  Dtype \n",
      "---  ------                --------------  ----- \n",
      " 0   Customer ID           7043 non-null   object\n",
      " 1   Gender                7043 non-null   object\n",
      " 2   Age                   7043 non-null   int64 \n",
      " 3   Married               7043 non-null   object\n",
      " 4   Dependents            7043 non-null   object\n",
      " 5   Number of Dependents  7043 non-null   int64 \n",
      "dtypes: int64(2), object(4)\n",
      "memory usage: 330.3+ KB\n"
     ]
    }
   ],
   "source": [
    "df_demo.info()"
   ]
  },
  {
   "cell_type": "code",
   "execution_count": 45,
   "metadata": {},
   "outputs": [
    {
     "data": {
      "text/html": [
       "<div>\n",
       "<style scoped>\n",
       "    .dataframe tbody tr th:only-of-type {\n",
       "        vertical-align: middle;\n",
       "    }\n",
       "\n",
       "    .dataframe tbody tr th {\n",
       "        vertical-align: top;\n",
       "    }\n",
       "\n",
       "    .dataframe thead th {\n",
       "        text-align: right;\n",
       "    }\n",
       "</style>\n",
       "<table border=\"1\" class=\"dataframe\">\n",
       "  <thead>\n",
       "    <tr style=\"text-align: right;\">\n",
       "      <th></th>\n",
       "      <th>Customer ID</th>\n",
       "      <th>Gender</th>\n",
       "      <th>Age</th>\n",
       "      <th>Married</th>\n",
       "      <th>Dependents</th>\n",
       "      <th>Number of Dependents</th>\n",
       "    </tr>\n",
       "  </thead>\n",
       "  <tbody>\n",
       "    <tr>\n",
       "      <th>0</th>\n",
       "      <td>8779-QRDMV</td>\n",
       "      <td>Male</td>\n",
       "      <td>78</td>\n",
       "      <td>No</td>\n",
       "      <td>No</td>\n",
       "      <td>0</td>\n",
       "    </tr>\n",
       "    <tr>\n",
       "      <th>1</th>\n",
       "      <td>7495-OOKFY</td>\n",
       "      <td>Female</td>\n",
       "      <td>74</td>\n",
       "      <td>Yes</td>\n",
       "      <td>Yes</td>\n",
       "      <td>1</td>\n",
       "    </tr>\n",
       "    <tr>\n",
       "      <th>2</th>\n",
       "      <td>1658-BYGOY</td>\n",
       "      <td>Male</td>\n",
       "      <td>71</td>\n",
       "      <td>No</td>\n",
       "      <td>Yes</td>\n",
       "      <td>3</td>\n",
       "    </tr>\n",
       "    <tr>\n",
       "      <th>3</th>\n",
       "      <td>4598-XLKNJ</td>\n",
       "      <td>Female</td>\n",
       "      <td>78</td>\n",
       "      <td>Yes</td>\n",
       "      <td>Yes</td>\n",
       "      <td>1</td>\n",
       "    </tr>\n",
       "    <tr>\n",
       "      <th>4</th>\n",
       "      <td>4846-WHAFZ</td>\n",
       "      <td>Female</td>\n",
       "      <td>80</td>\n",
       "      <td>Yes</td>\n",
       "      <td>Yes</td>\n",
       "      <td>1</td>\n",
       "    </tr>\n",
       "  </tbody>\n",
       "</table>\n",
       "</div>"
      ],
      "text/plain": [
       "  Customer ID  Gender  Age Married Dependents  Number of Dependents\n",
       "0  8779-QRDMV    Male   78      No         No                     0\n",
       "1  7495-OOKFY  Female   74     Yes        Yes                     1\n",
       "2  1658-BYGOY    Male   71      No        Yes                     3\n",
       "3  4598-XLKNJ  Female   78     Yes        Yes                     1\n",
       "4  4846-WHAFZ  Female   80     Yes        Yes                     1"
      ]
     },
     "execution_count": 45,
     "metadata": {},
     "output_type": "execute_result"
    }
   ],
   "source": [
    "df_demo.head()"
   ]
  },
  {
   "cell_type": "code",
   "execution_count": 121,
   "metadata": {},
   "outputs": [],
   "source": [
    "#SQL\n",
    "df_demo.to_csv('../data/SQL/df_demo.csv', index=False)"
   ]
  },
  {
   "cell_type": "markdown",
   "metadata": {},
   "source": [
    "- ML"
   ]
  },
  {
   "cell_type": "code",
   "execution_count": 84,
   "metadata": {},
   "outputs": [],
   "source": [
    "df_demo_m= df_demo.copy()"
   ]
  },
  {
   "cell_type": "code",
   "execution_count": 86,
   "metadata": {},
   "outputs": [],
   "source": [
    "df_demo_m.drop(columns=[\"Dependents\"], axis=1, inplace=True)"
   ]
  },
  {
   "cell_type": "code",
   "execution_count": 87,
   "metadata": {},
   "outputs": [
    {
     "data": {
      "text/html": [
       "<div>\n",
       "<style scoped>\n",
       "    .dataframe tbody tr th:only-of-type {\n",
       "        vertical-align: middle;\n",
       "    }\n",
       "\n",
       "    .dataframe tbody tr th {\n",
       "        vertical-align: top;\n",
       "    }\n",
       "\n",
       "    .dataframe thead th {\n",
       "        text-align: right;\n",
       "    }\n",
       "</style>\n",
       "<table border=\"1\" class=\"dataframe\">\n",
       "  <thead>\n",
       "    <tr style=\"text-align: right;\">\n",
       "      <th></th>\n",
       "      <th>Customer ID</th>\n",
       "      <th>Gender</th>\n",
       "      <th>Age</th>\n",
       "      <th>Married</th>\n",
       "      <th>Number of Dependents</th>\n",
       "    </tr>\n",
       "  </thead>\n",
       "  <tbody>\n",
       "    <tr>\n",
       "      <th>0</th>\n",
       "      <td>8779-QRDMV</td>\n",
       "      <td>Male</td>\n",
       "      <td>78</td>\n",
       "      <td>No</td>\n",
       "      <td>0</td>\n",
       "    </tr>\n",
       "  </tbody>\n",
       "</table>\n",
       "</div>"
      ],
      "text/plain": [
       "  Customer ID Gender  Age Married  Number of Dependents\n",
       "0  8779-QRDMV   Male   78      No                     0"
      ]
     },
     "execution_count": 87,
     "metadata": {},
     "output_type": "execute_result"
    }
   ],
   "source": [
    "df_demo_m.head(1)"
   ]
  },
  {
   "cell_type": "code",
   "execution_count": null,
   "metadata": {},
   "outputs": [],
   "source": []
  },
  {
   "cell_type": "markdown",
   "metadata": {},
   "source": [
    "# Localization"
   ]
  },
  {
   "cell_type": "code",
   "execution_count": 127,
   "metadata": {},
   "outputs": [
    {
     "data": {
      "text/html": [
       "<div>\n",
       "<style scoped>\n",
       "    .dataframe tbody tr th:only-of-type {\n",
       "        vertical-align: middle;\n",
       "    }\n",
       "\n",
       "    .dataframe tbody tr th {\n",
       "        vertical-align: top;\n",
       "    }\n",
       "\n",
       "    .dataframe thead th {\n",
       "        text-align: right;\n",
       "    }\n",
       "</style>\n",
       "<table border=\"1\" class=\"dataframe\">\n",
       "  <thead>\n",
       "    <tr style=\"text-align: right;\">\n",
       "      <th></th>\n",
       "      <th>Customer ID</th>\n",
       "      <th>Count</th>\n",
       "      <th>Country</th>\n",
       "      <th>State</th>\n",
       "      <th>City</th>\n",
       "      <th>Zip Code</th>\n",
       "      <th>Lat Long</th>\n",
       "      <th>Latitude</th>\n",
       "      <th>Longitude</th>\n",
       "    </tr>\n",
       "  </thead>\n",
       "  <tbody>\n",
       "    <tr>\n",
       "      <th>0</th>\n",
       "      <td>8779-QRDMV</td>\n",
       "      <td>1</td>\n",
       "      <td>United States</td>\n",
       "      <td>California</td>\n",
       "      <td>Los Angeles</td>\n",
       "      <td>90022</td>\n",
       "      <td>34.02381, -118.156582</td>\n",
       "      <td>34.023810</td>\n",
       "      <td>-118.156582</td>\n",
       "    </tr>\n",
       "    <tr>\n",
       "      <th>1</th>\n",
       "      <td>7495-OOKFY</td>\n",
       "      <td>1</td>\n",
       "      <td>United States</td>\n",
       "      <td>California</td>\n",
       "      <td>Los Angeles</td>\n",
       "      <td>90063</td>\n",
       "      <td>34.044271, -118.185237</td>\n",
       "      <td>34.044271</td>\n",
       "      <td>-118.185237</td>\n",
       "    </tr>\n",
       "    <tr>\n",
       "      <th>2</th>\n",
       "      <td>1658-BYGOY</td>\n",
       "      <td>1</td>\n",
       "      <td>United States</td>\n",
       "      <td>California</td>\n",
       "      <td>Los Angeles</td>\n",
       "      <td>90065</td>\n",
       "      <td>34.108833, -118.229715</td>\n",
       "      <td>34.108833</td>\n",
       "      <td>-118.229715</td>\n",
       "    </tr>\n",
       "    <tr>\n",
       "      <th>3</th>\n",
       "      <td>4598-XLKNJ</td>\n",
       "      <td>1</td>\n",
       "      <td>United States</td>\n",
       "      <td>California</td>\n",
       "      <td>Inglewood</td>\n",
       "      <td>90303</td>\n",
       "      <td>33.936291, -118.332639</td>\n",
       "      <td>33.936291</td>\n",
       "      <td>-118.332639</td>\n",
       "    </tr>\n",
       "    <tr>\n",
       "      <th>4</th>\n",
       "      <td>4846-WHAFZ</td>\n",
       "      <td>1</td>\n",
       "      <td>United States</td>\n",
       "      <td>California</td>\n",
       "      <td>Whittier</td>\n",
       "      <td>90602</td>\n",
       "      <td>33.972119, -118.020188</td>\n",
       "      <td>33.972119</td>\n",
       "      <td>-118.020188</td>\n",
       "    </tr>\n",
       "  </tbody>\n",
       "</table>\n",
       "</div>"
      ],
      "text/plain": [
       "  Customer ID  Count        Country       State         City  Zip Code  \\\n",
       "0  8779-QRDMV      1  United States  California  Los Angeles     90022   \n",
       "1  7495-OOKFY      1  United States  California  Los Angeles     90063   \n",
       "2  1658-BYGOY      1  United States  California  Los Angeles     90065   \n",
       "3  4598-XLKNJ      1  United States  California    Inglewood     90303   \n",
       "4  4846-WHAFZ      1  United States  California     Whittier     90602   \n",
       "\n",
       "                 Lat Long   Latitude   Longitude  \n",
       "0   34.02381, -118.156582  34.023810 -118.156582  \n",
       "1  34.044271, -118.185237  34.044271 -118.185237  \n",
       "2  34.108833, -118.229715  34.108833 -118.229715  \n",
       "3  33.936291, -118.332639  33.936291 -118.332639  \n",
       "4  33.972119, -118.020188  33.972119 -118.020188  "
      ]
     },
     "execution_count": 127,
     "metadata": {},
     "output_type": "execute_result"
    }
   ],
   "source": [
    "df_loc = pd.read_excel(\"../data/raw_data/Telco_customer_churn_location.xlsx\")\n",
    "df_loc.head()"
   ]
  },
  {
   "cell_type": "code",
   "execution_count": 16,
   "metadata": {},
   "outputs": [
    {
     "data": {
      "text/plain": [
       "array([1])"
      ]
     },
     "execution_count": 16,
     "metadata": {},
     "output_type": "execute_result"
    }
   ],
   "source": [
    "df_loc[\"Count\"].unique()"
   ]
  },
  {
   "cell_type": "code",
   "execution_count": 17,
   "metadata": {},
   "outputs": [
    {
     "data": {
      "text/plain": [
       "array(['United States'], dtype=object)"
      ]
     },
     "execution_count": 17,
     "metadata": {},
     "output_type": "execute_result"
    }
   ],
   "source": [
    "df_loc[\"Country\"].unique()"
   ]
  },
  {
   "cell_type": "code",
   "execution_count": 18,
   "metadata": {},
   "outputs": [
    {
     "data": {
      "text/plain": [
       "array(['California'], dtype=object)"
      ]
     },
     "execution_count": 18,
     "metadata": {},
     "output_type": "execute_result"
    }
   ],
   "source": [
    "df_loc[\"State\"].unique()"
   ]
  },
  {
   "cell_type": "code",
   "execution_count": 19,
   "metadata": {},
   "outputs": [
    {
     "data": {
      "text/plain": [
       "array(['Los Angeles', 'Inglewood', 'Whittier', ..., 'Topaz', 'Jacumba',\n",
       "       'Holtville'], dtype=object)"
      ]
     },
     "execution_count": 19,
     "metadata": {},
     "output_type": "execute_result"
    }
   ],
   "source": [
    "df_loc[\"City\"].unique()"
   ]
  },
  {
   "cell_type": "code",
   "execution_count": 128,
   "metadata": {},
   "outputs": [],
   "source": [
    "df_loc.drop(columns=[\"Country\",\"State\",\"Lat Long\",\"Count\"], axis=1, inplace=True)"
   ]
  },
  {
   "cell_type": "code",
   "execution_count": 129,
   "metadata": {},
   "outputs": [
    {
     "data": {
      "text/html": [
       "<div>\n",
       "<style scoped>\n",
       "    .dataframe tbody tr th:only-of-type {\n",
       "        vertical-align: middle;\n",
       "    }\n",
       "\n",
       "    .dataframe tbody tr th {\n",
       "        vertical-align: top;\n",
       "    }\n",
       "\n",
       "    .dataframe thead th {\n",
       "        text-align: right;\n",
       "    }\n",
       "</style>\n",
       "<table border=\"1\" class=\"dataframe\">\n",
       "  <thead>\n",
       "    <tr style=\"text-align: right;\">\n",
       "      <th></th>\n",
       "      <th>Customer ID</th>\n",
       "      <th>City</th>\n",
       "      <th>Zip Code</th>\n",
       "      <th>Latitude</th>\n",
       "      <th>Longitude</th>\n",
       "    </tr>\n",
       "  </thead>\n",
       "  <tbody>\n",
       "    <tr>\n",
       "      <th>0</th>\n",
       "      <td>8779-QRDMV</td>\n",
       "      <td>Los Angeles</td>\n",
       "      <td>90022</td>\n",
       "      <td>34.023810</td>\n",
       "      <td>-118.156582</td>\n",
       "    </tr>\n",
       "    <tr>\n",
       "      <th>1</th>\n",
       "      <td>7495-OOKFY</td>\n",
       "      <td>Los Angeles</td>\n",
       "      <td>90063</td>\n",
       "      <td>34.044271</td>\n",
       "      <td>-118.185237</td>\n",
       "    </tr>\n",
       "    <tr>\n",
       "      <th>2</th>\n",
       "      <td>1658-BYGOY</td>\n",
       "      <td>Los Angeles</td>\n",
       "      <td>90065</td>\n",
       "      <td>34.108833</td>\n",
       "      <td>-118.229715</td>\n",
       "    </tr>\n",
       "    <tr>\n",
       "      <th>3</th>\n",
       "      <td>4598-XLKNJ</td>\n",
       "      <td>Inglewood</td>\n",
       "      <td>90303</td>\n",
       "      <td>33.936291</td>\n",
       "      <td>-118.332639</td>\n",
       "    </tr>\n",
       "    <tr>\n",
       "      <th>4</th>\n",
       "      <td>4846-WHAFZ</td>\n",
       "      <td>Whittier</td>\n",
       "      <td>90602</td>\n",
       "      <td>33.972119</td>\n",
       "      <td>-118.020188</td>\n",
       "    </tr>\n",
       "  </tbody>\n",
       "</table>\n",
       "</div>"
      ],
      "text/plain": [
       "  Customer ID         City  Zip Code   Latitude   Longitude\n",
       "0  8779-QRDMV  Los Angeles     90022  34.023810 -118.156582\n",
       "1  7495-OOKFY  Los Angeles     90063  34.044271 -118.185237\n",
       "2  1658-BYGOY  Los Angeles     90065  34.108833 -118.229715\n",
       "3  4598-XLKNJ    Inglewood     90303  33.936291 -118.332639\n",
       "4  4846-WHAFZ     Whittier     90602  33.972119 -118.020188"
      ]
     },
     "execution_count": 129,
     "metadata": {},
     "output_type": "execute_result"
    }
   ],
   "source": [
    "df_loc.head()"
   ]
  },
  {
   "cell_type": "code",
   "execution_count": 130,
   "metadata": {},
   "outputs": [],
   "source": [
    "#Tableau \n",
    "df_loc.to_csv('../data/Tableau/df_loc.csv', index=False)"
   ]
  },
  {
   "cell_type": "code",
   "execution_count": null,
   "metadata": {},
   "outputs": [],
   "source": [
    "# SQL"
   ]
  },
  {
   "cell_type": "code",
   "execution_count": 131,
   "metadata": {},
   "outputs": [],
   "source": [
    "df_loc_sql=df_loc.copy()\n",
    "df_loc_sql.drop(columns=[\"Latitude\",\"Longitude\"], axis=1, inplace=True)"
   ]
  },
  {
   "cell_type": "code",
   "execution_count": 132,
   "metadata": {},
   "outputs": [
    {
     "data": {
      "text/html": [
       "<div>\n",
       "<style scoped>\n",
       "    .dataframe tbody tr th:only-of-type {\n",
       "        vertical-align: middle;\n",
       "    }\n",
       "\n",
       "    .dataframe tbody tr th {\n",
       "        vertical-align: top;\n",
       "    }\n",
       "\n",
       "    .dataframe thead th {\n",
       "        text-align: right;\n",
       "    }\n",
       "</style>\n",
       "<table border=\"1\" class=\"dataframe\">\n",
       "  <thead>\n",
       "    <tr style=\"text-align: right;\">\n",
       "      <th></th>\n",
       "      <th>Customer ID</th>\n",
       "      <th>City</th>\n",
       "      <th>Zip Code</th>\n",
       "    </tr>\n",
       "  </thead>\n",
       "  <tbody>\n",
       "    <tr>\n",
       "      <th>0</th>\n",
       "      <td>8779-QRDMV</td>\n",
       "      <td>Los Angeles</td>\n",
       "      <td>90022</td>\n",
       "    </tr>\n",
       "  </tbody>\n",
       "</table>\n",
       "</div>"
      ],
      "text/plain": [
       "  Customer ID         City  Zip Code\n",
       "0  8779-QRDMV  Los Angeles     90022"
      ]
     },
     "execution_count": 132,
     "metadata": {},
     "output_type": "execute_result"
    }
   ],
   "source": [
    "df_loc_sql.head(1)"
   ]
  },
  {
   "cell_type": "code",
   "execution_count": 140,
   "metadata": {},
   "outputs": [],
   "source": [
    "#SQL\n",
    "df_loc_sql.to_csv('../data/SQL/df_localization.csv', index=False)"
   ]
  },
  {
   "cell_type": "markdown",
   "metadata": {},
   "source": [
    "# Population"
   ]
  },
  {
   "cell_type": "code",
   "execution_count": 134,
   "metadata": {},
   "outputs": [
    {
     "data": {
      "text/html": [
       "<div>\n",
       "<style scoped>\n",
       "    .dataframe tbody tr th:only-of-type {\n",
       "        vertical-align: middle;\n",
       "    }\n",
       "\n",
       "    .dataframe tbody tr th {\n",
       "        vertical-align: top;\n",
       "    }\n",
       "\n",
       "    .dataframe thead th {\n",
       "        text-align: right;\n",
       "    }\n",
       "</style>\n",
       "<table border=\"1\" class=\"dataframe\">\n",
       "  <thead>\n",
       "    <tr style=\"text-align: right;\">\n",
       "      <th></th>\n",
       "      <th>ID</th>\n",
       "      <th>Zip Code</th>\n",
       "      <th>Population</th>\n",
       "    </tr>\n",
       "  </thead>\n",
       "  <tbody>\n",
       "    <tr>\n",
       "      <th>0</th>\n",
       "      <td>1</td>\n",
       "      <td>90001</td>\n",
       "      <td>54492</td>\n",
       "    </tr>\n",
       "    <tr>\n",
       "      <th>1</th>\n",
       "      <td>2</td>\n",
       "      <td>90002</td>\n",
       "      <td>44586</td>\n",
       "    </tr>\n",
       "    <tr>\n",
       "      <th>2</th>\n",
       "      <td>3</td>\n",
       "      <td>90003</td>\n",
       "      <td>58198</td>\n",
       "    </tr>\n",
       "    <tr>\n",
       "      <th>3</th>\n",
       "      <td>4</td>\n",
       "      <td>90004</td>\n",
       "      <td>67852</td>\n",
       "    </tr>\n",
       "    <tr>\n",
       "      <th>4</th>\n",
       "      <td>5</td>\n",
       "      <td>90005</td>\n",
       "      <td>43019</td>\n",
       "    </tr>\n",
       "  </tbody>\n",
       "</table>\n",
       "</div>"
      ],
      "text/plain": [
       "   ID  Zip Code  Population\n",
       "0   1     90001       54492\n",
       "1   2     90002       44586\n",
       "2   3     90003       58198\n",
       "3   4     90004       67852\n",
       "4   5     90005       43019"
      ]
     },
     "execution_count": 134,
     "metadata": {},
     "output_type": "execute_result"
    }
   ],
   "source": [
    "df_pop = pd.read_excel(\"../data/raw_data/Telco_customer_churn_population.xlsx\")\n",
    "df_pop.head()"
   ]
  },
  {
   "cell_type": "code",
   "execution_count": null,
   "metadata": {},
   "outputs": [],
   "source": []
  },
  {
   "cell_type": "code",
   "execution_count": 135,
   "metadata": {},
   "outputs": [],
   "source": [
    "df_pop.drop(columns=[\"ID\"], axis=1, inplace=True)"
   ]
  },
  {
   "cell_type": "code",
   "execution_count": 136,
   "metadata": {},
   "outputs": [
    {
     "data": {
      "text/html": [
       "<div>\n",
       "<style scoped>\n",
       "    .dataframe tbody tr th:only-of-type {\n",
       "        vertical-align: middle;\n",
       "    }\n",
       "\n",
       "    .dataframe tbody tr th {\n",
       "        vertical-align: top;\n",
       "    }\n",
       "\n",
       "    .dataframe thead th {\n",
       "        text-align: right;\n",
       "    }\n",
       "</style>\n",
       "<table border=\"1\" class=\"dataframe\">\n",
       "  <thead>\n",
       "    <tr style=\"text-align: right;\">\n",
       "      <th></th>\n",
       "      <th>Zip Code</th>\n",
       "      <th>Population</th>\n",
       "    </tr>\n",
       "  </thead>\n",
       "  <tbody>\n",
       "    <tr>\n",
       "      <th>0</th>\n",
       "      <td>90001</td>\n",
       "      <td>54492</td>\n",
       "    </tr>\n",
       "  </tbody>\n",
       "</table>\n",
       "</div>"
      ],
      "text/plain": [
       "   Zip Code  Population\n",
       "0     90001       54492"
      ]
     },
     "execution_count": 136,
     "metadata": {},
     "output_type": "execute_result"
    }
   ],
   "source": [
    "df_pop.head(1)"
   ]
  },
  {
   "cell_type": "code",
   "execution_count": 152,
   "metadata": {},
   "outputs": [
    {
     "name": "stdout",
     "output_type": "stream",
     "text": [
      "<class 'pandas.core.frame.DataFrame'>\n",
      "RangeIndex: 1671 entries, 0 to 1670\n",
      "Data columns (total 2 columns):\n",
      " #   Column      Non-Null Count  Dtype\n",
      "---  ------      --------------  -----\n",
      " 0   Zip Code    1671 non-null   int64\n",
      " 1   Population  1671 non-null   int64\n",
      "dtypes: int64(2)\n",
      "memory usage: 26.2 KB\n"
     ]
    }
   ],
   "source": [
    "df_pop.info()"
   ]
  },
  {
   "cell_type": "code",
   "execution_count": 137,
   "metadata": {},
   "outputs": [],
   "source": [
    "#SQL\n",
    "df_pop.to_csv('../data/SQL/df_pop.csv', index=False)"
   ]
  },
  {
   "cell_type": "code",
   "execution_count": 138,
   "metadata": {},
   "outputs": [],
   "source": [
    "df_loc_pop = pd.merge(df_loc, df_pop, on='Zip Code')"
   ]
  },
  {
   "cell_type": "code",
   "execution_count": 139,
   "metadata": {},
   "outputs": [
    {
     "data": {
      "text/html": [
       "<div>\n",
       "<style scoped>\n",
       "    .dataframe tbody tr th:only-of-type {\n",
       "        vertical-align: middle;\n",
       "    }\n",
       "\n",
       "    .dataframe tbody tr th {\n",
       "        vertical-align: top;\n",
       "    }\n",
       "\n",
       "    .dataframe thead th {\n",
       "        text-align: right;\n",
       "    }\n",
       "</style>\n",
       "<table border=\"1\" class=\"dataframe\">\n",
       "  <thead>\n",
       "    <tr style=\"text-align: right;\">\n",
       "      <th></th>\n",
       "      <th>Customer ID</th>\n",
       "      <th>City</th>\n",
       "      <th>Zip Code</th>\n",
       "      <th>Latitude</th>\n",
       "      <th>Longitude</th>\n",
       "      <th>Population</th>\n",
       "    </tr>\n",
       "  </thead>\n",
       "  <tbody>\n",
       "    <tr>\n",
       "      <th>0</th>\n",
       "      <td>8779-QRDMV</td>\n",
       "      <td>Los Angeles</td>\n",
       "      <td>90022</td>\n",
       "      <td>34.02381</td>\n",
       "      <td>-118.156582</td>\n",
       "      <td>68701</td>\n",
       "    </tr>\n",
       "    <tr>\n",
       "      <th>1</th>\n",
       "      <td>4737-AQCPU</td>\n",
       "      <td>Los Angeles</td>\n",
       "      <td>90022</td>\n",
       "      <td>34.02381</td>\n",
       "      <td>-118.156582</td>\n",
       "      <td>68701</td>\n",
       "    </tr>\n",
       "    <tr>\n",
       "      <th>2</th>\n",
       "      <td>5043-TRZWM</td>\n",
       "      <td>Los Angeles</td>\n",
       "      <td>90022</td>\n",
       "      <td>34.02381</td>\n",
       "      <td>-118.156582</td>\n",
       "      <td>68701</td>\n",
       "    </tr>\n",
       "    <tr>\n",
       "      <th>3</th>\n",
       "      <td>8165-CBKXO</td>\n",
       "      <td>Los Angeles</td>\n",
       "      <td>90022</td>\n",
       "      <td>34.02381</td>\n",
       "      <td>-118.156582</td>\n",
       "      <td>68701</td>\n",
       "    </tr>\n",
       "    <tr>\n",
       "      <th>4</th>\n",
       "      <td>9979-RGMZT</td>\n",
       "      <td>Los Angeles</td>\n",
       "      <td>90022</td>\n",
       "      <td>34.02381</td>\n",
       "      <td>-118.156582</td>\n",
       "      <td>68701</td>\n",
       "    </tr>\n",
       "  </tbody>\n",
       "</table>\n",
       "</div>"
      ],
      "text/plain": [
       "  Customer ID         City  Zip Code  Latitude   Longitude  Population\n",
       "0  8779-QRDMV  Los Angeles     90022  34.02381 -118.156582       68701\n",
       "1  4737-AQCPU  Los Angeles     90022  34.02381 -118.156582       68701\n",
       "2  5043-TRZWM  Los Angeles     90022  34.02381 -118.156582       68701\n",
       "3  8165-CBKXO  Los Angeles     90022  34.02381 -118.156582       68701\n",
       "4  9979-RGMZT  Los Angeles     90022  34.02381 -118.156582       68701"
      ]
     },
     "execution_count": 139,
     "metadata": {},
     "output_type": "execute_result"
    }
   ],
   "source": [
    "df_loc_pop.head()"
   ]
  },
  {
   "cell_type": "code",
   "execution_count": 32,
   "metadata": {},
   "outputs": [],
   "source": [
    "df_loc_pop.drop(columns=[\"ID\",\"Zip Code\"], axis=1, inplace=True)"
   ]
  },
  {
   "cell_type": "code",
   "execution_count": 33,
   "metadata": {},
   "outputs": [
    {
     "data": {
      "text/html": [
       "<div>\n",
       "<style scoped>\n",
       "    .dataframe tbody tr th:only-of-type {\n",
       "        vertical-align: middle;\n",
       "    }\n",
       "\n",
       "    .dataframe tbody tr th {\n",
       "        vertical-align: top;\n",
       "    }\n",
       "\n",
       "    .dataframe thead th {\n",
       "        text-align: right;\n",
       "    }\n",
       "</style>\n",
       "<table border=\"1\" class=\"dataframe\">\n",
       "  <thead>\n",
       "    <tr style=\"text-align: right;\">\n",
       "      <th></th>\n",
       "      <th>Customer ID</th>\n",
       "      <th>City</th>\n",
       "      <th>Population</th>\n",
       "    </tr>\n",
       "  </thead>\n",
       "  <tbody>\n",
       "    <tr>\n",
       "      <th>0</th>\n",
       "      <td>8779-QRDMV</td>\n",
       "      <td>Los Angeles</td>\n",
       "      <td>68701</td>\n",
       "    </tr>\n",
       "  </tbody>\n",
       "</table>\n",
       "</div>"
      ],
      "text/plain": [
       "  Customer ID         City  Population\n",
       "0  8779-QRDMV  Los Angeles       68701"
      ]
     },
     "execution_count": 33,
     "metadata": {},
     "output_type": "execute_result"
    }
   ],
   "source": [
    "df_loc_pop.head(1)"
   ]
  },
  {
   "cell_type": "code",
   "execution_count": 36,
   "metadata": {},
   "outputs": [],
   "source": [
    "#SQL\n",
    "df_loc_pop.to_csv('../data/SQL/df_loc.csv', index=False)"
   ]
  },
  {
   "cell_type": "code",
   "execution_count": 88,
   "metadata": {},
   "outputs": [
    {
     "data": {
      "text/html": [
       "<div>\n",
       "<style scoped>\n",
       "    .dataframe tbody tr th:only-of-type {\n",
       "        vertical-align: middle;\n",
       "    }\n",
       "\n",
       "    .dataframe tbody tr th {\n",
       "        vertical-align: top;\n",
       "    }\n",
       "\n",
       "    .dataframe thead th {\n",
       "        text-align: right;\n",
       "    }\n",
       "</style>\n",
       "<table border=\"1\" class=\"dataframe\">\n",
       "  <thead>\n",
       "    <tr style=\"text-align: right;\">\n",
       "      <th></th>\n",
       "      <th>Customer ID</th>\n",
       "      <th>City</th>\n",
       "      <th>Population</th>\n",
       "    </tr>\n",
       "  </thead>\n",
       "  <tbody>\n",
       "    <tr>\n",
       "      <th>0</th>\n",
       "      <td>8779-QRDMV</td>\n",
       "      <td>Los Angeles</td>\n",
       "      <td>68701</td>\n",
       "    </tr>\n",
       "  </tbody>\n",
       "</table>\n",
       "</div>"
      ],
      "text/plain": [
       "  Customer ID         City  Population\n",
       "0  8779-QRDMV  Los Angeles       68701"
      ]
     },
     "execution_count": 88,
     "metadata": {},
     "output_type": "execute_result"
    }
   ],
   "source": [
    "df_loc_pop.head(1)"
   ]
  },
  {
   "cell_type": "code",
   "execution_count": 33,
   "metadata": {},
   "outputs": [],
   "source": [
    "df_demo.head()"
   ]
  },
  {
   "cell_type": "code",
   "execution_count": 89,
   "metadata": {},
   "outputs": [],
   "source": [
    "df_final = pd.merge(df_demo_m, df_loc_pop, on='Customer ID')\n"
   ]
  },
  {
   "cell_type": "code",
   "execution_count": 90,
   "metadata": {},
   "outputs": [
    {
     "data": {
      "text/html": [
       "<div>\n",
       "<style scoped>\n",
       "    .dataframe tbody tr th:only-of-type {\n",
       "        vertical-align: middle;\n",
       "    }\n",
       "\n",
       "    .dataframe tbody tr th {\n",
       "        vertical-align: top;\n",
       "    }\n",
       "\n",
       "    .dataframe thead th {\n",
       "        text-align: right;\n",
       "    }\n",
       "</style>\n",
       "<table border=\"1\" class=\"dataframe\">\n",
       "  <thead>\n",
       "    <tr style=\"text-align: right;\">\n",
       "      <th></th>\n",
       "      <th>Customer ID</th>\n",
       "      <th>Gender</th>\n",
       "      <th>Age</th>\n",
       "      <th>Married</th>\n",
       "      <th>Number of Dependents</th>\n",
       "      <th>City</th>\n",
       "      <th>Population</th>\n",
       "    </tr>\n",
       "  </thead>\n",
       "  <tbody>\n",
       "    <tr>\n",
       "      <th>0</th>\n",
       "      <td>8779-QRDMV</td>\n",
       "      <td>Male</td>\n",
       "      <td>78</td>\n",
       "      <td>No</td>\n",
       "      <td>0</td>\n",
       "      <td>Los Angeles</td>\n",
       "      <td>68701</td>\n",
       "    </tr>\n",
       "    <tr>\n",
       "      <th>1</th>\n",
       "      <td>7495-OOKFY</td>\n",
       "      <td>Female</td>\n",
       "      <td>74</td>\n",
       "      <td>Yes</td>\n",
       "      <td>1</td>\n",
       "      <td>Los Angeles</td>\n",
       "      <td>55668</td>\n",
       "    </tr>\n",
       "    <tr>\n",
       "      <th>2</th>\n",
       "      <td>1658-BYGOY</td>\n",
       "      <td>Male</td>\n",
       "      <td>71</td>\n",
       "      <td>No</td>\n",
       "      <td>3</td>\n",
       "      <td>Los Angeles</td>\n",
       "      <td>47534</td>\n",
       "    </tr>\n",
       "    <tr>\n",
       "      <th>3</th>\n",
       "      <td>4598-XLKNJ</td>\n",
       "      <td>Female</td>\n",
       "      <td>78</td>\n",
       "      <td>Yes</td>\n",
       "      <td>1</td>\n",
       "      <td>Inglewood</td>\n",
       "      <td>27778</td>\n",
       "    </tr>\n",
       "    <tr>\n",
       "      <th>4</th>\n",
       "      <td>4846-WHAFZ</td>\n",
       "      <td>Female</td>\n",
       "      <td>80</td>\n",
       "      <td>Yes</td>\n",
       "      <td>1</td>\n",
       "      <td>Whittier</td>\n",
       "      <td>26265</td>\n",
       "    </tr>\n",
       "  </tbody>\n",
       "</table>\n",
       "</div>"
      ],
      "text/plain": [
       "  Customer ID  Gender  Age Married  Number of Dependents         City  \\\n",
       "0  8779-QRDMV    Male   78      No                     0  Los Angeles   \n",
       "1  7495-OOKFY  Female   74     Yes                     1  Los Angeles   \n",
       "2  1658-BYGOY    Male   71      No                     3  Los Angeles   \n",
       "3  4598-XLKNJ  Female   78     Yes                     1    Inglewood   \n",
       "4  4846-WHAFZ  Female   80     Yes                     1     Whittier   \n",
       "\n",
       "   Population  \n",
       "0       68701  \n",
       "1       55668  \n",
       "2       47534  \n",
       "3       27778  \n",
       "4       26265  "
      ]
     },
     "execution_count": 90,
     "metadata": {},
     "output_type": "execute_result"
    }
   ],
   "source": [
    "df_final.head()"
   ]
  },
  {
   "cell_type": "markdown",
   "metadata": {},
   "source": [
    "# Services"
   ]
  },
  {
   "cell_type": "code",
   "execution_count": 141,
   "metadata": {},
   "outputs": [
    {
     "data": {
      "text/html": [
       "<div>\n",
       "<style scoped>\n",
       "    .dataframe tbody tr th:only-of-type {\n",
       "        vertical-align: middle;\n",
       "    }\n",
       "\n",
       "    .dataframe tbody tr th {\n",
       "        vertical-align: top;\n",
       "    }\n",
       "\n",
       "    .dataframe thead th {\n",
       "        text-align: right;\n",
       "    }\n",
       "</style>\n",
       "<table border=\"1\" class=\"dataframe\">\n",
       "  <thead>\n",
       "    <tr style=\"text-align: right;\">\n",
       "      <th></th>\n",
       "      <th>Customer ID</th>\n",
       "      <th>Count</th>\n",
       "      <th>Quarter</th>\n",
       "      <th>Referred a Friend</th>\n",
       "      <th>Number of Referrals</th>\n",
       "      <th>Tenure in Months</th>\n",
       "      <th>Offer</th>\n",
       "      <th>Phone Service</th>\n",
       "      <th>Avg Monthly Long Distance Charges</th>\n",
       "      <th>Multiple Lines</th>\n",
       "      <th>...</th>\n",
       "      <th>Unlimited Data</th>\n",
       "      <th>Contract</th>\n",
       "      <th>Paperless Billing</th>\n",
       "      <th>Payment Method</th>\n",
       "      <th>Monthly Charge</th>\n",
       "      <th>Total Charges</th>\n",
       "      <th>Total Refunds</th>\n",
       "      <th>Total Extra Data Charges</th>\n",
       "      <th>Total Long Distance Charges</th>\n",
       "      <th>Total Revenue</th>\n",
       "    </tr>\n",
       "  </thead>\n",
       "  <tbody>\n",
       "    <tr>\n",
       "      <th>0</th>\n",
       "      <td>8779-QRDMV</td>\n",
       "      <td>1</td>\n",
       "      <td>Q3</td>\n",
       "      <td>No</td>\n",
       "      <td>0</td>\n",
       "      <td>1</td>\n",
       "      <td>None</td>\n",
       "      <td>No</td>\n",
       "      <td>0.00</td>\n",
       "      <td>No</td>\n",
       "      <td>...</td>\n",
       "      <td>No</td>\n",
       "      <td>Month-to-Month</td>\n",
       "      <td>Yes</td>\n",
       "      <td>Bank Withdrawal</td>\n",
       "      <td>39.65</td>\n",
       "      <td>39.65</td>\n",
       "      <td>0.00</td>\n",
       "      <td>20</td>\n",
       "      <td>0.00</td>\n",
       "      <td>59.65</td>\n",
       "    </tr>\n",
       "    <tr>\n",
       "      <th>1</th>\n",
       "      <td>7495-OOKFY</td>\n",
       "      <td>1</td>\n",
       "      <td>Q3</td>\n",
       "      <td>Yes</td>\n",
       "      <td>1</td>\n",
       "      <td>8</td>\n",
       "      <td>Offer E</td>\n",
       "      <td>Yes</td>\n",
       "      <td>48.85</td>\n",
       "      <td>Yes</td>\n",
       "      <td>...</td>\n",
       "      <td>Yes</td>\n",
       "      <td>Month-to-Month</td>\n",
       "      <td>Yes</td>\n",
       "      <td>Credit Card</td>\n",
       "      <td>80.65</td>\n",
       "      <td>633.30</td>\n",
       "      <td>0.00</td>\n",
       "      <td>0</td>\n",
       "      <td>390.80</td>\n",
       "      <td>1024.10</td>\n",
       "    </tr>\n",
       "    <tr>\n",
       "      <th>2</th>\n",
       "      <td>1658-BYGOY</td>\n",
       "      <td>1</td>\n",
       "      <td>Q3</td>\n",
       "      <td>No</td>\n",
       "      <td>0</td>\n",
       "      <td>18</td>\n",
       "      <td>Offer D</td>\n",
       "      <td>Yes</td>\n",
       "      <td>11.33</td>\n",
       "      <td>Yes</td>\n",
       "      <td>...</td>\n",
       "      <td>Yes</td>\n",
       "      <td>Month-to-Month</td>\n",
       "      <td>Yes</td>\n",
       "      <td>Bank Withdrawal</td>\n",
       "      <td>95.45</td>\n",
       "      <td>1752.55</td>\n",
       "      <td>45.61</td>\n",
       "      <td>0</td>\n",
       "      <td>203.94</td>\n",
       "      <td>1910.88</td>\n",
       "    </tr>\n",
       "    <tr>\n",
       "      <th>3</th>\n",
       "      <td>4598-XLKNJ</td>\n",
       "      <td>1</td>\n",
       "      <td>Q3</td>\n",
       "      <td>Yes</td>\n",
       "      <td>1</td>\n",
       "      <td>25</td>\n",
       "      <td>Offer C</td>\n",
       "      <td>Yes</td>\n",
       "      <td>19.76</td>\n",
       "      <td>No</td>\n",
       "      <td>...</td>\n",
       "      <td>Yes</td>\n",
       "      <td>Month-to-Month</td>\n",
       "      <td>Yes</td>\n",
       "      <td>Bank Withdrawal</td>\n",
       "      <td>98.50</td>\n",
       "      <td>2514.50</td>\n",
       "      <td>13.43</td>\n",
       "      <td>0</td>\n",
       "      <td>494.00</td>\n",
       "      <td>2995.07</td>\n",
       "    </tr>\n",
       "    <tr>\n",
       "      <th>4</th>\n",
       "      <td>4846-WHAFZ</td>\n",
       "      <td>1</td>\n",
       "      <td>Q3</td>\n",
       "      <td>Yes</td>\n",
       "      <td>1</td>\n",
       "      <td>37</td>\n",
       "      <td>Offer C</td>\n",
       "      <td>Yes</td>\n",
       "      <td>6.33</td>\n",
       "      <td>Yes</td>\n",
       "      <td>...</td>\n",
       "      <td>Yes</td>\n",
       "      <td>Month-to-Month</td>\n",
       "      <td>Yes</td>\n",
       "      <td>Bank Withdrawal</td>\n",
       "      <td>76.50</td>\n",
       "      <td>2868.15</td>\n",
       "      <td>0.00</td>\n",
       "      <td>0</td>\n",
       "      <td>234.21</td>\n",
       "      <td>3102.36</td>\n",
       "    </tr>\n",
       "  </tbody>\n",
       "</table>\n",
       "<p>5 rows × 30 columns</p>\n",
       "</div>"
      ],
      "text/plain": [
       "  Customer ID  Count Quarter Referred a Friend  Number of Referrals  \\\n",
       "0  8779-QRDMV      1      Q3                No                    0   \n",
       "1  7495-OOKFY      1      Q3               Yes                    1   \n",
       "2  1658-BYGOY      1      Q3                No                    0   \n",
       "3  4598-XLKNJ      1      Q3               Yes                    1   \n",
       "4  4846-WHAFZ      1      Q3               Yes                    1   \n",
       "\n",
       "   Tenure in Months    Offer Phone Service  Avg Monthly Long Distance Charges  \\\n",
       "0                 1     None            No                               0.00   \n",
       "1                 8  Offer E           Yes                              48.85   \n",
       "2                18  Offer D           Yes                              11.33   \n",
       "3                25  Offer C           Yes                              19.76   \n",
       "4                37  Offer C           Yes                               6.33   \n",
       "\n",
       "  Multiple Lines  ... Unlimited Data        Contract  Paperless Billing  \\\n",
       "0             No  ...             No  Month-to-Month                Yes   \n",
       "1            Yes  ...            Yes  Month-to-Month                Yes   \n",
       "2            Yes  ...            Yes  Month-to-Month                Yes   \n",
       "3             No  ...            Yes  Month-to-Month                Yes   \n",
       "4            Yes  ...            Yes  Month-to-Month                Yes   \n",
       "\n",
       "    Payment Method Monthly Charge Total Charges Total Refunds  \\\n",
       "0  Bank Withdrawal          39.65         39.65          0.00   \n",
       "1      Credit Card          80.65        633.30          0.00   \n",
       "2  Bank Withdrawal          95.45       1752.55         45.61   \n",
       "3  Bank Withdrawal          98.50       2514.50         13.43   \n",
       "4  Bank Withdrawal          76.50       2868.15          0.00   \n",
       "\n",
       "  Total Extra Data Charges Total Long Distance Charges Total Revenue  \n",
       "0                       20                        0.00         59.65  \n",
       "1                        0                      390.80       1024.10  \n",
       "2                        0                      203.94       1910.88  \n",
       "3                        0                      494.00       2995.07  \n",
       "4                        0                      234.21       3102.36  \n",
       "\n",
       "[5 rows x 30 columns]"
      ]
     },
     "execution_count": 141,
     "metadata": {},
     "output_type": "execute_result"
    }
   ],
   "source": [
    "df_services = pd.read_excel(\"../data/raw_data/Telco_customer_churn_services.xlsx\")\n",
    "df_services.head()"
   ]
  },
  {
   "cell_type": "markdown",
   "metadata": {},
   "source": [
    "- SQL"
   ]
  },
  {
   "cell_type": "code",
   "execution_count": 142,
   "metadata": {},
   "outputs": [],
   "source": [
    "df_services.drop(columns=[\"Count\",\"Quarter\"], axis=1, inplace=True)"
   ]
  },
  {
   "cell_type": "code",
   "execution_count": 60,
   "metadata": {},
   "outputs": [
    {
     "data": {
      "text/plain": [
       "array(['Yes', 'No'], dtype=object)"
      ]
     },
     "execution_count": 60,
     "metadata": {},
     "output_type": "execute_result"
    }
   ],
   "source": [
    "df_services[\"Paperless Billing\"].unique()"
   ]
  },
  {
   "cell_type": "code",
   "execution_count": 61,
   "metadata": {},
   "outputs": [
    {
     "data": {
      "text/plain": [
       "array(['None', 'Offer E', 'Offer D', 'Offer C', 'Offer B', 'Offer A'],\n",
       "      dtype=object)"
      ]
     },
     "execution_count": 61,
     "metadata": {},
     "output_type": "execute_result"
    }
   ],
   "source": [
    "df_services[\"Offer\"].unique()"
   ]
  },
  {
   "cell_type": "code",
   "execution_count": 143,
   "metadata": {},
   "outputs": [
    {
     "data": {
      "text/html": [
       "<div>\n",
       "<style scoped>\n",
       "    .dataframe tbody tr th:only-of-type {\n",
       "        vertical-align: middle;\n",
       "    }\n",
       "\n",
       "    .dataframe tbody tr th {\n",
       "        vertical-align: top;\n",
       "    }\n",
       "\n",
       "    .dataframe thead th {\n",
       "        text-align: right;\n",
       "    }\n",
       "</style>\n",
       "<table border=\"1\" class=\"dataframe\">\n",
       "  <thead>\n",
       "    <tr style=\"text-align: right;\">\n",
       "      <th></th>\n",
       "      <th>Customer ID</th>\n",
       "      <th>Referred a Friend</th>\n",
       "      <th>Number of Referrals</th>\n",
       "      <th>Tenure in Months</th>\n",
       "      <th>Offer</th>\n",
       "      <th>Phone Service</th>\n",
       "      <th>Avg Monthly Long Distance Charges</th>\n",
       "      <th>Multiple Lines</th>\n",
       "      <th>Internet Service</th>\n",
       "      <th>Internet Type</th>\n",
       "      <th>...</th>\n",
       "      <th>Unlimited Data</th>\n",
       "      <th>Contract</th>\n",
       "      <th>Paperless Billing</th>\n",
       "      <th>Payment Method</th>\n",
       "      <th>Monthly Charge</th>\n",
       "      <th>Total Charges</th>\n",
       "      <th>Total Refunds</th>\n",
       "      <th>Total Extra Data Charges</th>\n",
       "      <th>Total Long Distance Charges</th>\n",
       "      <th>Total Revenue</th>\n",
       "    </tr>\n",
       "  </thead>\n",
       "  <tbody>\n",
       "    <tr>\n",
       "      <th>0</th>\n",
       "      <td>8779-QRDMV</td>\n",
       "      <td>No</td>\n",
       "      <td>0</td>\n",
       "      <td>1</td>\n",
       "      <td>None</td>\n",
       "      <td>No</td>\n",
       "      <td>0.00</td>\n",
       "      <td>No</td>\n",
       "      <td>Yes</td>\n",
       "      <td>DSL</td>\n",
       "      <td>...</td>\n",
       "      <td>No</td>\n",
       "      <td>Month-to-Month</td>\n",
       "      <td>Yes</td>\n",
       "      <td>Bank Withdrawal</td>\n",
       "      <td>39.65</td>\n",
       "      <td>39.65</td>\n",
       "      <td>0.0</td>\n",
       "      <td>20</td>\n",
       "      <td>0.0</td>\n",
       "      <td>59.65</td>\n",
       "    </tr>\n",
       "    <tr>\n",
       "      <th>1</th>\n",
       "      <td>7495-OOKFY</td>\n",
       "      <td>Yes</td>\n",
       "      <td>1</td>\n",
       "      <td>8</td>\n",
       "      <td>Offer E</td>\n",
       "      <td>Yes</td>\n",
       "      <td>48.85</td>\n",
       "      <td>Yes</td>\n",
       "      <td>Yes</td>\n",
       "      <td>Fiber Optic</td>\n",
       "      <td>...</td>\n",
       "      <td>Yes</td>\n",
       "      <td>Month-to-Month</td>\n",
       "      <td>Yes</td>\n",
       "      <td>Credit Card</td>\n",
       "      <td>80.65</td>\n",
       "      <td>633.30</td>\n",
       "      <td>0.0</td>\n",
       "      <td>0</td>\n",
       "      <td>390.8</td>\n",
       "      <td>1024.10</td>\n",
       "    </tr>\n",
       "  </tbody>\n",
       "</table>\n",
       "<p>2 rows × 28 columns</p>\n",
       "</div>"
      ],
      "text/plain": [
       "  Customer ID Referred a Friend  Number of Referrals  Tenure in Months  \\\n",
       "0  8779-QRDMV                No                    0                 1   \n",
       "1  7495-OOKFY               Yes                    1                 8   \n",
       "\n",
       "     Offer Phone Service  Avg Monthly Long Distance Charges Multiple Lines  \\\n",
       "0     None            No                               0.00             No   \n",
       "1  Offer E           Yes                              48.85            Yes   \n",
       "\n",
       "  Internet Service Internet Type  ...  Unlimited Data        Contract  \\\n",
       "0              Yes           DSL  ...              No  Month-to-Month   \n",
       "1              Yes   Fiber Optic  ...             Yes  Month-to-Month   \n",
       "\n",
       "  Paperless Billing   Payment Method Monthly Charge Total Charges  \\\n",
       "0               Yes  Bank Withdrawal          39.65         39.65   \n",
       "1               Yes      Credit Card          80.65        633.30   \n",
       "\n",
       "  Total Refunds Total Extra Data Charges Total Long Distance Charges  \\\n",
       "0           0.0                       20                         0.0   \n",
       "1           0.0                        0                       390.8   \n",
       "\n",
       "  Total Revenue  \n",
       "0         59.65  \n",
       "1       1024.10  \n",
       "\n",
       "[2 rows x 28 columns]"
      ]
     },
     "execution_count": 143,
     "metadata": {},
     "output_type": "execute_result"
    }
   ],
   "source": [
    "df_services.head(2)"
   ]
  },
  {
   "cell_type": "code",
   "execution_count": 58,
   "metadata": {},
   "outputs": [
    {
     "data": {
      "text/plain": [
       "array(['Month-to-Month', 'One Year', 'Two Year'], dtype=object)"
      ]
     },
     "execution_count": 58,
     "metadata": {},
     "output_type": "execute_result"
    }
   ],
   "source": [
    "df_services[\"Contract\"].unique()"
   ]
  },
  {
   "cell_type": "code",
   "execution_count": 72,
   "metadata": {},
   "outputs": [
    {
     "data": {
      "text/plain": [
       "array([ 20,   0,  10, 120, 140,  90,  80,  30, 100,  40, 110, 150,  70,\n",
       "        50, 130,  60])"
      ]
     },
     "execution_count": 72,
     "metadata": {},
     "output_type": "execute_result"
    }
   ],
   "source": [
    "df_services[\"Total Extra Data Charges\"].unique()"
   ]
  },
  {
   "cell_type": "code",
   "execution_count": 75,
   "metadata": {},
   "outputs": [
    {
     "data": {
      "text/plain": [
       "array([ 1,  8, 18, 25, 37, 27, 58, 15,  7, 11,  3, 13, 16, 24,  4, 32, 54,\n",
       "        2, 21, 55,  5, 20, 65, 49, 43, 56, 52, 33, 30, 46,  9, 10, 35, 44,\n",
       "       62, 14, 12, 17, 39, 68, 34, 22, 19, 23, 42, 41, 57, 38, 29, 66, 69,\n",
       "       40, 31, 59, 36, 45, 53, 70, 47, 50, 51, 72, 26,  6, 28, 48, 61, 71,\n",
       "       60, 64, 67, 63])"
      ]
     },
     "execution_count": 75,
     "metadata": {},
     "output_type": "execute_result"
    }
   ],
   "source": [
    "df_services[\"Tenure in Months\"].unique()"
   ]
  },
  {
   "cell_type": "code",
   "execution_count": 144,
   "metadata": {},
   "outputs": [
    {
     "data": {
      "text/plain": [
       "Index(['Customer ID', 'Referred a Friend', 'Number of Referrals',\n",
       "       'Tenure in Months', 'Offer', 'Phone Service',\n",
       "       'Avg Monthly Long Distance Charges', 'Multiple Lines',\n",
       "       'Internet Service', 'Internet Type', 'Avg Monthly GB Download',\n",
       "       'Online Security', 'Online Backup', 'Device Protection Plan',\n",
       "       'Premium Tech Support', 'Streaming TV', 'Streaming Movies',\n",
       "       'Streaming Music', 'Unlimited Data', 'Contract', 'Paperless Billing',\n",
       "       'Payment Method', 'Monthly Charge', 'Total Charges', 'Total Refunds',\n",
       "       'Total Extra Data Charges', 'Total Long Distance Charges',\n",
       "       'Total Revenue'],\n",
       "      dtype='object')"
      ]
     },
     "execution_count": 144,
     "metadata": {},
     "output_type": "execute_result"
    }
   ],
   "source": [
    "df_services.columns"
   ]
  },
  {
   "cell_type": "code",
   "execution_count": 157,
   "metadata": {},
   "outputs": [
    {
     "name": "stdout",
     "output_type": "stream",
     "text": [
      "<class 'pandas.core.frame.DataFrame'>\n",
      "RangeIndex: 7043 entries, 0 to 7042\n",
      "Data columns (total 28 columns):\n",
      " #   Column                             Non-Null Count  Dtype  \n",
      "---  ------                             --------------  -----  \n",
      " 0   Customer ID                        7043 non-null   object \n",
      " 1   Referred a Friend                  7043 non-null   object \n",
      " 2   Number of Referrals                7043 non-null   int64  \n",
      " 3   Tenure in Months                   7043 non-null   int64  \n",
      " 4   Offer                              7043 non-null   object \n",
      " 5   Phone Service                      7043 non-null   object \n",
      " 6   Avg Monthly Long Distance Charges  7043 non-null   float64\n",
      " 7   Multiple Lines                     7043 non-null   object \n",
      " 8   Internet Service                   7043 non-null   object \n",
      " 9   Internet Type                      7043 non-null   object \n",
      " 10  Avg Monthly GB Download            7043 non-null   int64  \n",
      " 11  Online Security                    7043 non-null   object \n",
      " 12  Online Backup                      7043 non-null   object \n",
      " 13  Device Protection Plan             7043 non-null   object \n",
      " 14  Premium Tech Support               7043 non-null   object \n",
      " 15  Streaming TV                       7043 non-null   object \n",
      " 16  Streaming Movies                   7043 non-null   object \n",
      " 17  Streaming Music                    7043 non-null   object \n",
      " 18  Unlimited Data                     7043 non-null   object \n",
      " 19  Contract                           7043 non-null   object \n",
      " 20  Paperless Billing                  7043 non-null   object \n",
      " 21  Payment Method                     7043 non-null   object \n",
      " 22  Monthly Charge                     7043 non-null   float64\n",
      " 23  Total Charges                      7043 non-null   float64\n",
      " 24  Total Refunds                      7043 non-null   float64\n",
      " 25  Total Extra Data Charges           7043 non-null   int64  \n",
      " 26  Total Long Distance Charges        7043 non-null   float64\n",
      " 27  Total Revenue                      7043 non-null   float64\n",
      "dtypes: float64(6), int64(4), object(18)\n",
      "memory usage: 1.5+ MB\n"
     ]
    }
   ],
   "source": [
    "df_services.info()"
   ]
  },
  {
   "cell_type": "code",
   "execution_count": 145,
   "metadata": {},
   "outputs": [],
   "source": [
    "#SQL\n",
    "df_services.to_csv('../data/SQL/df_services.csv', index=False)"
   ]
  },
  {
   "cell_type": "markdown",
   "metadata": {},
   "source": [
    "- ML "
   ]
  },
  {
   "cell_type": "code",
   "execution_count": 92,
   "metadata": {},
   "outputs": [],
   "source": [
    "df_services_m=df_services.copy()"
   ]
  },
  {
   "cell_type": "code",
   "execution_count": 95,
   "metadata": {},
   "outputs": [
    {
     "data": {
      "text/html": [
       "<div>\n",
       "<style scoped>\n",
       "    .dataframe tbody tr th:only-of-type {\n",
       "        vertical-align: middle;\n",
       "    }\n",
       "\n",
       "    .dataframe tbody tr th {\n",
       "        vertical-align: top;\n",
       "    }\n",
       "\n",
       "    .dataframe thead th {\n",
       "        text-align: right;\n",
       "    }\n",
       "</style>\n",
       "<table border=\"1\" class=\"dataframe\">\n",
       "  <thead>\n",
       "    <tr style=\"text-align: right;\">\n",
       "      <th></th>\n",
       "      <th>Customer ID</th>\n",
       "      <th>Referred a Friend</th>\n",
       "      <th>Number of Referrals</th>\n",
       "      <th>Tenure in Months</th>\n",
       "      <th>Offer</th>\n",
       "      <th>Phone Service</th>\n",
       "      <th>Avg Monthly Long Distance Charges</th>\n",
       "      <th>Multiple Lines</th>\n",
       "      <th>Internet Service</th>\n",
       "      <th>Internet Type</th>\n",
       "      <th>...</th>\n",
       "      <th>Unlimited Data</th>\n",
       "      <th>Contract</th>\n",
       "      <th>Paperless Billing</th>\n",
       "      <th>Payment Method</th>\n",
       "      <th>Monthly Charge</th>\n",
       "      <th>Total Charges</th>\n",
       "      <th>Total Refunds</th>\n",
       "      <th>Total Extra Data Charges</th>\n",
       "      <th>Total Long Distance Charges</th>\n",
       "      <th>Total Revenue</th>\n",
       "    </tr>\n",
       "  </thead>\n",
       "  <tbody>\n",
       "    <tr>\n",
       "      <th>0</th>\n",
       "      <td>8779-QRDMV</td>\n",
       "      <td>No</td>\n",
       "      <td>0</td>\n",
       "      <td>1</td>\n",
       "      <td>None</td>\n",
       "      <td>No</td>\n",
       "      <td>0.0</td>\n",
       "      <td>No</td>\n",
       "      <td>Yes</td>\n",
       "      <td>DSL</td>\n",
       "      <td>...</td>\n",
       "      <td>No</td>\n",
       "      <td>Month-to-Month</td>\n",
       "      <td>Yes</td>\n",
       "      <td>Bank Withdrawal</td>\n",
       "      <td>39.65</td>\n",
       "      <td>39.65</td>\n",
       "      <td>0.0</td>\n",
       "      <td>20</td>\n",
       "      <td>0.0</td>\n",
       "      <td>59.65</td>\n",
       "    </tr>\n",
       "  </tbody>\n",
       "</table>\n",
       "<p>1 rows × 28 columns</p>\n",
       "</div>"
      ],
      "text/plain": [
       "  Customer ID Referred a Friend  Number of Referrals  Tenure in Months Offer  \\\n",
       "0  8779-QRDMV                No                    0                 1  None   \n",
       "\n",
       "  Phone Service  Avg Monthly Long Distance Charges Multiple Lines  \\\n",
       "0            No                                0.0             No   \n",
       "\n",
       "  Internet Service Internet Type  ...  Unlimited Data        Contract  \\\n",
       "0              Yes           DSL  ...              No  Month-to-Month   \n",
       "\n",
       "  Paperless Billing   Payment Method Monthly Charge Total Charges  \\\n",
       "0               Yes  Bank Withdrawal          39.65         39.65   \n",
       "\n",
       "  Total Refunds Total Extra Data Charges Total Long Distance Charges  \\\n",
       "0           0.0                       20                         0.0   \n",
       "\n",
       "  Total Revenue  \n",
       "0         59.65  \n",
       "\n",
       "[1 rows x 28 columns]"
      ]
     },
     "execution_count": 95,
     "metadata": {},
     "output_type": "execute_result"
    }
   ],
   "source": [
    "df_services_m.head(1)"
   ]
  },
  {
   "cell_type": "code",
   "execution_count": 97,
   "metadata": {},
   "outputs": [
    {
     "data": {
      "text/plain": [
       "Index(['Customer ID', 'Referred a Friend', 'Number of Referrals',\n",
       "       'Tenure in Months', 'Offer', 'Phone Service',\n",
       "       'Avg Monthly Long Distance Charges', 'Multiple Lines',\n",
       "       'Internet Service', 'Internet Type', 'Avg Monthly GB Download',\n",
       "       'Online Security', 'Online Backup', 'Device Protection Plan',\n",
       "       'Premium Tech Support', 'Streaming TV', 'Streaming Movies',\n",
       "       'Streaming Music', 'Unlimited Data', 'Contract', 'Paperless Billing',\n",
       "       'Payment Method', 'Monthly Charge', 'Total Charges', 'Total Refunds',\n",
       "       'Total Extra Data Charges', 'Total Long Distance Charges',\n",
       "       'Total Revenue'],\n",
       "      dtype='object')"
      ]
     },
     "execution_count": 97,
     "metadata": {},
     "output_type": "execute_result"
    }
   ],
   "source": [
    "df_services_m.columns"
   ]
  },
  {
   "cell_type": "code",
   "execution_count": 103,
   "metadata": {},
   "outputs": [
    {
     "data": {
      "text/plain": [
       "array([ 20,   0,  10, 120, 140,  90,  80,  30, 100,  40, 110, 150,  70,\n",
       "        50, 130,  60])"
      ]
     },
     "execution_count": 103,
     "metadata": {},
     "output_type": "execute_result"
    }
   ],
   "source": [
    "df_services_m[\"Total Extra Data Charges\"].unique()"
   ]
  },
  {
   "cell_type": "code",
   "execution_count": 105,
   "metadata": {},
   "outputs": [],
   "source": [
    "df_services_m.drop(columns=[\"Referred a Friend\"], axis=1, inplace=True)"
   ]
  },
  {
   "cell_type": "code",
   "execution_count": 107,
   "metadata": {},
   "outputs": [
    {
     "data": {
      "text/html": [
       "<div>\n",
       "<style scoped>\n",
       "    .dataframe tbody tr th:only-of-type {\n",
       "        vertical-align: middle;\n",
       "    }\n",
       "\n",
       "    .dataframe tbody tr th {\n",
       "        vertical-align: top;\n",
       "    }\n",
       "\n",
       "    .dataframe thead th {\n",
       "        text-align: right;\n",
       "    }\n",
       "</style>\n",
       "<table border=\"1\" class=\"dataframe\">\n",
       "  <thead>\n",
       "    <tr style=\"text-align: right;\">\n",
       "      <th></th>\n",
       "      <th>Customer ID</th>\n",
       "      <th>Number of Referrals</th>\n",
       "      <th>Tenure in Months</th>\n",
       "      <th>Offer</th>\n",
       "      <th>Phone Service</th>\n",
       "      <th>Avg Monthly Long Distance Charges</th>\n",
       "      <th>Multiple Lines</th>\n",
       "      <th>Internet Service</th>\n",
       "      <th>Internet Type</th>\n",
       "      <th>Avg Monthly GB Download</th>\n",
       "      <th>...</th>\n",
       "      <th>Unlimited Data</th>\n",
       "      <th>Contract</th>\n",
       "      <th>Paperless Billing</th>\n",
       "      <th>Payment Method</th>\n",
       "      <th>Monthly Charge</th>\n",
       "      <th>Total Charges</th>\n",
       "      <th>Total Refunds</th>\n",
       "      <th>Total Extra Data Charges</th>\n",
       "      <th>Total Long Distance Charges</th>\n",
       "      <th>Total Revenue</th>\n",
       "    </tr>\n",
       "  </thead>\n",
       "  <tbody>\n",
       "    <tr>\n",
       "      <th>0</th>\n",
       "      <td>8779-QRDMV</td>\n",
       "      <td>0</td>\n",
       "      <td>1</td>\n",
       "      <td>None</td>\n",
       "      <td>No</td>\n",
       "      <td>0.00</td>\n",
       "      <td>No</td>\n",
       "      <td>Yes</td>\n",
       "      <td>DSL</td>\n",
       "      <td>8</td>\n",
       "      <td>...</td>\n",
       "      <td>No</td>\n",
       "      <td>Month-to-Month</td>\n",
       "      <td>Yes</td>\n",
       "      <td>Bank Withdrawal</td>\n",
       "      <td>39.65</td>\n",
       "      <td>39.65</td>\n",
       "      <td>0.00</td>\n",
       "      <td>20</td>\n",
       "      <td>0.00</td>\n",
       "      <td>59.65</td>\n",
       "    </tr>\n",
       "    <tr>\n",
       "      <th>1</th>\n",
       "      <td>7495-OOKFY</td>\n",
       "      <td>1</td>\n",
       "      <td>8</td>\n",
       "      <td>Offer E</td>\n",
       "      <td>Yes</td>\n",
       "      <td>48.85</td>\n",
       "      <td>Yes</td>\n",
       "      <td>Yes</td>\n",
       "      <td>Fiber Optic</td>\n",
       "      <td>17</td>\n",
       "      <td>...</td>\n",
       "      <td>Yes</td>\n",
       "      <td>Month-to-Month</td>\n",
       "      <td>Yes</td>\n",
       "      <td>Credit Card</td>\n",
       "      <td>80.65</td>\n",
       "      <td>633.30</td>\n",
       "      <td>0.00</td>\n",
       "      <td>0</td>\n",
       "      <td>390.80</td>\n",
       "      <td>1024.10</td>\n",
       "    </tr>\n",
       "    <tr>\n",
       "      <th>2</th>\n",
       "      <td>1658-BYGOY</td>\n",
       "      <td>0</td>\n",
       "      <td>18</td>\n",
       "      <td>Offer D</td>\n",
       "      <td>Yes</td>\n",
       "      <td>11.33</td>\n",
       "      <td>Yes</td>\n",
       "      <td>Yes</td>\n",
       "      <td>Fiber Optic</td>\n",
       "      <td>52</td>\n",
       "      <td>...</td>\n",
       "      <td>Yes</td>\n",
       "      <td>Month-to-Month</td>\n",
       "      <td>Yes</td>\n",
       "      <td>Bank Withdrawal</td>\n",
       "      <td>95.45</td>\n",
       "      <td>1752.55</td>\n",
       "      <td>45.61</td>\n",
       "      <td>0</td>\n",
       "      <td>203.94</td>\n",
       "      <td>1910.88</td>\n",
       "    </tr>\n",
       "    <tr>\n",
       "      <th>3</th>\n",
       "      <td>4598-XLKNJ</td>\n",
       "      <td>1</td>\n",
       "      <td>25</td>\n",
       "      <td>Offer C</td>\n",
       "      <td>Yes</td>\n",
       "      <td>19.76</td>\n",
       "      <td>No</td>\n",
       "      <td>Yes</td>\n",
       "      <td>Fiber Optic</td>\n",
       "      <td>12</td>\n",
       "      <td>...</td>\n",
       "      <td>Yes</td>\n",
       "      <td>Month-to-Month</td>\n",
       "      <td>Yes</td>\n",
       "      <td>Bank Withdrawal</td>\n",
       "      <td>98.50</td>\n",
       "      <td>2514.50</td>\n",
       "      <td>13.43</td>\n",
       "      <td>0</td>\n",
       "      <td>494.00</td>\n",
       "      <td>2995.07</td>\n",
       "    </tr>\n",
       "    <tr>\n",
       "      <th>4</th>\n",
       "      <td>4846-WHAFZ</td>\n",
       "      <td>1</td>\n",
       "      <td>37</td>\n",
       "      <td>Offer C</td>\n",
       "      <td>Yes</td>\n",
       "      <td>6.33</td>\n",
       "      <td>Yes</td>\n",
       "      <td>Yes</td>\n",
       "      <td>Fiber Optic</td>\n",
       "      <td>14</td>\n",
       "      <td>...</td>\n",
       "      <td>Yes</td>\n",
       "      <td>Month-to-Month</td>\n",
       "      <td>Yes</td>\n",
       "      <td>Bank Withdrawal</td>\n",
       "      <td>76.50</td>\n",
       "      <td>2868.15</td>\n",
       "      <td>0.00</td>\n",
       "      <td>0</td>\n",
       "      <td>234.21</td>\n",
       "      <td>3102.36</td>\n",
       "    </tr>\n",
       "  </tbody>\n",
       "</table>\n",
       "<p>5 rows × 27 columns</p>\n",
       "</div>"
      ],
      "text/plain": [
       "  Customer ID  Number of Referrals  Tenure in Months    Offer Phone Service  \\\n",
       "0  8779-QRDMV                    0                 1     None            No   \n",
       "1  7495-OOKFY                    1                 8  Offer E           Yes   \n",
       "2  1658-BYGOY                    0                18  Offer D           Yes   \n",
       "3  4598-XLKNJ                    1                25  Offer C           Yes   \n",
       "4  4846-WHAFZ                    1                37  Offer C           Yes   \n",
       "\n",
       "   Avg Monthly Long Distance Charges Multiple Lines Internet Service  \\\n",
       "0                               0.00             No              Yes   \n",
       "1                              48.85            Yes              Yes   \n",
       "2                              11.33            Yes              Yes   \n",
       "3                              19.76             No              Yes   \n",
       "4                               6.33            Yes              Yes   \n",
       "\n",
       "  Internet Type  Avg Monthly GB Download  ... Unlimited Data        Contract  \\\n",
       "0           DSL                        8  ...             No  Month-to-Month   \n",
       "1   Fiber Optic                       17  ...            Yes  Month-to-Month   \n",
       "2   Fiber Optic                       52  ...            Yes  Month-to-Month   \n",
       "3   Fiber Optic                       12  ...            Yes  Month-to-Month   \n",
       "4   Fiber Optic                       14  ...            Yes  Month-to-Month   \n",
       "\n",
       "  Paperless Billing   Payment Method Monthly Charge Total Charges  \\\n",
       "0               Yes  Bank Withdrawal          39.65         39.65   \n",
       "1               Yes      Credit Card          80.65        633.30   \n",
       "2               Yes  Bank Withdrawal          95.45       1752.55   \n",
       "3               Yes  Bank Withdrawal          98.50       2514.50   \n",
       "4               Yes  Bank Withdrawal          76.50       2868.15   \n",
       "\n",
       "  Total Refunds Total Extra Data Charges Total Long Distance Charges  \\\n",
       "0          0.00                       20                        0.00   \n",
       "1          0.00                        0                      390.80   \n",
       "2         45.61                        0                      203.94   \n",
       "3         13.43                        0                      494.00   \n",
       "4          0.00                        0                      234.21   \n",
       "\n",
       "  Total Revenue  \n",
       "0         59.65  \n",
       "1       1024.10  \n",
       "2       1910.88  \n",
       "3       2995.07  \n",
       "4       3102.36  \n",
       "\n",
       "[5 rows x 27 columns]"
      ]
     },
     "execution_count": 107,
     "metadata": {},
     "output_type": "execute_result"
    }
   ],
   "source": [
    "df_services_m.head()"
   ]
  },
  {
   "cell_type": "code",
   "execution_count": null,
   "metadata": {},
   "outputs": [],
   "source": []
  },
  {
   "cell_type": "code",
   "execution_count": null,
   "metadata": {},
   "outputs": [],
   "source": []
  },
  {
   "cell_type": "code",
   "execution_count": 108,
   "metadata": {},
   "outputs": [],
   "source": [
    "df_final = pd.merge(df_final, df_services_m, on='Customer ID')\n"
   ]
  },
  {
   "cell_type": "code",
   "execution_count": 109,
   "metadata": {},
   "outputs": [
    {
     "data": {
      "text/html": [
       "<div>\n",
       "<style scoped>\n",
       "    .dataframe tbody tr th:only-of-type {\n",
       "        vertical-align: middle;\n",
       "    }\n",
       "\n",
       "    .dataframe tbody tr th {\n",
       "        vertical-align: top;\n",
       "    }\n",
       "\n",
       "    .dataframe thead th {\n",
       "        text-align: right;\n",
       "    }\n",
       "</style>\n",
       "<table border=\"1\" class=\"dataframe\">\n",
       "  <thead>\n",
       "    <tr style=\"text-align: right;\">\n",
       "      <th></th>\n",
       "      <th>Customer ID</th>\n",
       "      <th>Gender</th>\n",
       "      <th>Age</th>\n",
       "      <th>Married</th>\n",
       "      <th>Number of Dependents</th>\n",
       "      <th>City</th>\n",
       "      <th>Population</th>\n",
       "      <th>Number of Referrals</th>\n",
       "      <th>Tenure in Months</th>\n",
       "      <th>Offer</th>\n",
       "      <th>...</th>\n",
       "      <th>Unlimited Data</th>\n",
       "      <th>Contract</th>\n",
       "      <th>Paperless Billing</th>\n",
       "      <th>Payment Method</th>\n",
       "      <th>Monthly Charge</th>\n",
       "      <th>Total Charges</th>\n",
       "      <th>Total Refunds</th>\n",
       "      <th>Total Extra Data Charges</th>\n",
       "      <th>Total Long Distance Charges</th>\n",
       "      <th>Total Revenue</th>\n",
       "    </tr>\n",
       "  </thead>\n",
       "  <tbody>\n",
       "    <tr>\n",
       "      <th>0</th>\n",
       "      <td>8779-QRDMV</td>\n",
       "      <td>Male</td>\n",
       "      <td>78</td>\n",
       "      <td>No</td>\n",
       "      <td>0</td>\n",
       "      <td>Los Angeles</td>\n",
       "      <td>68701</td>\n",
       "      <td>0</td>\n",
       "      <td>1</td>\n",
       "      <td>None</td>\n",
       "      <td>...</td>\n",
       "      <td>No</td>\n",
       "      <td>Month-to-Month</td>\n",
       "      <td>Yes</td>\n",
       "      <td>Bank Withdrawal</td>\n",
       "      <td>39.65</td>\n",
       "      <td>39.65</td>\n",
       "      <td>0.0</td>\n",
       "      <td>20</td>\n",
       "      <td>0.0</td>\n",
       "      <td>59.65</td>\n",
       "    </tr>\n",
       "  </tbody>\n",
       "</table>\n",
       "<p>1 rows × 33 columns</p>\n",
       "</div>"
      ],
      "text/plain": [
       "  Customer ID Gender  Age Married  Number of Dependents         City  \\\n",
       "0  8779-QRDMV   Male   78      No                     0  Los Angeles   \n",
       "\n",
       "   Population  Number of Referrals  Tenure in Months Offer  ...  \\\n",
       "0       68701                    0                 1  None  ...   \n",
       "\n",
       "  Unlimited Data        Contract Paperless Billing   Payment Method  \\\n",
       "0             No  Month-to-Month               Yes  Bank Withdrawal   \n",
       "\n",
       "  Monthly Charge  Total Charges Total Refunds Total Extra Data Charges  \\\n",
       "0          39.65          39.65           0.0                       20   \n",
       "\n",
       "  Total Long Distance Charges Total Revenue  \n",
       "0                         0.0         59.65  \n",
       "\n",
       "[1 rows x 33 columns]"
      ]
     },
     "execution_count": 109,
     "metadata": {},
     "output_type": "execute_result"
    }
   ],
   "source": [
    "df_final.head(1)"
   ]
  },
  {
   "cell_type": "code",
   "execution_count": null,
   "metadata": {},
   "outputs": [],
   "source": []
  },
  {
   "cell_type": "code",
   "execution_count": null,
   "metadata": {},
   "outputs": [],
   "source": []
  },
  {
   "cell_type": "code",
   "execution_count": null,
   "metadata": {},
   "outputs": [],
   "source": []
  },
  {
   "cell_type": "code",
   "execution_count": null,
   "metadata": {},
   "outputs": [],
   "source": []
  },
  {
   "cell_type": "markdown",
   "metadata": {},
   "source": [
    "- Tableau"
   ]
  },
  {
   "cell_type": "code",
   "execution_count": null,
   "metadata": {},
   "outputs": [],
   "source": []
  },
  {
   "cell_type": "code",
   "execution_count": null,
   "metadata": {},
   "outputs": [],
   "source": []
  },
  {
   "cell_type": "code",
   "execution_count": null,
   "metadata": {},
   "outputs": [],
   "source": []
  },
  {
   "cell_type": "markdown",
   "metadata": {},
   "source": [
    "# Status"
   ]
  },
  {
   "cell_type": "code",
   "execution_count": 146,
   "metadata": {},
   "outputs": [
    {
     "data": {
      "text/html": [
       "<div>\n",
       "<style scoped>\n",
       "    .dataframe tbody tr th:only-of-type {\n",
       "        vertical-align: middle;\n",
       "    }\n",
       "\n",
       "    .dataframe tbody tr th {\n",
       "        vertical-align: top;\n",
       "    }\n",
       "\n",
       "    .dataframe thead th {\n",
       "        text-align: right;\n",
       "    }\n",
       "</style>\n",
       "<table border=\"1\" class=\"dataframe\">\n",
       "  <thead>\n",
       "    <tr style=\"text-align: right;\">\n",
       "      <th></th>\n",
       "      <th>Customer ID</th>\n",
       "      <th>Count</th>\n",
       "      <th>Quarter</th>\n",
       "      <th>Satisfaction Score</th>\n",
       "      <th>Customer Status</th>\n",
       "      <th>Churn Label</th>\n",
       "      <th>Churn Value</th>\n",
       "      <th>Churn Score</th>\n",
       "      <th>CLTV</th>\n",
       "      <th>Churn Category</th>\n",
       "      <th>Churn Reason</th>\n",
       "    </tr>\n",
       "  </thead>\n",
       "  <tbody>\n",
       "    <tr>\n",
       "      <th>0</th>\n",
       "      <td>8779-QRDMV</td>\n",
       "      <td>1</td>\n",
       "      <td>Q3</td>\n",
       "      <td>3</td>\n",
       "      <td>Churned</td>\n",
       "      <td>Yes</td>\n",
       "      <td>1</td>\n",
       "      <td>91</td>\n",
       "      <td>5433</td>\n",
       "      <td>Competitor</td>\n",
       "      <td>Competitor offered more data</td>\n",
       "    </tr>\n",
       "    <tr>\n",
       "      <th>1</th>\n",
       "      <td>7495-OOKFY</td>\n",
       "      <td>1</td>\n",
       "      <td>Q3</td>\n",
       "      <td>3</td>\n",
       "      <td>Churned</td>\n",
       "      <td>Yes</td>\n",
       "      <td>1</td>\n",
       "      <td>69</td>\n",
       "      <td>5302</td>\n",
       "      <td>Competitor</td>\n",
       "      <td>Competitor made better offer</td>\n",
       "    </tr>\n",
       "    <tr>\n",
       "      <th>2</th>\n",
       "      <td>1658-BYGOY</td>\n",
       "      <td>1</td>\n",
       "      <td>Q3</td>\n",
       "      <td>2</td>\n",
       "      <td>Churned</td>\n",
       "      <td>Yes</td>\n",
       "      <td>1</td>\n",
       "      <td>81</td>\n",
       "      <td>3179</td>\n",
       "      <td>Competitor</td>\n",
       "      <td>Competitor made better offer</td>\n",
       "    </tr>\n",
       "    <tr>\n",
       "      <th>3</th>\n",
       "      <td>4598-XLKNJ</td>\n",
       "      <td>1</td>\n",
       "      <td>Q3</td>\n",
       "      <td>2</td>\n",
       "      <td>Churned</td>\n",
       "      <td>Yes</td>\n",
       "      <td>1</td>\n",
       "      <td>88</td>\n",
       "      <td>5337</td>\n",
       "      <td>Dissatisfaction</td>\n",
       "      <td>Limited range of services</td>\n",
       "    </tr>\n",
       "    <tr>\n",
       "      <th>4</th>\n",
       "      <td>4846-WHAFZ</td>\n",
       "      <td>1</td>\n",
       "      <td>Q3</td>\n",
       "      <td>2</td>\n",
       "      <td>Churned</td>\n",
       "      <td>Yes</td>\n",
       "      <td>1</td>\n",
       "      <td>67</td>\n",
       "      <td>2793</td>\n",
       "      <td>Price</td>\n",
       "      <td>Extra data charges</td>\n",
       "    </tr>\n",
       "  </tbody>\n",
       "</table>\n",
       "</div>"
      ],
      "text/plain": [
       "  Customer ID  Count Quarter  Satisfaction Score Customer Status Churn Label  \\\n",
       "0  8779-QRDMV      1      Q3                   3         Churned         Yes   \n",
       "1  7495-OOKFY      1      Q3                   3         Churned         Yes   \n",
       "2  1658-BYGOY      1      Q3                   2         Churned         Yes   \n",
       "3  4598-XLKNJ      1      Q3                   2         Churned         Yes   \n",
       "4  4846-WHAFZ      1      Q3                   2         Churned         Yes   \n",
       "\n",
       "   Churn Value  Churn Score  CLTV   Churn Category  \\\n",
       "0            1           91  5433       Competitor   \n",
       "1            1           69  5302       Competitor   \n",
       "2            1           81  3179       Competitor   \n",
       "3            1           88  5337  Dissatisfaction   \n",
       "4            1           67  2793            Price   \n",
       "\n",
       "                   Churn Reason  \n",
       "0  Competitor offered more data  \n",
       "1  Competitor made better offer  \n",
       "2  Competitor made better offer  \n",
       "3     Limited range of services  \n",
       "4            Extra data charges  "
      ]
     },
     "execution_count": 146,
     "metadata": {},
     "output_type": "execute_result"
    }
   ],
   "source": [
    "df_status = pd.read_excel(\"../data/raw_data/Telco_customer_churn_status.xlsx\")\n",
    "df_status.head()"
   ]
  },
  {
   "cell_type": "code",
   "execution_count": 55,
   "metadata": {},
   "outputs": [
    {
     "data": {
      "text/plain": [
       "array(['Q3'], dtype=object)"
      ]
     },
     "execution_count": 55,
     "metadata": {},
     "output_type": "execute_result"
    }
   ],
   "source": [
    "df_status[\"Quarter\"].unique()"
   ]
  },
  {
   "cell_type": "code",
   "execution_count": 147,
   "metadata": {},
   "outputs": [],
   "source": [
    "df_status.drop(columns=[\"Quarter\",\"Count\"], axis=1, inplace=True)"
   ]
  },
  {
   "cell_type": "code",
   "execution_count": 149,
   "metadata": {},
   "outputs": [
    {
     "data": {
      "text/html": [
       "<div>\n",
       "<style scoped>\n",
       "    .dataframe tbody tr th:only-of-type {\n",
       "        vertical-align: middle;\n",
       "    }\n",
       "\n",
       "    .dataframe tbody tr th {\n",
       "        vertical-align: top;\n",
       "    }\n",
       "\n",
       "    .dataframe thead th {\n",
       "        text-align: right;\n",
       "    }\n",
       "</style>\n",
       "<table border=\"1\" class=\"dataframe\">\n",
       "  <thead>\n",
       "    <tr style=\"text-align: right;\">\n",
       "      <th></th>\n",
       "      <th>Customer ID</th>\n",
       "      <th>Satisfaction Score</th>\n",
       "      <th>Customer Status</th>\n",
       "      <th>Churn Label</th>\n",
       "      <th>Churn Value</th>\n",
       "      <th>Churn Score</th>\n",
       "      <th>CLTV</th>\n",
       "      <th>Churn Category</th>\n",
       "      <th>Churn Reason</th>\n",
       "    </tr>\n",
       "  </thead>\n",
       "  <tbody>\n",
       "    <tr>\n",
       "      <th>0</th>\n",
       "      <td>8779-QRDMV</td>\n",
       "      <td>3</td>\n",
       "      <td>Churned</td>\n",
       "      <td>Yes</td>\n",
       "      <td>1</td>\n",
       "      <td>91</td>\n",
       "      <td>5433</td>\n",
       "      <td>Competitor</td>\n",
       "      <td>Competitor offered more data</td>\n",
       "    </tr>\n",
       "  </tbody>\n",
       "</table>\n",
       "</div>"
      ],
      "text/plain": [
       "  Customer ID  Satisfaction Score Customer Status Churn Label  Churn Value  \\\n",
       "0  8779-QRDMV                   3         Churned         Yes            1   \n",
       "\n",
       "   Churn Score  CLTV Churn Category                  Churn Reason  \n",
       "0           91  5433     Competitor  Competitor offered more data  "
      ]
     },
     "execution_count": 149,
     "metadata": {},
     "output_type": "execute_result"
    }
   ],
   "source": [
    "df_status.head(1)"
   ]
  },
  {
   "cell_type": "code",
   "execution_count": 150,
   "metadata": {},
   "outputs": [
    {
     "data": {
      "text/plain": [
       "Customer ID              0\n",
       "Satisfaction Score       0\n",
       "Customer Status          0\n",
       "Churn Label              0\n",
       "Churn Value              0\n",
       "Churn Score              0\n",
       "CLTV                     0\n",
       "Churn Category        5174\n",
       "Churn Reason          5174\n",
       "dtype: int64"
      ]
     },
     "execution_count": 150,
     "metadata": {},
     "output_type": "execute_result"
    }
   ],
   "source": [
    "df_status.isnull().sum()"
   ]
  },
  {
   "cell_type": "code",
   "execution_count": 158,
   "metadata": {},
   "outputs": [
    {
     "name": "stdout",
     "output_type": "stream",
     "text": [
      "<class 'pandas.core.frame.DataFrame'>\n",
      "RangeIndex: 7043 entries, 0 to 7042\n",
      "Data columns (total 9 columns):\n",
      " #   Column              Non-Null Count  Dtype \n",
      "---  ------              --------------  ----- \n",
      " 0   Customer ID         7043 non-null   object\n",
      " 1   Satisfaction Score  7043 non-null   int64 \n",
      " 2   Customer Status     7043 non-null   object\n",
      " 3   Churn Label         7043 non-null   object\n",
      " 4   Churn Value         7043 non-null   int64 \n",
      " 5   Churn Score         7043 non-null   int64 \n",
      " 6   CLTV                7043 non-null   int64 \n",
      " 7   Churn Category      1869 non-null   object\n",
      " 8   Churn Reason        1869 non-null   object\n",
      "dtypes: int64(4), object(5)\n",
      "memory usage: 495.3+ KB\n"
     ]
    }
   ],
   "source": [
    "df_status.info()"
   ]
  },
  {
   "cell_type": "code",
   "execution_count": 151,
   "metadata": {},
   "outputs": [],
   "source": [
    "#SQL\n",
    "df_status.to_csv('../data/SQL/df_status.csv', index=False)"
   ]
  },
  {
   "cell_type": "markdown",
   "metadata": {},
   "source": [
    "- ML"
   ]
  },
  {
   "cell_type": "code",
   "execution_count": 113,
   "metadata": {},
   "outputs": [],
   "source": [
    "df_status_m= df_status.copy()"
   ]
  },
  {
   "cell_type": "code",
   "execution_count": 114,
   "metadata": {},
   "outputs": [],
   "source": [
    "df_status_m.drop(columns=[\"Churn Label\"], axis=1, inplace=True)"
   ]
  },
  {
   "cell_type": "code",
   "execution_count": 115,
   "metadata": {},
   "outputs": [
    {
     "data": {
      "text/html": [
       "<div>\n",
       "<style scoped>\n",
       "    .dataframe tbody tr th:only-of-type {\n",
       "        vertical-align: middle;\n",
       "    }\n",
       "\n",
       "    .dataframe tbody tr th {\n",
       "        vertical-align: top;\n",
       "    }\n",
       "\n",
       "    .dataframe thead th {\n",
       "        text-align: right;\n",
       "    }\n",
       "</style>\n",
       "<table border=\"1\" class=\"dataframe\">\n",
       "  <thead>\n",
       "    <tr style=\"text-align: right;\">\n",
       "      <th></th>\n",
       "      <th>Customer ID</th>\n",
       "      <th>Satisfaction Score</th>\n",
       "      <th>Customer Status</th>\n",
       "      <th>Churn Value</th>\n",
       "      <th>Churn Score</th>\n",
       "      <th>CLTV</th>\n",
       "      <th>Churn Category</th>\n",
       "      <th>Churn Reason</th>\n",
       "    </tr>\n",
       "  </thead>\n",
       "  <tbody>\n",
       "    <tr>\n",
       "      <th>0</th>\n",
       "      <td>8779-QRDMV</td>\n",
       "      <td>3</td>\n",
       "      <td>Churned</td>\n",
       "      <td>1</td>\n",
       "      <td>91</td>\n",
       "      <td>5433</td>\n",
       "      <td>Competitor</td>\n",
       "      <td>Competitor offered more data</td>\n",
       "    </tr>\n",
       "    <tr>\n",
       "      <th>1</th>\n",
       "      <td>7495-OOKFY</td>\n",
       "      <td>3</td>\n",
       "      <td>Churned</td>\n",
       "      <td>1</td>\n",
       "      <td>69</td>\n",
       "      <td>5302</td>\n",
       "      <td>Competitor</td>\n",
       "      <td>Competitor made better offer</td>\n",
       "    </tr>\n",
       "    <tr>\n",
       "      <th>2</th>\n",
       "      <td>1658-BYGOY</td>\n",
       "      <td>2</td>\n",
       "      <td>Churned</td>\n",
       "      <td>1</td>\n",
       "      <td>81</td>\n",
       "      <td>3179</td>\n",
       "      <td>Competitor</td>\n",
       "      <td>Competitor made better offer</td>\n",
       "    </tr>\n",
       "    <tr>\n",
       "      <th>3</th>\n",
       "      <td>4598-XLKNJ</td>\n",
       "      <td>2</td>\n",
       "      <td>Churned</td>\n",
       "      <td>1</td>\n",
       "      <td>88</td>\n",
       "      <td>5337</td>\n",
       "      <td>Dissatisfaction</td>\n",
       "      <td>Limited range of services</td>\n",
       "    </tr>\n",
       "    <tr>\n",
       "      <th>4</th>\n",
       "      <td>4846-WHAFZ</td>\n",
       "      <td>2</td>\n",
       "      <td>Churned</td>\n",
       "      <td>1</td>\n",
       "      <td>67</td>\n",
       "      <td>2793</td>\n",
       "      <td>Price</td>\n",
       "      <td>Extra data charges</td>\n",
       "    </tr>\n",
       "  </tbody>\n",
       "</table>\n",
       "</div>"
      ],
      "text/plain": [
       "  Customer ID  Satisfaction Score Customer Status  Churn Value  Churn Score  \\\n",
       "0  8779-QRDMV                   3         Churned            1           91   \n",
       "1  7495-OOKFY                   3         Churned            1           69   \n",
       "2  1658-BYGOY                   2         Churned            1           81   \n",
       "3  4598-XLKNJ                   2         Churned            1           88   \n",
       "4  4846-WHAFZ                   2         Churned            1           67   \n",
       "\n",
       "   CLTV   Churn Category                  Churn Reason  \n",
       "0  5433       Competitor  Competitor offered more data  \n",
       "1  5302       Competitor  Competitor made better offer  \n",
       "2  3179       Competitor  Competitor made better offer  \n",
       "3  5337  Dissatisfaction     Limited range of services  \n",
       "4  2793            Price            Extra data charges  "
      ]
     },
     "execution_count": 115,
     "metadata": {},
     "output_type": "execute_result"
    }
   ],
   "source": [
    "df_status_m.head()"
   ]
  },
  {
   "cell_type": "code",
   "execution_count": 57,
   "metadata": {},
   "outputs": [
    {
     "data": {
      "text/plain": [
       "array(['Yes', 'No'], dtype=object)"
      ]
     },
     "execution_count": 57,
     "metadata": {},
     "output_type": "execute_result"
    }
   ],
   "source": [
    "df_status[\"Churn Label\"].unique()"
   ]
  },
  {
   "cell_type": "code",
   "execution_count": 8,
   "metadata": {},
   "outputs": [],
   "source": [
    "df_status.drop(columns=[\"Quarter\",\"Churn Label\"], axis=1, inplace=True)"
   ]
  },
  {
   "cell_type": "code",
   "execution_count": 10,
   "metadata": {},
   "outputs": [
    {
     "data": {
      "text/plain": [
       "array([3, 2, 1, 4, 5])"
      ]
     },
     "execution_count": 10,
     "metadata": {},
     "output_type": "execute_result"
    }
   ],
   "source": [
    "df_status[\"Satisfaction Score\"].unique()"
   ]
  },
  {
   "cell_type": "code",
   "execution_count": 11,
   "metadata": {},
   "outputs": [
    {
     "data": {
      "text/plain": [
       "array(['Churned', 'Stayed', 'Joined'], dtype=object)"
      ]
     },
     "execution_count": 11,
     "metadata": {},
     "output_type": "execute_result"
    }
   ],
   "source": [
    "df_status[\"Customer Status\"].unique()"
   ]
  },
  {
   "cell_type": "code",
   "execution_count": 4,
   "metadata": {},
   "outputs": [
    {
     "data": {
      "text/plain": [
       "array([1, 0])"
      ]
     },
     "execution_count": 4,
     "metadata": {},
     "output_type": "execute_result"
    }
   ],
   "source": [
    "df_status[\"Churn Value\"].unique()"
   ]
  },
  {
   "cell_type": "code",
   "execution_count": 5,
   "metadata": {},
   "outputs": [
    {
     "data": {
      "text/plain": [
       "array(['Competitor', 'Dissatisfaction', 'Price', 'Other', 'Attitude', nan],\n",
       "      dtype=object)"
      ]
     },
     "execution_count": 5,
     "metadata": {},
     "output_type": "execute_result"
    }
   ],
   "source": [
    "df_status[\"Churn Category\"].unique()"
   ]
  },
  {
   "cell_type": "code",
   "execution_count": 7,
   "metadata": {},
   "outputs": [
    {
     "data": {
      "text/plain": [
       "array([91, 69, 81, 88, 67, 95, 76, 85, 86, 65, 96, 84, 80, 73, 83, 90, 89,\n",
       "       87, 82, 74, 66, 92, 72, 70, 94, 68, 75, 93, 77, 79, 71, 78, 38, 40,\n",
       "       52, 25, 59, 21, 55, 60, 28,  8,  7, 50, 36, 23, 41, 34, 26, 56, 44,\n",
       "       30, 62, 24, 47, 22, 32, 64, 27, 29, 54, 39, 45, 33, 58, 35, 20, 31,\n",
       "       61, 49, 37, 63, 48, 57, 42, 53, 46, 43, 51,  9,  5])"
      ]
     },
     "execution_count": 7,
     "metadata": {},
     "output_type": "execute_result"
    }
   ],
   "source": [
    "df_status[\"Churn Score\"].unique()"
   ]
  },
  {
   "cell_type": "code",
   "execution_count": null,
   "metadata": {},
   "outputs": [],
   "source": []
  },
  {
   "cell_type": "code",
   "execution_count": 6,
   "metadata": {},
   "outputs": [
    {
     "data": {
      "text/plain": [
       "array(['Competitor offered more data', 'Competitor made better offer',\n",
       "       'Limited range of services', 'Extra data charges',\n",
       "       'Competitor had better devices', \"Don't know\",\n",
       "       'Service dissatisfaction',\n",
       "       'Lack of affordable download/upload speed',\n",
       "       'Product dissatisfaction', 'Long distance charges',\n",
       "       'Poor expertise of online support', 'Attitude of support person',\n",
       "       'Network reliability', 'Competitor offered higher download speeds',\n",
       "       'Moved', 'Price too high', 'Attitude of service provider',\n",
       "       'Poor expertise of phone support', 'Deceased', nan,\n",
       "       'Lack of self-service on Website'], dtype=object)"
      ]
     },
     "execution_count": 6,
     "metadata": {},
     "output_type": "execute_result"
    }
   ],
   "source": [
    "df_status[\"Churn Reason\"].unique()"
   ]
  },
  {
   "cell_type": "code",
   "execution_count": null,
   "metadata": {},
   "outputs": [],
   "source": []
  },
  {
   "cell_type": "code",
   "execution_count": null,
   "metadata": {},
   "outputs": [],
   "source": []
  },
  {
   "cell_type": "code",
   "execution_count": 9,
   "metadata": {},
   "outputs": [
    {
     "data": {
      "text/html": [
       "<div>\n",
       "<style scoped>\n",
       "    .dataframe tbody tr th:only-of-type {\n",
       "        vertical-align: middle;\n",
       "    }\n",
       "\n",
       "    .dataframe tbody tr th {\n",
       "        vertical-align: top;\n",
       "    }\n",
       "\n",
       "    .dataframe thead th {\n",
       "        text-align: right;\n",
       "    }\n",
       "</style>\n",
       "<table border=\"1\" class=\"dataframe\">\n",
       "  <thead>\n",
       "    <tr style=\"text-align: right;\">\n",
       "      <th></th>\n",
       "      <th>Customer ID</th>\n",
       "      <th>Count</th>\n",
       "      <th>Satisfaction Score</th>\n",
       "      <th>Customer Status</th>\n",
       "      <th>Churn Value</th>\n",
       "      <th>Churn Score</th>\n",
       "      <th>CLTV</th>\n",
       "      <th>Churn Category</th>\n",
       "      <th>Churn Reason</th>\n",
       "    </tr>\n",
       "  </thead>\n",
       "  <tbody>\n",
       "    <tr>\n",
       "      <th>0</th>\n",
       "      <td>8779-QRDMV</td>\n",
       "      <td>1</td>\n",
       "      <td>3</td>\n",
       "      <td>Churned</td>\n",
       "      <td>1</td>\n",
       "      <td>91</td>\n",
       "      <td>5433</td>\n",
       "      <td>Competitor</td>\n",
       "      <td>Competitor offered more data</td>\n",
       "    </tr>\n",
       "    <tr>\n",
       "      <th>1</th>\n",
       "      <td>7495-OOKFY</td>\n",
       "      <td>1</td>\n",
       "      <td>3</td>\n",
       "      <td>Churned</td>\n",
       "      <td>1</td>\n",
       "      <td>69</td>\n",
       "      <td>5302</td>\n",
       "      <td>Competitor</td>\n",
       "      <td>Competitor made better offer</td>\n",
       "    </tr>\n",
       "  </tbody>\n",
       "</table>\n",
       "</div>"
      ],
      "text/plain": [
       "  Customer ID  Count  Satisfaction Score Customer Status  Churn Value  \\\n",
       "0  8779-QRDMV      1                   3         Churned            1   \n",
       "1  7495-OOKFY      1                   3         Churned            1   \n",
       "\n",
       "   Churn Score  CLTV Churn Category                  Churn Reason  \n",
       "0           91  5433     Competitor  Competitor offered more data  \n",
       "1           69  5302     Competitor  Competitor made better offer  "
      ]
     },
     "execution_count": 9,
     "metadata": {},
     "output_type": "execute_result"
    }
   ],
   "source": [
    "df_status.head(2)"
   ]
  },
  {
   "cell_type": "code",
   "execution_count": 62,
   "metadata": {},
   "outputs": [],
   "source": [
    "#SQL\n",
    "df_status.to_csv('../data/SQL/df_status.csv', index=False)"
   ]
  },
  {
   "cell_type": "code",
   "execution_count": null,
   "metadata": {},
   "outputs": [],
   "source": []
  },
  {
   "cell_type": "code",
   "execution_count": 116,
   "metadata": {},
   "outputs": [],
   "source": [
    "df_final = pd.merge(df_final, df_status_m, on='Customer ID')"
   ]
  },
  {
   "cell_type": "code",
   "execution_count": 117,
   "metadata": {},
   "outputs": [
    {
     "data": {
      "text/html": [
       "<div>\n",
       "<style scoped>\n",
       "    .dataframe tbody tr th:only-of-type {\n",
       "        vertical-align: middle;\n",
       "    }\n",
       "\n",
       "    .dataframe tbody tr th {\n",
       "        vertical-align: top;\n",
       "    }\n",
       "\n",
       "    .dataframe thead th {\n",
       "        text-align: right;\n",
       "    }\n",
       "</style>\n",
       "<table border=\"1\" class=\"dataframe\">\n",
       "  <thead>\n",
       "    <tr style=\"text-align: right;\">\n",
       "      <th></th>\n",
       "      <th>Customer ID</th>\n",
       "      <th>Gender</th>\n",
       "      <th>Age</th>\n",
       "      <th>Married</th>\n",
       "      <th>Number of Dependents</th>\n",
       "      <th>City</th>\n",
       "      <th>Population</th>\n",
       "      <th>Number of Referrals</th>\n",
       "      <th>Tenure in Months</th>\n",
       "      <th>Offer</th>\n",
       "      <th>...</th>\n",
       "      <th>Total Extra Data Charges</th>\n",
       "      <th>Total Long Distance Charges</th>\n",
       "      <th>Total Revenue</th>\n",
       "      <th>Satisfaction Score</th>\n",
       "      <th>Customer Status</th>\n",
       "      <th>Churn Value</th>\n",
       "      <th>Churn Score</th>\n",
       "      <th>CLTV</th>\n",
       "      <th>Churn Category</th>\n",
       "      <th>Churn Reason</th>\n",
       "    </tr>\n",
       "  </thead>\n",
       "  <tbody>\n",
       "    <tr>\n",
       "      <th>0</th>\n",
       "      <td>8779-QRDMV</td>\n",
       "      <td>Male</td>\n",
       "      <td>78</td>\n",
       "      <td>No</td>\n",
       "      <td>0</td>\n",
       "      <td>Los Angeles</td>\n",
       "      <td>68701</td>\n",
       "      <td>0</td>\n",
       "      <td>1</td>\n",
       "      <td>None</td>\n",
       "      <td>...</td>\n",
       "      <td>20</td>\n",
       "      <td>0.00</td>\n",
       "      <td>59.65</td>\n",
       "      <td>3</td>\n",
       "      <td>Churned</td>\n",
       "      <td>1</td>\n",
       "      <td>91</td>\n",
       "      <td>5433</td>\n",
       "      <td>Competitor</td>\n",
       "      <td>Competitor offered more data</td>\n",
       "    </tr>\n",
       "    <tr>\n",
       "      <th>1</th>\n",
       "      <td>7495-OOKFY</td>\n",
       "      <td>Female</td>\n",
       "      <td>74</td>\n",
       "      <td>Yes</td>\n",
       "      <td>1</td>\n",
       "      <td>Los Angeles</td>\n",
       "      <td>55668</td>\n",
       "      <td>1</td>\n",
       "      <td>8</td>\n",
       "      <td>Offer E</td>\n",
       "      <td>...</td>\n",
       "      <td>0</td>\n",
       "      <td>390.80</td>\n",
       "      <td>1024.10</td>\n",
       "      <td>3</td>\n",
       "      <td>Churned</td>\n",
       "      <td>1</td>\n",
       "      <td>69</td>\n",
       "      <td>5302</td>\n",
       "      <td>Competitor</td>\n",
       "      <td>Competitor made better offer</td>\n",
       "    </tr>\n",
       "    <tr>\n",
       "      <th>2</th>\n",
       "      <td>1658-BYGOY</td>\n",
       "      <td>Male</td>\n",
       "      <td>71</td>\n",
       "      <td>No</td>\n",
       "      <td>3</td>\n",
       "      <td>Los Angeles</td>\n",
       "      <td>47534</td>\n",
       "      <td>0</td>\n",
       "      <td>18</td>\n",
       "      <td>Offer D</td>\n",
       "      <td>...</td>\n",
       "      <td>0</td>\n",
       "      <td>203.94</td>\n",
       "      <td>1910.88</td>\n",
       "      <td>2</td>\n",
       "      <td>Churned</td>\n",
       "      <td>1</td>\n",
       "      <td>81</td>\n",
       "      <td>3179</td>\n",
       "      <td>Competitor</td>\n",
       "      <td>Competitor made better offer</td>\n",
       "    </tr>\n",
       "    <tr>\n",
       "      <th>3</th>\n",
       "      <td>4598-XLKNJ</td>\n",
       "      <td>Female</td>\n",
       "      <td>78</td>\n",
       "      <td>Yes</td>\n",
       "      <td>1</td>\n",
       "      <td>Inglewood</td>\n",
       "      <td>27778</td>\n",
       "      <td>1</td>\n",
       "      <td>25</td>\n",
       "      <td>Offer C</td>\n",
       "      <td>...</td>\n",
       "      <td>0</td>\n",
       "      <td>494.00</td>\n",
       "      <td>2995.07</td>\n",
       "      <td>2</td>\n",
       "      <td>Churned</td>\n",
       "      <td>1</td>\n",
       "      <td>88</td>\n",
       "      <td>5337</td>\n",
       "      <td>Dissatisfaction</td>\n",
       "      <td>Limited range of services</td>\n",
       "    </tr>\n",
       "    <tr>\n",
       "      <th>4</th>\n",
       "      <td>4846-WHAFZ</td>\n",
       "      <td>Female</td>\n",
       "      <td>80</td>\n",
       "      <td>Yes</td>\n",
       "      <td>1</td>\n",
       "      <td>Whittier</td>\n",
       "      <td>26265</td>\n",
       "      <td>1</td>\n",
       "      <td>37</td>\n",
       "      <td>Offer C</td>\n",
       "      <td>...</td>\n",
       "      <td>0</td>\n",
       "      <td>234.21</td>\n",
       "      <td>3102.36</td>\n",
       "      <td>2</td>\n",
       "      <td>Churned</td>\n",
       "      <td>1</td>\n",
       "      <td>67</td>\n",
       "      <td>2793</td>\n",
       "      <td>Price</td>\n",
       "      <td>Extra data charges</td>\n",
       "    </tr>\n",
       "  </tbody>\n",
       "</table>\n",
       "<p>5 rows × 40 columns</p>\n",
       "</div>"
      ],
      "text/plain": [
       "  Customer ID  Gender  Age Married  Number of Dependents         City  \\\n",
       "0  8779-QRDMV    Male   78      No                     0  Los Angeles   \n",
       "1  7495-OOKFY  Female   74     Yes                     1  Los Angeles   \n",
       "2  1658-BYGOY    Male   71      No                     3  Los Angeles   \n",
       "3  4598-XLKNJ  Female   78     Yes                     1    Inglewood   \n",
       "4  4846-WHAFZ  Female   80     Yes                     1     Whittier   \n",
       "\n",
       "   Population  Number of Referrals  Tenure in Months    Offer  ...  \\\n",
       "0       68701                    0                 1     None  ...   \n",
       "1       55668                    1                 8  Offer E  ...   \n",
       "2       47534                    0                18  Offer D  ...   \n",
       "3       27778                    1                25  Offer C  ...   \n",
       "4       26265                    1                37  Offer C  ...   \n",
       "\n",
       "  Total Extra Data Charges  Total Long Distance Charges Total Revenue  \\\n",
       "0                       20                         0.00         59.65   \n",
       "1                        0                       390.80       1024.10   \n",
       "2                        0                       203.94       1910.88   \n",
       "3                        0                       494.00       2995.07   \n",
       "4                        0                       234.21       3102.36   \n",
       "\n",
       "  Satisfaction Score Customer Status  Churn Value Churn Score  CLTV  \\\n",
       "0                  3         Churned            1          91  5433   \n",
       "1                  3         Churned            1          69  5302   \n",
       "2                  2         Churned            1          81  3179   \n",
       "3                  2         Churned            1          88  5337   \n",
       "4                  2         Churned            1          67  2793   \n",
       "\n",
       "    Churn Category                  Churn Reason  \n",
       "0       Competitor  Competitor offered more data  \n",
       "1       Competitor  Competitor made better offer  \n",
       "2       Competitor  Competitor made better offer  \n",
       "3  Dissatisfaction     Limited range of services  \n",
       "4            Price            Extra data charges  \n",
       "\n",
       "[5 rows x 40 columns]"
      ]
     },
     "execution_count": 117,
     "metadata": {},
     "output_type": "execute_result"
    }
   ],
   "source": [
    "df_final.head()"
   ]
  },
  {
   "cell_type": "code",
   "execution_count": 118,
   "metadata": {},
   "outputs": [],
   "source": [
    "#ML \n",
    "\n",
    "df_final.to_csv('../data/ML/df_final.csv', index=False)"
   ]
  },
  {
   "cell_type": "markdown",
   "metadata": {},
   "source": [
    "# Churn xxxxxxx"
   ]
  },
  {
   "cell_type": "code",
   "execution_count": null,
   "metadata": {},
   "outputs": [],
   "source": []
  },
  {
   "cell_type": "code",
   "execution_count": 64,
   "metadata": {},
   "outputs": [
    {
     "data": {
      "text/html": [
       "<div>\n",
       "<style scoped>\n",
       "    .dataframe tbody tr th:only-of-type {\n",
       "        vertical-align: middle;\n",
       "    }\n",
       "\n",
       "    .dataframe tbody tr th {\n",
       "        vertical-align: top;\n",
       "    }\n",
       "\n",
       "    .dataframe thead th {\n",
       "        text-align: right;\n",
       "    }\n",
       "</style>\n",
       "<table border=\"1\" class=\"dataframe\">\n",
       "  <thead>\n",
       "    <tr style=\"text-align: right;\">\n",
       "      <th></th>\n",
       "      <th>CustomerID</th>\n",
       "      <th>Count</th>\n",
       "      <th>Country</th>\n",
       "      <th>State</th>\n",
       "      <th>City</th>\n",
       "      <th>Zip Code</th>\n",
       "      <th>Lat Long</th>\n",
       "      <th>Latitude</th>\n",
       "      <th>Longitude</th>\n",
       "      <th>Gender</th>\n",
       "      <th>...</th>\n",
       "      <th>Contract</th>\n",
       "      <th>Paperless Billing</th>\n",
       "      <th>Payment Method</th>\n",
       "      <th>Monthly Charges</th>\n",
       "      <th>Total Charges</th>\n",
       "      <th>Churn Label</th>\n",
       "      <th>Churn Value</th>\n",
       "      <th>Churn Score</th>\n",
       "      <th>CLTV</th>\n",
       "      <th>Churn Reason</th>\n",
       "    </tr>\n",
       "  </thead>\n",
       "  <tbody>\n",
       "    <tr>\n",
       "      <th>0</th>\n",
       "      <td>3668-QPYBK</td>\n",
       "      <td>1</td>\n",
       "      <td>United States</td>\n",
       "      <td>California</td>\n",
       "      <td>Los Angeles</td>\n",
       "      <td>90003</td>\n",
       "      <td>33.964131, -118.272783</td>\n",
       "      <td>33.964131</td>\n",
       "      <td>-118.272783</td>\n",
       "      <td>Male</td>\n",
       "      <td>...</td>\n",
       "      <td>Month-to-month</td>\n",
       "      <td>Yes</td>\n",
       "      <td>Mailed check</td>\n",
       "      <td>53.85</td>\n",
       "      <td>108.15</td>\n",
       "      <td>Yes</td>\n",
       "      <td>1</td>\n",
       "      <td>86</td>\n",
       "      <td>3239</td>\n",
       "      <td>Competitor made better offer</td>\n",
       "    </tr>\n",
       "    <tr>\n",
       "      <th>1</th>\n",
       "      <td>9237-HQITU</td>\n",
       "      <td>1</td>\n",
       "      <td>United States</td>\n",
       "      <td>California</td>\n",
       "      <td>Los Angeles</td>\n",
       "      <td>90005</td>\n",
       "      <td>34.059281, -118.30742</td>\n",
       "      <td>34.059281</td>\n",
       "      <td>-118.307420</td>\n",
       "      <td>Female</td>\n",
       "      <td>...</td>\n",
       "      <td>Month-to-month</td>\n",
       "      <td>Yes</td>\n",
       "      <td>Electronic check</td>\n",
       "      <td>70.70</td>\n",
       "      <td>151.65</td>\n",
       "      <td>Yes</td>\n",
       "      <td>1</td>\n",
       "      <td>67</td>\n",
       "      <td>2701</td>\n",
       "      <td>Moved</td>\n",
       "    </tr>\n",
       "    <tr>\n",
       "      <th>2</th>\n",
       "      <td>9305-CDSKC</td>\n",
       "      <td>1</td>\n",
       "      <td>United States</td>\n",
       "      <td>California</td>\n",
       "      <td>Los Angeles</td>\n",
       "      <td>90006</td>\n",
       "      <td>34.048013, -118.293953</td>\n",
       "      <td>34.048013</td>\n",
       "      <td>-118.293953</td>\n",
       "      <td>Female</td>\n",
       "      <td>...</td>\n",
       "      <td>Month-to-month</td>\n",
       "      <td>Yes</td>\n",
       "      <td>Electronic check</td>\n",
       "      <td>99.65</td>\n",
       "      <td>820.5</td>\n",
       "      <td>Yes</td>\n",
       "      <td>1</td>\n",
       "      <td>86</td>\n",
       "      <td>5372</td>\n",
       "      <td>Moved</td>\n",
       "    </tr>\n",
       "    <tr>\n",
       "      <th>3</th>\n",
       "      <td>7892-POOKP</td>\n",
       "      <td>1</td>\n",
       "      <td>United States</td>\n",
       "      <td>California</td>\n",
       "      <td>Los Angeles</td>\n",
       "      <td>90010</td>\n",
       "      <td>34.062125, -118.315709</td>\n",
       "      <td>34.062125</td>\n",
       "      <td>-118.315709</td>\n",
       "      <td>Female</td>\n",
       "      <td>...</td>\n",
       "      <td>Month-to-month</td>\n",
       "      <td>Yes</td>\n",
       "      <td>Electronic check</td>\n",
       "      <td>104.80</td>\n",
       "      <td>3046.05</td>\n",
       "      <td>Yes</td>\n",
       "      <td>1</td>\n",
       "      <td>84</td>\n",
       "      <td>5003</td>\n",
       "      <td>Moved</td>\n",
       "    </tr>\n",
       "    <tr>\n",
       "      <th>4</th>\n",
       "      <td>0280-XJGEX</td>\n",
       "      <td>1</td>\n",
       "      <td>United States</td>\n",
       "      <td>California</td>\n",
       "      <td>Los Angeles</td>\n",
       "      <td>90015</td>\n",
       "      <td>34.039224, -118.266293</td>\n",
       "      <td>34.039224</td>\n",
       "      <td>-118.266293</td>\n",
       "      <td>Male</td>\n",
       "      <td>...</td>\n",
       "      <td>Month-to-month</td>\n",
       "      <td>Yes</td>\n",
       "      <td>Bank transfer (automatic)</td>\n",
       "      <td>103.70</td>\n",
       "      <td>5036.3</td>\n",
       "      <td>Yes</td>\n",
       "      <td>1</td>\n",
       "      <td>89</td>\n",
       "      <td>5340</td>\n",
       "      <td>Competitor had better devices</td>\n",
       "    </tr>\n",
       "  </tbody>\n",
       "</table>\n",
       "<p>5 rows × 33 columns</p>\n",
       "</div>"
      ],
      "text/plain": [
       "   CustomerID  Count        Country       State         City  Zip Code  \\\n",
       "0  3668-QPYBK      1  United States  California  Los Angeles     90003   \n",
       "1  9237-HQITU      1  United States  California  Los Angeles     90005   \n",
       "2  9305-CDSKC      1  United States  California  Los Angeles     90006   \n",
       "3  7892-POOKP      1  United States  California  Los Angeles     90010   \n",
       "4  0280-XJGEX      1  United States  California  Los Angeles     90015   \n",
       "\n",
       "                 Lat Long   Latitude   Longitude  Gender  ...        Contract  \\\n",
       "0  33.964131, -118.272783  33.964131 -118.272783    Male  ...  Month-to-month   \n",
       "1   34.059281, -118.30742  34.059281 -118.307420  Female  ...  Month-to-month   \n",
       "2  34.048013, -118.293953  34.048013 -118.293953  Female  ...  Month-to-month   \n",
       "3  34.062125, -118.315709  34.062125 -118.315709  Female  ...  Month-to-month   \n",
       "4  34.039224, -118.266293  34.039224 -118.266293    Male  ...  Month-to-month   \n",
       "\n",
       "  Paperless Billing             Payment Method  Monthly Charges Total Charges  \\\n",
       "0               Yes               Mailed check            53.85        108.15   \n",
       "1               Yes           Electronic check            70.70        151.65   \n",
       "2               Yes           Electronic check            99.65         820.5   \n",
       "3               Yes           Electronic check           104.80       3046.05   \n",
       "4               Yes  Bank transfer (automatic)           103.70        5036.3   \n",
       "\n",
       "  Churn Label Churn Value Churn Score  CLTV                   Churn Reason  \n",
       "0         Yes           1          86  3239   Competitor made better offer  \n",
       "1         Yes           1          67  2701                          Moved  \n",
       "2         Yes           1          86  5372                          Moved  \n",
       "3         Yes           1          84  5003                          Moved  \n",
       "4         Yes           1          89  5340  Competitor had better devices  \n",
       "\n",
       "[5 rows x 33 columns]"
      ]
     },
     "execution_count": 64,
     "metadata": {},
     "output_type": "execute_result"
    }
   ],
   "source": [
    "df_churn = pd.read_excel(\"../data/raw_data/Telco_customer_churn.xlsx\")\n",
    "df_churn.head()"
   ]
  },
  {
   "cell_type": "code",
   "execution_count": 65,
   "metadata": {},
   "outputs": [
    {
     "data": {
      "text/plain": [
       "Index(['CustomerID', 'Count', 'Country', 'State', 'City', 'Zip Code',\n",
       "       'Lat Long', 'Latitude', 'Longitude', 'Gender', 'Senior Citizen',\n",
       "       'Partner', 'Dependents', 'Tenure Months', 'Phone Service',\n",
       "       'Multiple Lines', 'Internet Service', 'Online Security',\n",
       "       'Online Backup', 'Device Protection', 'Tech Support', 'Streaming TV',\n",
       "       'Streaming Movies', 'Contract', 'Paperless Billing', 'Payment Method',\n",
       "       'Monthly Charges', 'Total Charges', 'Churn Label', 'Churn Value',\n",
       "       'Churn Score', 'CLTV', 'Churn Reason'],\n",
       "      dtype='object')"
      ]
     },
     "execution_count": 65,
     "metadata": {},
     "output_type": "execute_result"
    }
   ],
   "source": [
    "df_churn.columns"
   ]
  },
  {
   "cell_type": "code",
   "execution_count": null,
   "metadata": {},
   "outputs": [],
   "source": []
  },
  {
   "cell_type": "code",
   "execution_count": null,
   "metadata": {},
   "outputs": [],
   "source": []
  }
 ],
 "metadata": {
  "kernelspec": {
   "display_name": "iron",
   "language": "python",
   "name": "iron"
  },
  "language_info": {
   "codemirror_mode": {
    "name": "ipython",
    "version": 3
   },
   "file_extension": ".py",
   "mimetype": "text/x-python",
   "name": "python",
   "nbconvert_exporter": "python",
   "pygments_lexer": "ipython3",
   "version": "3.9.13"
  }
 },
 "nbformat": 4,
 "nbformat_minor": 4
}
